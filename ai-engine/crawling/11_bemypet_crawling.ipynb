{
 "cells": [
  {
   "cell_type": "markdown",
   "id": "af3ba7e3",
   "metadata": {},
   "source": [
    "### 비마이펫 사이트 크롤링 코드"
   ]
  },
  {
   "cell_type": "code",
   "execution_count": 5,
   "id": "7f5bddda",
   "metadata": {},
   "outputs": [
    {
     "name": "stdout",
     "output_type": "stream",
     "text": [
      "✅ 총 기사 수: 10\n",
      "📌 제목: 아기 강아지가 특히 취약한 질병 4가지와 예방법\n",
      "📝 요약: 초보 보호자라면 꼭 알아야 할 생후 초기 건강관리 팁\n",
      "\n",
      "\n",
      "\n",
      "아기 강아지는 작고 여린 만큼 건강 관리에 특별한 주의가 필요합니다. 아직 면역 체계가 완전히 발달하지 않았기 때문에, \n",
      "----------------------------------------\n",
      "📌 제목: 강아지 고양이 소변검사, 받아야 하는 이유와 주요 항목\n",
      "📝 요약: 최근 반려동물 보호자들 사이에서 '반려동물 소변검사 셀프 키트'가 인기를 끌고 있습니다.집에서 간편하게 반려견이나 고양이의 소변을 채취하고, 검사지에 따라 색 변화로 건강 상태를 \n",
      "----------------------------------------\n",
      "📌 제목: 강아지 음수량 늘리기 방법 5가지｜실내에서 쉽게 실천하는 꿀팁 모음\n",
      "📝 요약: 강아지의 건강을 지키는 가장 간단한 방법 중 하나가 충분한 물을 마시게 하는 것이라는 사실, 알고 계셨나요?특히 1~7세의 성견은 신체 기능이 활발히 유지되고 있는 시기이지만, 자\n",
      "----------------------------------------\n",
      "📌 제목: 강아지 쿠싱 증후군, 조용한 암살자를 아시나요?\n",
      "📝 요약: 강아지 쿠싱 증후군(Cushing's syndrome)은 '조용한 암살자'라는 별명이 붙을 정도로 서서히, 그러나 치명적으로 강아지의 건강을 위협하는 질병입니다. 주로 노령견에게 \n",
      "----------------------------------------\n",
      "📌 제목: 노령견의 면역력, 어떻게 지켜야 할까요?\n",
      "📝 요약: 면역력이 약해지는 노령견을 위한 생활 습관 가이드\n",
      "\n",
      "\n",
      "\n",
      "나이가 들면서 강아지의 몸에는 다양한 변화가 나타나기 시작합니다. 그중 가장 중요한 변화 중 하나는 바로 면역력 저하입니다.\n",
      "----------------------------------------\n",
      "📌 제목: 봄철 강아지 발바닥 관리, 지금부터 시작해야 하는 이유\n",
      "📝 요약: 따뜻한 봄이 찾아오면 강아지와 함께하는 산책이 더욱 잦아지고 길어집니다.하지만 기분 좋은 계절 변화와 달리, 강아지 발바닥에는 위협이 도사리고 있어요.꽃가루, 황사, 잔디 찌꺼기,\n",
      "----------------------------------------\n",
      "📌 제목: 강아지도 고혈압에 걸려요 – 놓치기 쉬운 증상과 예방법 총정리\n",
      "📝 요약: 강아지가 갑자기 예전보다 무기력해졌다면, 단순한 피로가 아니라 '고혈압(hypertension)' 때문일 수 있다는 사실, 알고 계셨나요?\n",
      "\n",
      "\n",
      "\n",
      "고혈압은 사람만의 질환이 아닙니다.\n",
      "----------------------------------------\n",
      "📌 제목: 강아지 꽃 알레르기, 생각보다 흔해요\n",
      "📝 요약: 예쁜 꽃이 피는 계절, 보호자와 강아지 모두 산책이 즐거워지는 시기입니다.꽃과 함께 사진을 찍거나, 꽃다발을 집에 들이기도 하죠. 하지만 강아지 꽃 알레르기는 이 시기에 특히 조심\n",
      "----------------------------------------\n",
      "📌 제목: 강아지 혀가 파래졌다면? 청색증 증상, 원인, 심장병 가능성까지\n",
      "📝 요약: 강아지의 잇몸이나 혀가 평소보다 푸르스름하게 보인다면, 단순한 컨디션 저하로 넘기지 마세요. 이는 ‘청색증’이라는 중요한 증상일 수 있으며, 심각한 심장병이나 호흡기 질환의 징후일\n",
      "----------------------------------------\n",
      "📌 제목: 강아지 항문낭 주기, 놓치면 피·부음·염증까지? 반드시 알아야 할 관리법\n",
      "📝 요약: “강아지가 엉덩이를 바닥에 비비는 모습, 본 적 있으신가요?”보호자들 사이에서는 이 행동을 귀엽게 '똥꼬스키’라고 부르기도 하죠. 하지만 귀엽다고 웃고 넘길 일만은 아닙니다. 이 \n",
      "----------------------------------------\n"
     ]
    }
   ],
   "source": [
    "from selenium import webdriver\n",
    "from selenium.webdriver.chrome.options import Options\n",
    "from bs4 import BeautifulSoup\n",
    "import re\n",
    "import time\n",
    "\n",
    "# 셀레니움 기본 설정\n",
    "options = Options()\n",
    "options.add_argument(\"--headless\")\n",
    "options.add_argument(\"--disable-gpu\")\n",
    "driver = webdriver.Chrome(options=options)\n",
    "\n",
    "# 페이지 열기\n",
    "url = 'https://bemypet.kr/content/doglab?p=1'\n",
    "driver.get(url)\n",
    "time.sleep(3)\n",
    "\n",
    "# soup 생성\n",
    "soup = BeautifulSoup(driver.page_source, 'html.parser')\n",
    "driver.quit()\n",
    "\n",
    "# 기사 블록 추출 (class가 변하므로 prefix로 처리)\n",
    "articles = soup.find_all(\"div\", class_=re.compile(\"^textContent_textContentBox\"))\n",
    "\n",
    "print(\"✅ 총 기사 수:\", len(articles))\n",
    "\n",
    "for a in articles:\n",
    "    title = a.find(\"div\", class_=re.compile(\"^textContent_textContentTitle\"))\n",
    "    summary = a.find(\"div\", class_=re.compile(\"^textContent_textContentText\"))\n",
    "    \n",
    "    print(\"📌 제목:\", title.get_text(strip=True) if title else \"없음\")\n",
    "    print(\"📝 요약:\", summary.get_text(strip=True)[:100] if summary else \"없음\")\n",
    "    print(\"-\" * 40)\n"
   ]
  },
  {
   "cell_type": "code",
   "execution_count": null,
   "id": "05507fba",
   "metadata": {},
   "outputs": [
    {
     "name": "stdout",
     "output_type": "stream",
     "text": [
      "📄 마지막 페이지: 127\n",
      "\n",
      "📍 페이지 1 수집 중...\n",
      "✅ 누적 수집 기사 수: 10\n",
      "\n",
      "📍 페이지 2 수집 중...\n",
      "✅ 누적 수집 기사 수: 20\n",
      "\n",
      "📍 페이지 3 수집 중...\n",
      "✅ 누적 수집 기사 수: 30\n",
      "\n",
      "📍 페이지 4 수집 중...\n",
      "✅ 누적 수집 기사 수: 40\n",
      "\n",
      "📍 페이지 5 수집 중...\n",
      "✅ 누적 수집 기사 수: 50\n",
      "\n",
      "📍 페이지 6 수집 중...\n",
      "✅ 누적 수집 기사 수: 60\n",
      "\n",
      "📍 페이지 7 수집 중...\n",
      "✅ 누적 수집 기사 수: 70\n",
      "\n",
      "📍 페이지 8 수집 중...\n",
      "✅ 누적 수집 기사 수: 80\n",
      "\n",
      "📍 페이지 9 수집 중...\n",
      "✅ 누적 수집 기사 수: 90\n",
      "\n",
      "📍 페이지 10 수집 중...\n",
      "✅ 누적 수집 기사 수: 100\n",
      "💾 임시 저장 완료 (페이지 10)\n",
      "\n",
      "📍 페이지 11 수집 중...\n",
      "✅ 누적 수집 기사 수: 110\n",
      "\n",
      "📍 페이지 12 수집 중...\n",
      "✅ 누적 수집 기사 수: 120\n",
      "\n",
      "📍 페이지 13 수집 중...\n",
      "✅ 누적 수집 기사 수: 130\n",
      "\n",
      "📍 페이지 14 수집 중...\n",
      "✅ 누적 수집 기사 수: 140\n",
      "\n",
      "📍 페이지 15 수집 중...\n",
      "✅ 누적 수집 기사 수: 150\n",
      "\n",
      "📍 페이지 16 수집 중...\n",
      "✅ 누적 수집 기사 수: 160\n",
      "\n",
      "📍 페이지 17 수집 중...\n",
      "✅ 누적 수집 기사 수: 170\n",
      "\n",
      "📍 페이지 18 수집 중...\n",
      "✅ 누적 수집 기사 수: 180\n",
      "\n",
      "📍 페이지 19 수집 중...\n",
      "✅ 누적 수집 기사 수: 190\n",
      "\n",
      "📍 페이지 20 수집 중...\n",
      "✅ 누적 수집 기사 수: 200\n",
      "💾 임시 저장 완료 (페이지 20)\n",
      "\n",
      "📍 페이지 21 수집 중...\n",
      "✅ 누적 수집 기사 수: 210\n",
      "\n",
      "📍 페이지 22 수집 중...\n",
      "✅ 누적 수집 기사 수: 220\n",
      "\n",
      "📍 페이지 23 수집 중...\n",
      "✅ 누적 수집 기사 수: 230\n",
      "\n",
      "📍 페이지 24 수집 중...\n",
      "✅ 누적 수집 기사 수: 240\n",
      "\n",
      "📍 페이지 25 수집 중...\n",
      "✅ 누적 수집 기사 수: 250\n",
      "\n",
      "📍 페이지 26 수집 중...\n",
      "✅ 누적 수집 기사 수: 260\n",
      "\n",
      "📍 페이지 27 수집 중...\n",
      "✅ 누적 수집 기사 수: 270\n",
      "\n",
      "📍 페이지 28 수집 중...\n",
      "✅ 누적 수집 기사 수: 280\n",
      "\n",
      "📍 페이지 29 수집 중...\n",
      "✅ 누적 수집 기사 수: 290\n",
      "\n",
      "📍 페이지 30 수집 중...\n",
      "✅ 누적 수집 기사 수: 300\n",
      "💾 임시 저장 완료 (페이지 30)\n",
      "\n",
      "📍 페이지 31 수집 중...\n",
      "✅ 누적 수집 기사 수: 310\n",
      "\n",
      "📍 페이지 32 수집 중...\n",
      "✅ 누적 수집 기사 수: 320\n",
      "\n",
      "📍 페이지 33 수집 중...\n",
      "✅ 누적 수집 기사 수: 330\n",
      "\n",
      "📍 페이지 34 수집 중...\n",
      "✅ 누적 수집 기사 수: 340\n",
      "\n",
      "📍 페이지 35 수집 중...\n",
      "✅ 누적 수집 기사 수: 350\n",
      "\n",
      "📍 페이지 36 수집 중...\n",
      "✅ 누적 수집 기사 수: 360\n",
      "\n",
      "📍 페이지 37 수집 중...\n",
      "✅ 누적 수집 기사 수: 370\n",
      "\n",
      "📍 페이지 38 수집 중...\n",
      "✅ 누적 수집 기사 수: 380\n",
      "\n",
      "📍 페이지 39 수집 중...\n",
      "✅ 누적 수집 기사 수: 390\n",
      "\n",
      "📍 페이지 40 수집 중...\n",
      "✅ 누적 수집 기사 수: 400\n",
      "💾 임시 저장 완료 (페이지 40)\n",
      "\n",
      "📍 페이지 41 수집 중...\n",
      "✅ 누적 수집 기사 수: 410\n",
      "\n",
      "📍 페이지 42 수집 중...\n",
      "✅ 누적 수집 기사 수: 420\n",
      "\n",
      "📍 페이지 43 수집 중...\n",
      "✅ 누적 수집 기사 수: 430\n",
      "\n",
      "📍 페이지 44 수집 중...\n",
      "✅ 누적 수집 기사 수: 440\n",
      "\n",
      "📍 페이지 45 수집 중...\n",
      "✅ 누적 수집 기사 수: 450\n",
      "\n",
      "📍 페이지 46 수집 중...\n",
      "✅ 누적 수집 기사 수: 460\n",
      "\n",
      "📍 페이지 47 수집 중...\n",
      "✅ 누적 수집 기사 수: 470\n",
      "\n",
      "📍 페이지 48 수집 중...\n",
      "✅ 누적 수집 기사 수: 480\n",
      "\n",
      "📍 페이지 49 수집 중...\n",
      "✅ 누적 수집 기사 수: 490\n",
      "\n",
      "📍 페이지 50 수집 중...\n",
      "✅ 누적 수집 기사 수: 500\n",
      "💾 임시 저장 완료 (페이지 50)\n",
      "\n",
      "📍 페이지 51 수집 중...\n",
      "✅ 누적 수집 기사 수: 510\n",
      "\n",
      "📍 페이지 52 수집 중...\n",
      "✅ 누적 수집 기사 수: 520\n",
      "\n",
      "📍 페이지 53 수집 중...\n",
      "✅ 누적 수집 기사 수: 530\n",
      "\n",
      "📍 페이지 54 수집 중...\n",
      "✅ 누적 수집 기사 수: 540\n",
      "\n",
      "📍 페이지 55 수집 중...\n",
      "✅ 누적 수집 기사 수: 550\n",
      "\n",
      "📍 페이지 56 수집 중...\n",
      "✅ 누적 수집 기사 수: 560\n",
      "\n",
      "📍 페이지 57 수집 중...\n",
      "✅ 누적 수집 기사 수: 570\n",
      "\n",
      "📍 페이지 58 수집 중...\n",
      "✅ 누적 수집 기사 수: 580\n",
      "\n",
      "📍 페이지 59 수집 중...\n",
      "✅ 누적 수집 기사 수: 590\n",
      "\n",
      "📍 페이지 60 수집 중...\n",
      "✅ 누적 수집 기사 수: 600\n",
      "💾 임시 저장 완료 (페이지 60)\n",
      "\n",
      "📍 페이지 61 수집 중...\n",
      "✅ 누적 수집 기사 수: 610\n",
      "\n",
      "📍 페이지 62 수집 중...\n",
      "✅ 누적 수집 기사 수: 620\n",
      "\n",
      "📍 페이지 63 수집 중...\n",
      "✅ 누적 수집 기사 수: 630\n",
      "\n",
      "📍 페이지 64 수집 중...\n",
      "✅ 누적 수집 기사 수: 640\n",
      "\n",
      "📍 페이지 65 수집 중...\n",
      "✅ 누적 수집 기사 수: 650\n",
      "\n",
      "📍 페이지 66 수집 중...\n",
      "✅ 누적 수집 기사 수: 660\n",
      "\n",
      "📍 페이지 67 수집 중...\n",
      "✅ 누적 수집 기사 수: 670\n",
      "\n",
      "📍 페이지 68 수집 중...\n",
      "✅ 누적 수집 기사 수: 680\n",
      "\n",
      "📍 페이지 69 수집 중...\n",
      "✅ 누적 수집 기사 수: 690\n",
      "\n",
      "📍 페이지 70 수집 중...\n",
      "✅ 누적 수집 기사 수: 700\n",
      "💾 임시 저장 완료 (페이지 70)\n",
      "\n",
      "📍 페이지 71 수집 중...\n",
      "✅ 누적 수집 기사 수: 710\n",
      "\n",
      "📍 페이지 72 수집 중...\n",
      "✅ 누적 수집 기사 수: 720\n",
      "\n",
      "📍 페이지 73 수집 중...\n",
      "✅ 누적 수집 기사 수: 730\n",
      "\n",
      "📍 페이지 74 수집 중...\n",
      "✅ 누적 수집 기사 수: 740\n",
      "\n",
      "📍 페이지 75 수집 중...\n",
      "✅ 누적 수집 기사 수: 750\n",
      "\n",
      "📍 페이지 76 수집 중...\n",
      "✅ 누적 수집 기사 수: 760\n",
      "\n",
      "📍 페이지 77 수집 중...\n",
      "✅ 누적 수집 기사 수: 770\n",
      "\n",
      "📍 페이지 78 수집 중...\n",
      "✅ 누적 수집 기사 수: 780\n",
      "\n",
      "📍 페이지 79 수집 중...\n",
      "✅ 누적 수집 기사 수: 790\n",
      "\n",
      "📍 페이지 80 수집 중...\n",
      "✅ 누적 수집 기사 수: 800\n",
      "💾 임시 저장 완료 (페이지 80)\n",
      "\n",
      "📍 페이지 81 수집 중...\n",
      "✅ 누적 수집 기사 수: 810\n",
      "\n",
      "📍 페이지 82 수집 중...\n",
      "✅ 누적 수집 기사 수: 820\n",
      "\n",
      "📍 페이지 83 수집 중...\n",
      "✅ 누적 수집 기사 수: 830\n",
      "\n",
      "📍 페이지 84 수집 중...\n",
      "✅ 누적 수집 기사 수: 840\n",
      "\n",
      "📍 페이지 85 수집 중...\n",
      "✅ 누적 수집 기사 수: 850\n",
      "\n",
      "📍 페이지 86 수집 중...\n",
      "✅ 누적 수집 기사 수: 860\n",
      "\n",
      "📍 페이지 87 수집 중...\n",
      "✅ 누적 수집 기사 수: 870\n",
      "\n",
      "📍 페이지 88 수집 중...\n",
      "✅ 누적 수집 기사 수: 880\n",
      "\n",
      "📍 페이지 89 수집 중...\n",
      "✅ 누적 수집 기사 수: 890\n",
      "\n",
      "📍 페이지 90 수집 중...\n",
      "✅ 누적 수집 기사 수: 900\n",
      "💾 임시 저장 완료 (페이지 90)\n",
      "\n",
      "📍 페이지 91 수집 중...\n",
      "✅ 누적 수집 기사 수: 910\n",
      "\n",
      "📍 페이지 92 수집 중...\n",
      "✅ 누적 수집 기사 수: 920\n",
      "\n",
      "📍 페이지 93 수집 중...\n",
      "✅ 누적 수집 기사 수: 930\n",
      "\n",
      "📍 페이지 94 수집 중...\n",
      "✅ 누적 수집 기사 수: 940\n",
      "\n",
      "📍 페이지 95 수집 중...\n",
      "✅ 누적 수집 기사 수: 950\n",
      "\n",
      "📍 페이지 96 수집 중...\n",
      "✅ 누적 수집 기사 수: 960\n",
      "\n",
      "📍 페이지 97 수집 중...\n",
      "✅ 누적 수집 기사 수: 970\n",
      "\n",
      "📍 페이지 98 수집 중...\n",
      "✅ 누적 수집 기사 수: 980\n",
      "\n",
      "📍 페이지 99 수집 중...\n",
      "✅ 누적 수집 기사 수: 990\n",
      "\n",
      "📍 페이지 100 수집 중...\n",
      "✅ 누적 수집 기사 수: 1000\n",
      "💾 임시 저장 완료 (페이지 100)\n",
      "\n",
      "📍 페이지 101 수집 중...\n",
      "✅ 누적 수집 기사 수: 1010\n",
      "\n",
      "📍 페이지 102 수집 중...\n",
      "✅ 누적 수집 기사 수: 1020\n",
      "\n",
      "📍 페이지 103 수집 중...\n",
      "✅ 누적 수집 기사 수: 1030\n",
      "\n",
      "📍 페이지 104 수집 중...\n",
      "✅ 누적 수집 기사 수: 1040\n",
      "\n",
      "📍 페이지 105 수집 중...\n",
      "✅ 누적 수집 기사 수: 1050\n",
      "\n",
      "📍 페이지 106 수집 중...\n",
      "✅ 누적 수집 기사 수: 1060\n",
      "\n",
      "📍 페이지 107 수집 중...\n",
      "✅ 누적 수집 기사 수: 1070\n",
      "\n",
      "📍 페이지 108 수집 중...\n",
      "✅ 누적 수집 기사 수: 1080\n",
      "\n",
      "📍 페이지 109 수집 중...\n",
      "✅ 누적 수집 기사 수: 1090\n",
      "\n",
      "📍 페이지 110 수집 중...\n",
      "✅ 누적 수집 기사 수: 1100\n",
      "💾 임시 저장 완료 (페이지 110)\n",
      "\n",
      "📍 페이지 111 수집 중...\n",
      "✅ 누적 수집 기사 수: 1110\n",
      "\n",
      "📍 페이지 112 수집 중...\n",
      "✅ 누적 수집 기사 수: 1120\n",
      "\n",
      "📍 페이지 113 수집 중...\n",
      "✅ 누적 수집 기사 수: 1130\n",
      "\n",
      "📍 페이지 114 수집 중...\n",
      "✅ 누적 수집 기사 수: 1140\n",
      "\n",
      "📍 페이지 115 수집 중...\n",
      "✅ 누적 수집 기사 수: 1150\n",
      "\n",
      "📍 페이지 116 수집 중...\n",
      "✅ 누적 수집 기사 수: 1160\n",
      "\n",
      "📍 페이지 117 수집 중...\n",
      "✅ 누적 수집 기사 수: 1170\n",
      "\n",
      "📍 페이지 118 수집 중...\n",
      "✅ 누적 수집 기사 수: 1180\n",
      "\n",
      "📍 페이지 119 수집 중...\n",
      "✅ 누적 수집 기사 수: 1190\n",
      "\n",
      "📍 페이지 120 수집 중...\n",
      "✅ 누적 수집 기사 수: 1200\n",
      "💾 임시 저장 완료 (페이지 120)\n",
      "\n",
      "📍 페이지 121 수집 중...\n",
      "✅ 누적 수집 기사 수: 1210\n",
      "\n",
      "📍 페이지 122 수집 중...\n",
      "✅ 누적 수집 기사 수: 1220\n",
      "\n",
      "📍 페이지 123 수집 중...\n",
      "✅ 누적 수집 기사 수: 1230\n",
      "\n",
      "📍 페이지 124 수집 중...\n",
      "✅ 누적 수집 기사 수: 1240\n",
      "\n",
      "📍 페이지 125 수집 중...\n",
      "✅ 누적 수집 기사 수: 1250\n",
      "\n",
      "📍 페이지 126 수집 중...\n",
      "✅ 누적 수집 기사 수: 1260\n",
      "\n",
      "📍 페이지 127 수집 중...\n",
      "✅ 누적 수집 기사 수: 1270\n",
      "💾 임시 저장 완료 (페이지 127)\n",
      "\n",
      "✅ 전체 수집 완료: 1270개 기사 저장됨 → doglab_all_articles.csv\n"
     ]
    }
   ],
   "source": [
    "from selenium import webdriver\n",
    "from selenium.webdriver.chrome.options import Options\n",
    "from selenium.webdriver.common.by import By\n",
    "from bs4 import BeautifulSoup\n",
    "import re\n",
    "import csv\n",
    "import time\n",
    "\n",
    "# 셀레니움 설정\n",
    "options = Options()\n",
    "options.add_argument(\"--headless\")\n",
    "driver = webdriver.Chrome(options=options)\n",
    "\n",
    "# 1페이지 접속\n",
    "driver.get('https://bemypet.kr/content/doglab?p=1')\n",
    "time.sleep(2)\n",
    "\n",
    "# ✅ 'Go to last page' 버튼 클릭 → 마지막 페이지로 이동\n",
    "try:\n",
    "    last_button = driver.find_element(By.XPATH, '//a[@aria-label=\"Go to last page\"]')\n",
    "    last_button.click()\n",
    "    time.sleep(2)\n",
    "except Exception as e:\n",
    "    print(\"❌ 마지막 페이지 이동 실패:\", e)\n",
    "    driver.quit()\n",
    "    exit()\n",
    "\n",
    "# ✅ 마지막 페이지 번호 추출\n",
    "soup = BeautifulSoup(driver.page_source, 'html.parser')\n",
    "pagination = soup.select(\"ul.pagination li a\")\n",
    "page_numbers = [int(a.text.strip()) for a in pagination if a.text.strip().isdigit()]\n",
    "last_page = max(page_numbers) if page_numbers else 1\n",
    "\n",
    "print(f\"📄 마지막 페이지: {last_page}\")\n",
    "\n",
    "# ✅ 수집 시작\n",
    "results = []\n",
    "\n",
    "for page in range(1, last_page + 1):\n",
    "    print(f\"\\n📍 페이지 {page} 수집 중...\")\n",
    "    driver.get(f'https://bemypet.kr/content/doglab?p={page}')\n",
    "    time.sleep(2)\n",
    "    soup = BeautifulSoup(driver.page_source, 'html.parser')\n",
    "\n",
    "    articles = soup.find_all(\"div\", class_=re.compile(\"^textContent_textContentBox\"))\n",
    "\n",
    "    for a in articles:\n",
    "        title = a.find(\"div\", class_=re.compile(\"^textContent_textContentTitle\"))\n",
    "        summary = a.find(\"div\", class_=re.compile(\"^textContent_textContentText\"))\n",
    "\n",
    "        if title and summary:\n",
    "            results.append({\n",
    "                \"title\": title.get_text(strip=True),\n",
    "                \"summary\": summary.get_text(strip=True),\n",
    "                \"page_num\": page\n",
    "            })\n",
    "\n",
    "    print(f\"✅ 누적 수집 기사 수: {len(results)}\")\n",
    "\n",
    "    # 중간 저장\n",
    "    if page % 10 == 0 or page == last_page:\n",
    "        with open('doglab_partial_final.csv', 'w', newline='', encoding='utf-8-sig') as f:\n",
    "            writer = csv.DictWriter(f, fieldnames=[\"title\", \"summary\", \"page_num\"])\n",
    "            writer.writeheader()\n",
    "            writer.writerows(results)\n",
    "        print(f\"💾 임시 저장 완료 (페이지 {page})\")\n",
    "\n",
    "driver.quit()\n",
    "\n",
    "# ✅ 최종 저장\n",
    "with open('doglab_all_articles.csv', 'w', newline='', encoding='utf-8-sig') as f:\n",
    "    writer = csv.DictWriter(f, fieldnames=[\"title\", \"summary\", \"page_num\"])\n",
    "    writer.writeheader()\n",
    "    writer.writerows(results)\n",
    "\n",
    "print(f\"\\n✅ 전체 수집 완료: {len(results)}개 기사 저장됨 → doglab_all_articles.csv\")\n"
   ]
  },
  {
   "cell_type": "markdown",
   "id": "bd3ab1a2",
   "metadata": {},
   "source": [
    "----"
   ]
  },
  {
   "cell_type": "markdown",
   "id": "24469693",
   "metadata": {},
   "source": [
    "### 콘텐츠용 구조화 코드"
   ]
  },
  {
   "cell_type": "code",
   "execution_count": 8,
   "id": "b7c26b04",
   "metadata": {},
   "outputs": [
    {
     "name": "stdout",
     "output_type": "stream",
     "text": [
      "📰 제목: 강아지 공복토가 계속될 때, 보호자가 꼭 알아야 할 7가지\n",
      "🏷️ 태그: 강아지 건강, 강아지 공복시간, 강아지 공복토, 강아지 공복토 계속, 강아지 공복토 색깔, 강아지 공복토 원인, 강아지 공복토 유산균, 강아지 공복토 피, 강아지 공복토 후 사료, 강아지 영양제, 강아지 질병, 강아지 행동\n",
      "📦 콘텐츠 블록 수: 57\n",
      "✅ JSON 저장 완료 → mypetlife_structured.json\n"
     ]
    }
   ],
   "source": [
    "import requests\n",
    "from bs4 import BeautifulSoup\n",
    "import json\n",
    "\n",
    "def parse_mypetlife_article(url):\n",
    "    res = requests.get(url)\n",
    "    soup = BeautifulSoup(res.text, 'html.parser')\n",
    "\n",
    "    # 제목\n",
    "    title_tag = soup.find(\"h1\", class_=\"entry-title\")\n",
    "    title = title_tag.get_text(strip=True) if title_tag else \"제목 없음\"\n",
    "\n",
    "    # 태그\n",
    "    tag_div = soup.select_one(\".post-bottom-tags .tagcloud\")\n",
    "    tags = [a.get_text(strip=True) for a in tag_div.find_all(\"a\")] if tag_div else []\n",
    "\n",
    "    # 본문\n",
    "    content_blocks = []\n",
    "    content_div = soup.find(\"div\", class_=\"entry-content\")\n",
    "\n",
    "    if not content_div:\n",
    "        print(\"❌ 본문을 찾을 수 없음\")\n",
    "        return None\n",
    "\n",
    "    for elem in content_div.find_all([\"p\", \"h2\", \"h3\", \"h4\", \"ul\", \"ol\", \"figure\"], recursive=True):\n",
    "        tag = elem.name\n",
    "\n",
    "        # 단락\n",
    "        if tag == \"p\":\n",
    "            text = elem.get_text(strip=True)\n",
    "            if text:\n",
    "                content_blocks.append({\"type\": \"paragraph\", \"text\": text})\n",
    "\n",
    "        # 제목 계층\n",
    "        elif tag == \"h2\":\n",
    "            content_blocks.append({\"type\": \"heading\", \"text\": elem.get_text(strip=True)})\n",
    "        elif tag in [\"h3\", \"h4\"]:\n",
    "            text = elem.get_text(strip=True)\n",
    "            if \"✔️\" in text or \"팁\" in text:\n",
    "                content_blocks.append({\"type\": \"tip_heading\", \"text\": text})\n",
    "            else:\n",
    "                content_blocks.append({\"type\": \"subheading\", \"text\": text})\n",
    "\n",
    "        # 리스트\n",
    "        elif tag in [\"ul\", \"ol\"]:\n",
    "            items = [li.get_text(strip=True) for li in elem.find_all(\"li\")]\n",
    "            if items:\n",
    "                content_blocks.append({\"type\": \"list\", \"items\": items})\n",
    "\n",
    "        # 이미지\n",
    "        elif tag == \"figure\":\n",
    "            img = elem.find(\"img\")\n",
    "            if img and img.get(\"src\"):\n",
    "                content_blocks.append({\"type\": \"image\", \"url\": img[\"src\"]})\n",
    "\n",
    "    return {\n",
    "        \"url\": url,\n",
    "        \"title\": title,\n",
    "        \"tags\": tags,\n",
    "        \"content\": content_blocks\n",
    "    }\n",
    "\n",
    "\n",
    "# ✅ 실행 예시\n",
    "if __name__ == \"__main__\":\n",
    "    test_url = \"https://mypetlife.co.kr/152998/\"\n",
    "    result = parse_mypetlife_article(test_url)\n",
    "\n",
    "    if result:\n",
    "        # 보기 좋게 출력\n",
    "        print(\"📰 제목:\", result['title'])\n",
    "        print(\"🏷️ 태그:\", \", \".join(result['tags']))\n",
    "        print(\"📦 콘텐츠 블록 수:\", len(result['content']))\n",
    "\n",
    "        # JSON 저장 (선택)\n",
    "        with open(\"mypetlife_structured.json\", \"w\", encoding=\"utf-8\") as f:\n",
    "            json.dump(result, f, ensure_ascii=False, indent=2)\n",
    "        print(\"✅ JSON 저장 완료 → mypetlife_structured.json\")\n"
   ]
  },
  {
   "cell_type": "code",
   "execution_count": 11,
   "id": "659fe5c9",
   "metadata": {},
   "outputs": [
    {
     "name": "stdout",
     "output_type": "stream",
     "text": [
      "📰 제목: 아기 강아지가 특히 취약한 질병 4가지와 예방법\n",
      "🏷️ 태그: 강아지 예방접종, 강아지 접종, 강아지 켄넬코프, 강아지 코로나, 강아지 파보, 강아지 홍역, 아기강아지 접종 주기, 아기강아지 질병\n",
      "📦 콘텐츠 블록 수: 39\n",
      "✅ JSON 저장 완료 → mypetlife_structured2.json\n"
     ]
    }
   ],
   "source": [
    "import requests\n",
    "from bs4 import BeautifulSoup\n",
    "import json\n",
    "\n",
    "def parse_mypetlife_article(url):\n",
    "    res = requests.get(url)\n",
    "    soup = BeautifulSoup(res.text, 'html.parser')\n",
    "\n",
    "    # 제목\n",
    "    title_tag = soup.find(\"h1\", class_=\"entry-title\")\n",
    "    title = title_tag.get_text(strip=True) if title_tag else \"제목 없음\"\n",
    "\n",
    "    # 태그\n",
    "    tag_div = soup.select_one(\".post-bottom-tags .tagcloud\")\n",
    "    tags = [a.get_text(strip=True) for a in tag_div.find_all(\"a\")] if tag_div else []\n",
    "\n",
    "    # 본문\n",
    "    content_blocks = []\n",
    "    content_div = soup.find(\"div\", class_=\"entry-content\")\n",
    "    if not content_div:\n",
    "        print(\"❌ 본문을 찾을 수 없음\")\n",
    "        return None\n",
    "\n",
    "    # 필요한 태그만 필터링 (whitelist)\n",
    "    for elem in content_div.find_all(recursive=True):\n",
    "        tag = elem.name\n",
    "\n",
    "        # ✅ 태그 허용 목록\n",
    "        if tag not in {\"p\", \"h2\", \"h3\", \"h4\", \"ul\", \"ol\", \"figure\"}:\n",
    "            continue\n",
    "\n",
    "        # ⛔️ 클래스 기반 광고/배너/삽입 콘텐츠 제외\n",
    "        if elem.get(\"class\") and any(\"ads\" in cls or \"google\" in cls or \"stream\" in cls for cls in elem.get(\"class\")):\n",
    "            continue\n",
    "\n",
    "        # ⛔️ iframe, noscript 포함 요소 제외\n",
    "        if elem.find(\"iframe\") or elem.find(\"noscript\"):\n",
    "            continue\n",
    "\n",
    "        text = elem.get_text(strip=True)\n",
    "\n",
    "        # ✅ paragraph\n",
    "        if tag == \"p\" and text:\n",
    "            content_blocks.append({\"type\": \"paragraph\", \"text\": text})\n",
    "\n",
    "        # ✅ heading\n",
    "        elif tag == \"h2\":\n",
    "            content_blocks.append({\"type\": \"heading\", \"text\": text})\n",
    "\n",
    "        # ✅ subheading or tip_heading\n",
    "        elif tag in [\"h3\", \"h4\"]:\n",
    "            if \"✔️\" in text or \"팁\" in text:\n",
    "                content_blocks.append({\"type\": \"tip_heading\", \"text\": text})\n",
    "            else:\n",
    "                content_blocks.append({\"type\": \"subheading\", \"text\": text})\n",
    "\n",
    "        # ✅ list\n",
    "        elif tag in [\"ul\", \"ol\"]:\n",
    "            items = [li.get_text(strip=True) for li in elem.find_all(\"li\") if li.get_text(strip=True)]\n",
    "            if items:\n",
    "                content_blocks.append({\"type\": \"list\", \"items\": items})\n",
    "\n",
    "        # ✅ image (SVG 제외)\n",
    "        elif tag == \"figure\":\n",
    "            img = elem.find(\"img\")\n",
    "            if img and img.get(\"src\") and not img[\"src\"].startswith(\"data:image/svg+xml\"):\n",
    "                content_blocks.append({\"type\": \"image\", \"url\": img[\"src\"]})\n",
    "\n",
    "    return {\n",
    "        \"url\": url,\n",
    "        \"title\": title,\n",
    "        \"tags\": tags,\n",
    "        \"content\": content_blocks\n",
    "    }\n",
    "\n",
    "# ✅ 테스트 실행\n",
    "if __name__ == \"__main__\":\n",
    "    test_url = \"https://mypetlife.co.kr/153224/\"\n",
    "    result = parse_mypetlife_article(test_url)\n",
    "\n",
    "    if result:\n",
    "        print(\"📰 제목:\", result['title'])\n",
    "        print(\"🏷️ 태그:\", \", \".join(result['tags']))\n",
    "        print(\"📦 콘텐츠 블록 수:\", len(result['content']))\n",
    "\n",
    "        with open(\"mypetlife_structured2.json\", \"w\", encoding=\"utf-8\") as f:\n",
    "            json.dump(result, f, ensure_ascii=False, indent=2)\n",
    "        print(\"✅ JSON 저장 완료 → mypetlife_structured2.json\")\n"
   ]
  },
  {
   "cell_type": "code",
   "execution_count": 29,
   "id": "7ec82b3e",
   "metadata": {},
   "outputs": [
    {
     "name": "stdout",
     "output_type": "stream",
     "text": [
      "\n",
      "📄 페이지 1 처리 중...\n",
      "🔗 기사 URL: https://mypetlife.co.kr/153331/\n",
      "🔗 기사 URL: https://mypetlife.co.kr/153224/\n",
      "🔗 기사 URL: https://mypetlife.co.kr/153162/\n",
      "🔗 기사 URL: https://mypetlife.co.kr/153151/\n",
      "🔗 기사 URL: https://mypetlife.co.kr/153128/\n",
      "🔗 기사 URL: https://mypetlife.co.kr/153105/\n",
      "🔗 기사 URL: https://mypetlife.co.kr/153094/\n",
      "🔗 기사 URL: https://mypetlife.co.kr/153055/\n",
      "🔗 기사 URL: https://mypetlife.co.kr/153040/\n",
      "🔗 기사 URL: https://mypetlife.co.kr/153032/\n",
      "\n",
      "📄 페이지 2 처리 중...\n",
      "🔗 기사 URL: https://mypetlife.co.kr/153017/\n",
      "🔗 기사 URL: https://mypetlife.co.kr/152998/\n",
      "🔗 기사 URL: https://mypetlife.co.kr/152914/\n",
      "🔗 기사 URL: https://mypetlife.co.kr/152908/\n",
      "🔗 기사 URL: https://mypetlife.co.kr/152899/\n",
      "🔗 기사 URL: https://mypetlife.co.kr/152892/\n",
      "🔗 기사 URL: https://mypetlife.co.kr/152884/\n",
      "🔗 기사 URL: https://mypetlife.co.kr/152861/\n",
      "🔗 기사 URL: https://mypetlife.co.kr/152837/\n",
      "🔗 기사 URL: https://mypetlife.co.kr/152807/\n",
      "\n",
      "📄 페이지 3 처리 중...\n",
      "🔗 기사 URL: https://mypetlife.co.kr/152795/\n",
      "🔗 기사 URL: https://mypetlife.co.kr/152788/\n",
      "🔗 기사 URL: https://mypetlife.co.kr/152726/\n",
      "🔗 기사 URL: https://mypetlife.co.kr/152722/\n",
      "🔗 기사 URL: https://mypetlife.co.kr/152693/\n",
      "🔗 기사 URL: https://mypetlife.co.kr/152691/\n",
      "🔗 기사 URL: https://mypetlife.co.kr/152670/\n",
      "🔗 기사 URL: https://mypetlife.co.kr/152667/\n",
      "🔗 기사 URL: https://mypetlife.co.kr/152663/\n",
      "🔗 기사 URL: https://mypetlife.co.kr/152644/\n",
      "\n",
      "✅ 테스트 수집 완료: 총 30개 URL\n"
     ]
    }
   ],
   "source": [
    "from selenium import webdriver\n",
    "from selenium.webdriver.chrome.options import Options\n",
    "from selenium.webdriver.common.by import By\n",
    "from selenium.webdriver.support.ui import WebDriverWait\n",
    "from selenium.webdriver.support import expected_conditions as EC\n",
    "import time\n",
    "import json\n",
    "\n",
    "options = Options()\n",
    "options.add_argument(\"--headless\")\n",
    "driver = webdriver.Chrome(options=options)\n",
    "\n",
    "driver.get(\"https://bemypet.kr/content/doglab?p=1\")\n",
    "time.sleep(2)\n",
    "\n",
    "all_article_urls = []\n",
    "page_limit = 3\n",
    "current_page = 1\n",
    "\n",
    "while current_page <= page_limit:\n",
    "    print(f\"\\n📄 페이지 {current_page} 처리 중...\")\n",
    "\n",
    "    try:\n",
    "        cards = WebDriverWait(driver, 10).until(\n",
    "            EC.presence_of_all_elements_located((By.CLASS_NAME, \"textContent_textContentBox__9iWXJ\"))\n",
    "        )\n",
    "    except Exception as e:\n",
    "        print(f\"❌ 카드 로딩 실패 (페이지 {current_page}):\", e)\n",
    "        break\n",
    "\n",
    "    for i in range(len(cards)):\n",
    "        try:\n",
    "            main_window = driver.current_window_handle\n",
    "\n",
    "            # ✅ 광고 방지용 스크롤 후 클릭 시도\n",
    "            driver.execute_script(\"arguments[0].scrollIntoView({block: 'center'});\", cards[i])\n",
    "            time.sleep(0.5)\n",
    "            try:\n",
    "                cards[i].click()\n",
    "            except:\n",
    "                driver.execute_script(\"arguments[0].click();\", cards[i])  # JS 클릭 대체\n",
    "\n",
    "            time.sleep(2)\n",
    "\n",
    "            WebDriverWait(driver, 10).until(lambda d: len(d.window_handles) > 1)\n",
    "            new_window = [w for w in driver.window_handles if w != main_window][0]\n",
    "            driver.switch_to.window(new_window)\n",
    "\n",
    "            url = driver.current_url\n",
    "            print(\"🔗 기사 URL:\", url)\n",
    "            if \"mypetlife.co.kr\" in url:\n",
    "                all_article_urls.append(url)\n",
    "\n",
    "            driver.close()\n",
    "            driver.switch_to.window(main_window)\n",
    "\n",
    "            cards = driver.find_elements(By.CLASS_NAME, \"textContent_textContentBox__9iWXJ\")\n",
    "\n",
    "        except Exception as e:\n",
    "            print(f\"❌ 카드 {i} 클릭 실패:\", e)\n",
    "            continue\n",
    "\n",
    "    # ✅ 다음 페이지 버튼 클릭\n",
    "    try:\n",
    "        next_btn = WebDriverWait(driver, 10).until(\n",
    "            EC.element_to_be_clickable((By.XPATH, '//a[@aria-label=\"Go to next page\"]'))\n",
    "        )\n",
    "        next_btn.click()\n",
    "        current_page += 1\n",
    "        time.sleep(2)\n",
    "    except Exception as e:\n",
    "        print(\"❌ 다음 페이지 클릭 실패:\", e)\n",
    "        break\n",
    "\n",
    "driver.quit()\n",
    "\n",
    "# ✅ 저장\n",
    "print(f\"\\n✅ 테스트 수집 완료: 총 {len(all_article_urls)}개 URL\")\n",
    "with open(\"test_mypet_urls.json\", \"w\", encoding=\"utf-8\") as f:\n",
    "    json.dump(all_article_urls, f, indent=2, ensure_ascii=False)\n"
   ]
  },
  {
   "cell_type": "code",
   "execution_count": 30,
   "id": "4a80e3d6",
   "metadata": {},
   "outputs": [
    {
     "name": "stdout",
     "output_type": "stream",
     "text": [
      "\n",
      "📄 페이지 1 처리 중...\n",
      "🔗 기사 URL: https://mypetlife.co.kr/153331/\n",
      "🔗 기사 URL: https://mypetlife.co.kr/153224/\n",
      "🔗 기사 URL: https://mypetlife.co.kr/153162/\n",
      "🔗 기사 URL: https://mypetlife.co.kr/153151/\n",
      "🔗 기사 URL: https://mypetlife.co.kr/153128/\n",
      "🔗 기사 URL: https://mypetlife.co.kr/153105/\n",
      "🔗 기사 URL: https://mypetlife.co.kr/153094/\n",
      "🔗 기사 URL: https://mypetlife.co.kr/153055/\n",
      "🔗 기사 URL: https://mypetlife.co.kr/153040/\n",
      "🔗 기사 URL: https://mypetlife.co.kr/153032/\n",
      "\n",
      "📄 페이지 2 처리 중...\n",
      "🔗 기사 URL: https://mypetlife.co.kr/153017/\n",
      "🔗 기사 URL: https://mypetlife.co.kr/152998/\n",
      "🔗 기사 URL: https://mypetlife.co.kr/152914/\n",
      "🔗 기사 URL: https://mypetlife.co.kr/152908/\n",
      "🔗 기사 URL: https://mypetlife.co.kr/152899/\n",
      "🔗 기사 URL: https://mypetlife.co.kr/152892/\n",
      "🔗 기사 URL: https://mypetlife.co.kr/152884/\n",
      "🔗 기사 URL: https://mypetlife.co.kr/152861/\n",
      "🔗 기사 URL: https://mypetlife.co.kr/152837/\n",
      "🔗 기사 URL: https://mypetlife.co.kr/152807/\n",
      "\n",
      "📄 페이지 3 처리 중...\n",
      "🔗 기사 URL: https://mypetlife.co.kr/152795/\n",
      "🔗 기사 URL: https://mypetlife.co.kr/152788/\n",
      "🔗 기사 URL: https://mypetlife.co.kr/152726/\n",
      "🔗 기사 URL: https://mypetlife.co.kr/152722/\n",
      "🔗 기사 URL: https://mypetlife.co.kr/152693/\n",
      "🔗 기사 URL: https://mypetlife.co.kr/152691/\n",
      "🔗 기사 URL: https://mypetlife.co.kr/152670/\n",
      "🔗 기사 URL: https://mypetlife.co.kr/152667/\n",
      "🔗 기사 URL: https://mypetlife.co.kr/152663/\n",
      "🔗 기사 URL: https://mypetlife.co.kr/152644/\n",
      "\n",
      "📄 페이지 4 처리 중...\n",
      "🔗 기사 URL: https://mypetlife.co.kr/152608/\n",
      "🔗 기사 URL: https://mypetlife.co.kr/152606/\n",
      "🔗 기사 URL: https://mypetlife.co.kr/152563/\n",
      "🔗 기사 URL: https://mypetlife.co.kr/152559/\n",
      "🔗 기사 URL: https://mypetlife.co.kr/152557/\n",
      "🔗 기사 URL: https://mypetlife.co.kr/152527/\n",
      "🔗 기사 URL: https://mypetlife.co.kr/152514/\n",
      "🔗 기사 URL: https://mypetlife.co.kr/152501/\n",
      "🔗 기사 URL: https://mypetlife.co.kr/152463/\n",
      "🔗 기사 URL: https://mypetlife.co.kr/152454/\n",
      "\n",
      "📄 페이지 5 처리 중...\n",
      "🔗 기사 URL: https://mypetlife.co.kr/152446/\n",
      "🔗 기사 URL: https://mypetlife.co.kr/152437/\n",
      "🔗 기사 URL: https://mypetlife.co.kr/152363/\n",
      "🔗 기사 URL: https://mypetlife.co.kr/152357/\n",
      "🔗 기사 URL: https://mypetlife.co.kr/152345/\n",
      "🔗 기사 URL: https://mypetlife.co.kr/152328/\n",
      "🔗 기사 URL: https://mypetlife.co.kr/152317/\n",
      "🔗 기사 URL: https://mypetlife.co.kr/152311/\n",
      "🔗 기사 URL: https://mypetlife.co.kr/152305/\n",
      "🔗 기사 URL: https://mypetlife.co.kr/152077/\n",
      "\n",
      "📄 페이지 6 처리 중...\n",
      "🔗 기사 URL: https://mypetlife.co.kr/152075/\n",
      "🔗 기사 URL: https://mypetlife.co.kr/152073/\n",
      "🔗 기사 URL: https://mypetlife.co.kr/152070/\n",
      "🔗 기사 URL: https://mypetlife.co.kr/152068/\n",
      "🔗 기사 URL: https://mypetlife.co.kr/152066/\n",
      "🔗 기사 URL: https://mypetlife.co.kr/152064/\n",
      "🔗 기사 URL: https://mypetlife.co.kr/152062/\n",
      "🔗 기사 URL: https://mypetlife.co.kr/152058/\n",
      "🔗 기사 URL: https://mypetlife.co.kr/152055/\n",
      "🔗 기사 URL: https://mypetlife.co.kr/152048/\n",
      "\n",
      "📄 페이지 7 처리 중...\n",
      "🔗 기사 URL: https://mypetlife.co.kr/152042/\n",
      "🔗 기사 URL: https://mypetlife.co.kr/152023/\n",
      "🔗 기사 URL: https://mypetlife.co.kr/152019/\n",
      "🔗 기사 URL: https://mypetlife.co.kr/152016/\n",
      "🔗 기사 URL: https://mypetlife.co.kr/151981/\n",
      "🔗 기사 URL: https://mypetlife.co.kr/151976/\n",
      "🔗 기사 URL: https://mypetlife.co.kr/151956/\n",
      "🔗 기사 URL: https://mypetlife.co.kr/151950/\n",
      "🔗 기사 URL: https://mypetlife.co.kr/151934/\n",
      "🔗 기사 URL: https://mypetlife.co.kr/151893/\n",
      "\n",
      "📄 페이지 8 처리 중...\n",
      "🔗 기사 URL: https://mypetlife.co.kr/151789/\n",
      "🔗 기사 URL: https://mypetlife.co.kr/151785/\n",
      "🔗 기사 URL: https://mypetlife.co.kr/151782/\n",
      "🔗 기사 URL: https://mypetlife.co.kr/151773/\n",
      "🔗 기사 URL: https://mypetlife.co.kr/151770/\n",
      "🔗 기사 URL: https://mypetlife.co.kr/151766/\n",
      "🔗 기사 URL: https://mypetlife.co.kr/151764/\n",
      "🔗 기사 URL: https://mypetlife.co.kr/151707/\n",
      "🔗 기사 URL: https://mypetlife.co.kr/151697/\n",
      "🔗 기사 URL: https://mypetlife.co.kr/151695/\n",
      "\n",
      "📄 페이지 9 처리 중...\n",
      "🔗 기사 URL: https://mypetlife.co.kr/151693/\n",
      "🔗 기사 URL: https://mypetlife.co.kr/151691/\n",
      "🔗 기사 URL: https://mypetlife.co.kr/151678/\n",
      "🔗 기사 URL: https://mypetlife.co.kr/151676/\n",
      "🔗 기사 URL: https://mypetlife.co.kr/151674/\n",
      "🔗 기사 URL: https://mypetlife.co.kr/151670/\n",
      "🔗 기사 URL: https://mypetlife.co.kr/151667/\n",
      "🔗 기사 URL: https://mypetlife.co.kr/151663/\n",
      "🔗 기사 URL: https://mypetlife.co.kr/151660/\n",
      "🔗 기사 URL: https://mypetlife.co.kr/151656/\n",
      "\n",
      "📄 페이지 10 처리 중...\n",
      "🔗 기사 URL: https://mypetlife.co.kr/151643/\n",
      "🔗 기사 URL: https://mypetlife.co.kr/151634/\n",
      "🔗 기사 URL: https://mypetlife.co.kr/151626/\n",
      "🔗 기사 URL: https://mypetlife.co.kr/151621/\n",
      "🔗 기사 URL: https://mypetlife.co.kr/151614/\n",
      "🔗 기사 URL: https://mypetlife.co.kr/151563/\n",
      "🔗 기사 URL: https://mypetlife.co.kr/151552/\n",
      "🔗 기사 URL: https://mypetlife.co.kr/151534/\n",
      "🔗 기사 URL: https://mypetlife.co.kr/151488/\n",
      "🔗 기사 URL: https://mypetlife.co.kr/151483/\n",
      "\n",
      "📄 페이지 11 처리 중...\n",
      "🔗 기사 URL: https://mypetlife.co.kr/151481/\n",
      "🔗 기사 URL: https://mypetlife.co.kr/151475/\n",
      "🔗 기사 URL: https://mypetlife.co.kr/151468/\n",
      "🔗 기사 URL: https://mypetlife.co.kr/151463/\n",
      "🔗 기사 URL: https://mypetlife.co.kr/151461/\n",
      "🔗 기사 URL: https://mypetlife.co.kr/151444/\n",
      "🔗 기사 URL: https://mypetlife.co.kr/151417/\n",
      "🔗 기사 URL: https://mypetlife.co.kr/151371/\n",
      "🔗 기사 URL: https://mypetlife.co.kr/151342/\n",
      "🔗 기사 URL: https://mypetlife.co.kr/151319/\n",
      "\n",
      "📄 페이지 12 처리 중...\n",
      "🔗 기사 URL: https://mypetlife.co.kr/151302/\n",
      "🔗 기사 URL: https://mypetlife.co.kr/151280/\n",
      "🔗 기사 URL: https://mypetlife.co.kr/151257/\n",
      "🔗 기사 URL: https://mypetlife.co.kr/151232/\n",
      "🔗 기사 URL: https://mypetlife.co.kr/151183/\n",
      "🔗 기사 URL: https://mypetlife.co.kr/151156/\n",
      "🔗 기사 URL: https://mypetlife.co.kr/151140/\n",
      "🔗 기사 URL: https://mypetlife.co.kr/151115/\n",
      "🔗 기사 URL: https://mypetlife.co.kr/151045/\n",
      "🔗 기사 URL: https://mypetlife.co.kr/150989/\n",
      "\n",
      "📄 페이지 13 처리 중...\n",
      "🔗 기사 URL: https://mypetlife.co.kr/150971/\n",
      "🔗 기사 URL: https://mypetlife.co.kr/150907/\n",
      "🔗 기사 URL: https://mypetlife.co.kr/150899/\n",
      "🔗 기사 URL: https://mypetlife.co.kr/150874/\n",
      "🔗 기사 URL: https://mypetlife.co.kr/150853/\n",
      "🔗 기사 URL: https://mypetlife.co.kr/150806/\n",
      "🔗 기사 URL: https://mypetlife.co.kr/150705/\n",
      "🔗 기사 URL: https://mypetlife.co.kr/150670/\n",
      "🔗 기사 URL: https://mypetlife.co.kr/150655/\n",
      "🔗 기사 URL: https://mypetlife.co.kr/150602/\n",
      "\n",
      "📄 페이지 14 처리 중...\n",
      "🔗 기사 URL: https://mypetlife.co.kr/150563/\n",
      "🔗 기사 URL: https://mypetlife.co.kr/150546/\n",
      "🔗 기사 URL: https://mypetlife.co.kr/150544/\n",
      "🔗 기사 URL: https://mypetlife.co.kr/150519/\n",
      "🔗 기사 URL: https://mypetlife.co.kr/150508/\n",
      "🔗 기사 URL: https://mypetlife.co.kr/150495/\n",
      "🔗 기사 URL: https://mypetlife.co.kr/150492/\n",
      "🔗 기사 URL: https://mypetlife.co.kr/150484/\n",
      "🔗 기사 URL: https://mypetlife.co.kr/150343/\n",
      "🔗 기사 URL: https://mypetlife.co.kr/150337/\n",
      "\n",
      "📄 페이지 15 처리 중...\n",
      "🔗 기사 URL: https://mypetlife.co.kr/150303/\n",
      "🔗 기사 URL: https://mypetlife.co.kr/150226/\n",
      "🔗 기사 URL: https://mypetlife.co.kr/150187/\n",
      "🔗 기사 URL: https://mypetlife.co.kr/150184/\n",
      "🔗 기사 URL: https://mypetlife.co.kr/150167/\n",
      "🔗 기사 URL: https://mypetlife.co.kr/150091/\n",
      "🔗 기사 URL: https://mypetlife.co.kr/150089/\n",
      "🔗 기사 URL: https://mypetlife.co.kr/150081/\n",
      "🔗 기사 URL: https://mypetlife.co.kr/150065/\n",
      "🔗 기사 URL: https://mypetlife.co.kr/150049/\n",
      "\n",
      "📄 페이지 16 처리 중...\n",
      "🔗 기사 URL: https://mypetlife.co.kr/150029/\n",
      "🔗 기사 URL: https://mypetlife.co.kr/150025/\n",
      "🔗 기사 URL: https://mypetlife.co.kr/149985/\n",
      "🔗 기사 URL: https://mypetlife.co.kr/149948/\n",
      "🔗 기사 URL: https://mypetlife.co.kr/149919/\n",
      "🔗 기사 URL: https://mypetlife.co.kr/149903/\n",
      "🔗 기사 URL: https://mypetlife.co.kr/149801/\n",
      "🔗 기사 URL: https://mypetlife.co.kr/149612/\n",
      "🔗 기사 URL: https://mypetlife.co.kr/149500/\n",
      "🔗 기사 URL: https://mypetlife.co.kr/149446/\n",
      "\n",
      "📄 페이지 17 처리 중...\n",
      "🔗 기사 URL: https://mypetlife.co.kr/149392/\n",
      "🔗 기사 URL: https://mypetlife.co.kr/149369/\n",
      "🔗 기사 URL: https://mypetlife.co.kr/149281/\n",
      "🔗 기사 URL: https://mypetlife.co.kr/149243/\n",
      "🔗 기사 URL: https://mypetlife.co.kr/149201/\n",
      "🔗 기사 URL: https://mypetlife.co.kr/149178/\n",
      "🔗 기사 URL: https://mypetlife.co.kr/149145/\n",
      "🔗 기사 URL: https://mypetlife.co.kr/149092/\n",
      "🔗 기사 URL: https://mypetlife.co.kr/149066/\n",
      "🔗 기사 URL: https://mypetlife.co.kr/149027/\n",
      "\n",
      "📄 페이지 18 처리 중...\n",
      "🔗 기사 URL: https://mypetlife.co.kr/148987/\n",
      "🔗 기사 URL: https://mypetlife.co.kr/148937/\n",
      "🔗 기사 URL: https://mypetlife.co.kr/148900/\n",
      "🔗 기사 URL: https://mypetlife.co.kr/148867/\n",
      "🔗 기사 URL: https://mypetlife.co.kr/148805/\n",
      "🔗 기사 URL: https://mypetlife.co.kr/148746/\n",
      "🔗 기사 URL: https://mypetlife.co.kr/148703/\n",
      "🔗 기사 URL: https://mypetlife.co.kr/148637/\n",
      "🔗 기사 URL: https://mypetlife.co.kr/148600/\n",
      "🔗 기사 URL: https://mypetlife.co.kr/148521/\n",
      "\n",
      "📄 페이지 19 처리 중...\n",
      "🔗 기사 URL: https://mypetlife.co.kr/148466/\n",
      "🔗 기사 URL: https://mypetlife.co.kr/148431/\n",
      "🔗 기사 URL: https://mypetlife.co.kr/148386/\n",
      "🔗 기사 URL: https://mypetlife.co.kr/148328/\n",
      "🔗 기사 URL: https://mypetlife.co.kr/148277/\n",
      "🔗 기사 URL: https://mypetlife.co.kr/148236/\n",
      "🔗 기사 URL: https://mypetlife.co.kr/148197/\n",
      "🔗 기사 URL: https://mypetlife.co.kr/148136/\n",
      "🔗 기사 URL: https://mypetlife.co.kr/148110/\n",
      "🔗 기사 URL: https://mypetlife.co.kr/148085/\n",
      "\n",
      "📄 페이지 20 처리 중...\n",
      "🔗 기사 URL: https://mypetlife.co.kr/148014/\n",
      "🔗 기사 URL: https://mypetlife.co.kr/147986/\n",
      "🔗 기사 URL: https://mypetlife.co.kr/147965/\n",
      "🔗 기사 URL: https://mypetlife.co.kr/147942/\n",
      "🔗 기사 URL: https://mypetlife.co.kr/147900/\n",
      "🔗 기사 URL: https://mypetlife.co.kr/147844/\n",
      "🔗 기사 URL: https://mypetlife.co.kr/147819/\n",
      "🔗 기사 URL: https://mypetlife.co.kr/147766/\n",
      "🔗 기사 URL: https://mypetlife.co.kr/147709/\n",
      "🔗 기사 URL: https://mypetlife.co.kr/147667/\n",
      "\n",
      "📄 페이지 21 처리 중...\n",
      "🔗 기사 URL: https://mypetlife.co.kr/147629/\n",
      "🔗 기사 URL: https://mypetlife.co.kr/147607/\n",
      "🔗 기사 URL: https://mypetlife.co.kr/147576/\n",
      "🔗 기사 URL: https://mypetlife.co.kr/147543/\n",
      "🔗 기사 URL: https://mypetlife.co.kr/147491/\n",
      "🔗 기사 URL: https://mypetlife.co.kr/147430/\n",
      "🔗 기사 URL: https://mypetlife.co.kr/147368/\n",
      "🔗 기사 URL: https://mypetlife.co.kr/147301/\n",
      "🔗 기사 URL: https://mypetlife.co.kr/147259/\n",
      "🔗 기사 URL: https://mypetlife.co.kr/147201/\n",
      "\n",
      "📄 페이지 22 처리 중...\n",
      "🔗 기사 URL: https://mypetlife.co.kr/147101/\n",
      "🔗 기사 URL: https://mypetlife.co.kr/147045/\n",
      "🔗 기사 URL: https://mypetlife.co.kr/146957/\n",
      "🔗 기사 URL: https://mypetlife.co.kr/146938/\n",
      "🔗 기사 URL: https://mypetlife.co.kr/146904/\n",
      "🔗 기사 URL: https://mypetlife.co.kr/146821/\n",
      "🔗 기사 URL: https://mypetlife.co.kr/146742/\n",
      "🔗 기사 URL: https://mypetlife.co.kr/146715/\n",
      "🔗 기사 URL: https://mypetlife.co.kr/146690/\n",
      "🔗 기사 URL: https://mypetlife.co.kr/146649/\n",
      "\n",
      "📄 페이지 23 처리 중...\n",
      "🔗 기사 URL: https://mypetlife.co.kr/146587/\n",
      "🔗 기사 URL: https://mypetlife.co.kr/146493/\n",
      "🔗 기사 URL: https://mypetlife.co.kr/146419/\n",
      "🔗 기사 URL: https://mypetlife.co.kr/146351/\n",
      "🔗 기사 URL: https://mypetlife.co.kr/146317/\n",
      "🔗 기사 URL: https://mypetlife.co.kr/146213/\n",
      "🔗 기사 URL: https://mypetlife.co.kr/146163/\n",
      "🔗 기사 URL: https://mypetlife.co.kr/146119/\n",
      "🔗 기사 URL: https://mypetlife.co.kr/146082/\n",
      "🔗 기사 URL: https://mypetlife.co.kr/145960/\n",
      "\n",
      "📄 페이지 24 처리 중...\n",
      "🔗 기사 URL: https://mypetlife.co.kr/145950/\n",
      "🔗 기사 URL: https://mypetlife.co.kr/145913/\n",
      "🔗 기사 URL: https://mypetlife.co.kr/145810/\n",
      "🔗 기사 URL: https://mypetlife.co.kr/145709/\n",
      "🔗 기사 URL: https://mypetlife.co.kr/145602/\n",
      "🔗 기사 URL: https://mypetlife.co.kr/145549/\n",
      "🔗 기사 URL: https://mypetlife.co.kr/145433/\n",
      "🔗 기사 URL: https://mypetlife.co.kr/145153/\n",
      "🔗 기사 URL: https://mypetlife.co.kr/145103/\n",
      "🔗 기사 URL: https://mypetlife.co.kr/145058/\n",
      "\n",
      "📄 페이지 25 처리 중...\n",
      "🔗 기사 URL: https://mypetlife.co.kr/145010/\n",
      "🔗 기사 URL: https://mypetlife.co.kr/144883/\n",
      "🔗 기사 URL: https://mypetlife.co.kr/144852/\n",
      "🔗 기사 URL: https://mypetlife.co.kr/144808/\n",
      "🔗 기사 URL: https://mypetlife.co.kr/144787/\n",
      "🔗 기사 URL: https://mypetlife.co.kr/144665/\n",
      "🔗 기사 URL: https://mypetlife.co.kr/144604/\n",
      "🔗 기사 URL: https://mypetlife.co.kr/144557/\n",
      "🔗 기사 URL: https://mypetlife.co.kr/144468/\n",
      "🔗 기사 URL: https://mypetlife.co.kr/144429/\n",
      "\n",
      "📄 페이지 26 처리 중...\n",
      "🔗 기사 URL: https://mypetlife.co.kr/144366/\n",
      "🔗 기사 URL: https://mypetlife.co.kr/144297/\n",
      "🔗 기사 URL: https://mypetlife.co.kr/144247/\n",
      "🔗 기사 URL: https://mypetlife.co.kr/144218/\n",
      "🔗 기사 URL: https://mypetlife.co.kr/144183/\n",
      "🔗 기사 URL: https://mypetlife.co.kr/144138/\n",
      "🔗 기사 URL: https://mypetlife.co.kr/144078/\n",
      "🔗 기사 URL: https://mypetlife.co.kr/144041/\n",
      "🔗 기사 URL: https://mypetlife.co.kr/144000/\n",
      "🔗 기사 URL: https://mypetlife.co.kr/143956/\n",
      "\n",
      "📄 페이지 27 처리 중...\n",
      "🔗 기사 URL: https://mypetlife.co.kr/143902/\n",
      "🔗 기사 URL: https://mypetlife.co.kr/143837/\n",
      "🔗 기사 URL: https://mypetlife.co.kr/143809/\n",
      "🔗 기사 URL: https://mypetlife.co.kr/143769/\n",
      "🔗 기사 URL: https://mypetlife.co.kr/143720/\n",
      "🔗 기사 URL: https://mypetlife.co.kr/143669/\n",
      "🔗 기사 URL: https://mypetlife.co.kr/143634/\n",
      "🔗 기사 URL: https://mypetlife.co.kr/143591/\n",
      "🔗 기사 URL: https://mypetlife.co.kr/143527/\n",
      "🔗 기사 URL: https://mypetlife.co.kr/143514/\n",
      "\n",
      "📄 페이지 28 처리 중...\n",
      "🔗 기사 URL: https://mypetlife.co.kr/143435/\n",
      "🔗 기사 URL: https://mypetlife.co.kr/143395/\n",
      "🔗 기사 URL: https://mypetlife.co.kr/143391/\n",
      "🔗 기사 URL: https://mypetlife.co.kr/143340/\n",
      "🔗 기사 URL: https://mypetlife.co.kr/143310/\n",
      "🔗 기사 URL: https://mypetlife.co.kr/143227/\n",
      "🔗 기사 URL: https://mypetlife.co.kr/143201/\n",
      "🔗 기사 URL: https://mypetlife.co.kr/143129/\n",
      "🔗 기사 URL: https://mypetlife.co.kr/143110/\n",
      "🔗 기사 URL: https://mypetlife.co.kr/143065/\n",
      "\n",
      "📄 페이지 29 처리 중...\n",
      "🔗 기사 URL: https://mypetlife.co.kr/143032/\n",
      "🔗 기사 URL: https://mypetlife.co.kr/142986/\n",
      "🔗 기사 URL: https://mypetlife.co.kr/142939/\n",
      "🔗 기사 URL: https://mypetlife.co.kr/142898/\n",
      "🔗 기사 URL: https://mypetlife.co.kr/142837/\n",
      "🔗 기사 URL: https://mypetlife.co.kr/142765/\n",
      "🔗 기사 URL: https://mypetlife.co.kr/142732/\n",
      "🔗 기사 URL: https://mypetlife.co.kr/142688/\n",
      "🔗 기사 URL: https://mypetlife.co.kr/142606/\n",
      "🔗 기사 URL: https://mypetlife.co.kr/142544/\n",
      "\n",
      "📄 페이지 30 처리 중...\n",
      "🔗 기사 URL: https://mypetlife.co.kr/142528/\n",
      "🔗 기사 URL: https://mypetlife.co.kr/142521/\n",
      "🔗 기사 URL: https://mypetlife.co.kr/142461/\n",
      "🔗 기사 URL: https://mypetlife.co.kr/142430/\n",
      "🔗 기사 URL: https://mypetlife.co.kr/142392/\n",
      "🔗 기사 URL: https://mypetlife.co.kr/142330/\n",
      "🔗 기사 URL: https://mypetlife.co.kr/142284/\n",
      "🔗 기사 URL: https://mypetlife.co.kr/142240/\n",
      "🔗 기사 URL: https://mypetlife.co.kr/142193/\n",
      "🔗 기사 URL: https://mypetlife.co.kr/142150/\n",
      "\n",
      "📄 페이지 31 처리 중...\n",
      "🔗 기사 URL: https://mypetlife.co.kr/142088/\n",
      "🔗 기사 URL: https://mypetlife.co.kr/142050/\n",
      "🔗 기사 URL: https://mypetlife.co.kr/141987/\n",
      "🔗 기사 URL: https://mypetlife.co.kr/141955/\n",
      "🔗 기사 URL: https://mypetlife.co.kr/141906/\n",
      "🔗 기사 URL: https://mypetlife.co.kr/141887/\n",
      "🔗 기사 URL: https://mypetlife.co.kr/141842/\n",
      "🔗 기사 URL: https://mypetlife.co.kr/141802/\n",
      "🔗 기사 URL: https://mypetlife.co.kr/141754/\n",
      "🔗 기사 URL: https://mypetlife.co.kr/141707/\n",
      "\n",
      "📄 페이지 32 처리 중...\n",
      "🔗 기사 URL: https://mypetlife.co.kr/141655/\n",
      "🔗 기사 URL: https://mypetlife.co.kr/141616/\n",
      "🔗 기사 URL: https://mypetlife.co.kr/141562/\n",
      "🔗 기사 URL: https://mypetlife.co.kr/141516/\n",
      "🔗 기사 URL: https://mypetlife.co.kr/141461/\n",
      "🔗 기사 URL: https://mypetlife.co.kr/141417/\n",
      "🔗 기사 URL: https://mypetlife.co.kr/141370/\n",
      "🔗 기사 URL: https://mypetlife.co.kr/141333/\n",
      "🔗 기사 URL: https://mypetlife.co.kr/141280/\n",
      "🔗 기사 URL: https://mypetlife.co.kr/141257/\n",
      "\n",
      "📄 페이지 33 처리 중...\n",
      "🔗 기사 URL: https://mypetlife.co.kr/141211/\n",
      "🔗 기사 URL: https://mypetlife.co.kr/141188/\n",
      "🔗 기사 URL: https://mypetlife.co.kr/141130/\n",
      "🔗 기사 URL: https://mypetlife.co.kr/141062/\n",
      "🔗 기사 URL: https://mypetlife.co.kr/141023/\n",
      "🔗 기사 URL: https://mypetlife.co.kr/140968/\n",
      "🔗 기사 URL: https://mypetlife.co.kr/140857/\n",
      "🔗 기사 URL: https://mypetlife.co.kr/140795/\n",
      "🔗 기사 URL: https://mypetlife.co.kr/140662/\n",
      "🔗 기사 URL: https://mypetlife.co.kr/140654/\n",
      "\n",
      "📄 페이지 34 처리 중...\n",
      "🔗 기사 URL: https://mypetlife.co.kr/140607/\n",
      "🔗 기사 URL: https://mypetlife.co.kr/140526/\n",
      "🔗 기사 URL: https://mypetlife.co.kr/140509/\n",
      "🔗 기사 URL: https://mypetlife.co.kr/140464/\n",
      "🔗 기사 URL: https://mypetlife.co.kr/140413/\n",
      "🔗 기사 URL: https://mypetlife.co.kr/140373/\n",
      "🔗 기사 URL: https://mypetlife.co.kr/140349/\n",
      "🔗 기사 URL: https://mypetlife.co.kr/140294/\n",
      "🔗 기사 URL: https://mypetlife.co.kr/140270/\n",
      "🔗 기사 URL: https://mypetlife.co.kr/140191/\n",
      "\n",
      "📄 페이지 35 처리 중...\n",
      "🔗 기사 URL: https://mypetlife.co.kr/140174/\n",
      "🔗 기사 URL: https://mypetlife.co.kr/140095/\n",
      "🔗 기사 URL: https://mypetlife.co.kr/140070/\n",
      "🔗 기사 URL: https://mypetlife.co.kr/139975/\n",
      "🔗 기사 URL: https://mypetlife.co.kr/139919/\n",
      "🔗 기사 URL: https://mypetlife.co.kr/139886/\n",
      "🔗 기사 URL: https://mypetlife.co.kr/139814/\n",
      "🔗 기사 URL: https://mypetlife.co.kr/139764/\n",
      "🔗 기사 URL: https://mypetlife.co.kr/139753/\n",
      "🔗 기사 URL: https://mypetlife.co.kr/139706/\n",
      "\n",
      "📄 페이지 36 처리 중...\n",
      "🔗 기사 URL: https://mypetlife.co.kr/139644/\n",
      "🔗 기사 URL: https://mypetlife.co.kr/139602/\n",
      "🔗 기사 URL: https://mypetlife.co.kr/139556/\n",
      "🔗 기사 URL: https://mypetlife.co.kr/139524/\n",
      "🔗 기사 URL: https://mypetlife.co.kr/139459/\n",
      "🔗 기사 URL: https://mypetlife.co.kr/139352/\n",
      "🔗 기사 URL: https://mypetlife.co.kr/139295/\n",
      "🔗 기사 URL: https://mypetlife.co.kr/139286/\n",
      "🔗 기사 URL: https://mypetlife.co.kr/139234/\n",
      "🔗 기사 URL: https://mypetlife.co.kr/139142/\n",
      "\n",
      "📄 페이지 37 처리 중...\n",
      "🔗 기사 URL: https://mypetlife.co.kr/138961/\n",
      "🔗 기사 URL: https://mypetlife.co.kr/138922/\n",
      "🔗 기사 URL: https://mypetlife.co.kr/138840/\n",
      "🔗 기사 URL: https://mypetlife.co.kr/138795/\n",
      "🔗 기사 URL: https://mypetlife.co.kr/138735/\n",
      "🔗 기사 URL: https://mypetlife.co.kr/138632/\n",
      "🔗 기사 URL: https://mypetlife.co.kr/138602/\n",
      "🔗 기사 URL: https://mypetlife.co.kr/138524/\n",
      "🔗 기사 URL: https://mypetlife.co.kr/138429/\n",
      "🔗 기사 URL: https://mypetlife.co.kr/138378/\n",
      "\n",
      "📄 페이지 38 처리 중...\n",
      "🔗 기사 URL: https://mypetlife.co.kr/138318/\n",
      "🔗 기사 URL: https://mypetlife.co.kr/138237/\n",
      "🔗 기사 URL: https://mypetlife.co.kr/138217/\n",
      "🔗 기사 URL: https://mypetlife.co.kr/138160/\n",
      "🔗 기사 URL: https://mypetlife.co.kr/138130/\n",
      "🔗 기사 URL: https://mypetlife.co.kr/138071/\n",
      "🔗 기사 URL: https://mypetlife.co.kr/137969/\n",
      "🔗 기사 URL: https://mypetlife.co.kr/137963/\n",
      "🔗 기사 URL: https://mypetlife.co.kr/137870/\n",
      "🔗 기사 URL: https://mypetlife.co.kr/137852/\n",
      "\n",
      "📄 페이지 39 처리 중...\n",
      "🔗 기사 URL: https://mypetlife.co.kr/137776/\n",
      "🔗 기사 URL: https://mypetlife.co.kr/137683/\n",
      "🔗 기사 URL: https://mypetlife.co.kr/137666/\n",
      "🔗 기사 URL: https://mypetlife.co.kr/137608/\n",
      "🔗 기사 URL: https://mypetlife.co.kr/137516/\n",
      "🔗 기사 URL: https://mypetlife.co.kr/137477/\n",
      "🔗 기사 URL: https://mypetlife.co.kr/137422/\n",
      "🔗 기사 URL: https://mypetlife.co.kr/137340/\n",
      "🔗 기사 URL: https://mypetlife.co.kr/137282/\n",
      "🔗 기사 URL: https://mypetlife.co.kr/137267/\n",
      "\n",
      "📄 페이지 40 처리 중...\n",
      "🔗 기사 URL: https://mypetlife.co.kr/137251/\n",
      "🔗 기사 URL: https://mypetlife.co.kr/137221/\n",
      "🔗 기사 URL: https://mypetlife.co.kr/137133/\n",
      "🔗 기사 URL: https://mypetlife.co.kr/137062/\n",
      "🔗 기사 URL: https://mypetlife.co.kr/137030/\n",
      "🔗 기사 URL: https://mypetlife.co.kr/136980/\n",
      "🔗 기사 URL: https://mypetlife.co.kr/136788/\n",
      "🔗 기사 URL: https://mypetlife.co.kr/136712/\n",
      "🔗 기사 URL: https://mypetlife.co.kr/136674/\n",
      "🔗 기사 URL: https://mypetlife.co.kr/136647/\n",
      "\n",
      "📄 페이지 41 처리 중...\n",
      "🔗 기사 URL: https://mypetlife.co.kr/136576/\n",
      "🔗 기사 URL: https://mypetlife.co.kr/136483/\n",
      "🔗 기사 URL: https://mypetlife.co.kr/136444/\n",
      "🔗 기사 URL: https://mypetlife.co.kr/136391/\n",
      "🔗 기사 URL: https://mypetlife.co.kr/136296/\n",
      "🔗 기사 URL: https://mypetlife.co.kr/136260/\n",
      "🔗 기사 URL: https://mypetlife.co.kr/136242/\n",
      "🔗 기사 URL: https://mypetlife.co.kr/136160/\n",
      "🔗 기사 URL: https://mypetlife.co.kr/136073/\n",
      "🔗 기사 URL: https://mypetlife.co.kr/136057/\n",
      "\n",
      "📄 페이지 42 처리 중...\n",
      "🔗 기사 URL: https://mypetlife.co.kr/136006/\n",
      "🔗 기사 URL: https://mypetlife.co.kr/135970/\n",
      "🔗 기사 URL: https://mypetlife.co.kr/135915/\n",
      "🔗 기사 URL: https://mypetlife.co.kr/135891/\n",
      "🔗 기사 URL: https://mypetlife.co.kr/135847/\n",
      "🔗 기사 URL: https://mypetlife.co.kr/135805/\n",
      "🔗 기사 URL: https://mypetlife.co.kr/135726/\n",
      "🔗 기사 URL: https://mypetlife.co.kr/135670/\n",
      "🔗 기사 URL: https://mypetlife.co.kr/135558/\n",
      "🔗 기사 URL: https://mypetlife.co.kr/135535/\n",
      "\n",
      "📄 페이지 43 처리 중...\n",
      "🔗 기사 URL: https://mypetlife.co.kr/135504/\n",
      "🔗 기사 URL: https://mypetlife.co.kr/135427/\n",
      "🔗 기사 URL: https://mypetlife.co.kr/135404/\n",
      "🔗 기사 URL: https://mypetlife.co.kr/135339/\n",
      "🔗 기사 URL: https://mypetlife.co.kr/135316/\n",
      "🔗 기사 URL: https://mypetlife.co.kr/135245/\n",
      "🔗 기사 URL: https://mypetlife.co.kr/135192/\n",
      "🔗 기사 URL: https://mypetlife.co.kr/135146/\n",
      "🔗 기사 URL: https://mypetlife.co.kr/135086/\n",
      "🔗 기사 URL: https://mypetlife.co.kr/135044/\n",
      "\n",
      "📄 페이지 44 처리 중...\n",
      "🔗 기사 URL: https://mypetlife.co.kr/134983/\n",
      "🔗 기사 URL: https://mypetlife.co.kr/134941/\n",
      "🔗 기사 URL: https://mypetlife.co.kr/134849/\n",
      "🔗 기사 URL: https://mypetlife.co.kr/134768/\n",
      "🔗 기사 URL: https://mypetlife.co.kr/134747/\n",
      "🔗 기사 URL: https://mypetlife.co.kr/134713/\n",
      "🔗 기사 URL: https://mypetlife.co.kr/134668/\n",
      "🔗 기사 URL: https://mypetlife.co.kr/134568/\n",
      "🔗 기사 URL: https://mypetlife.co.kr/134528/\n",
      "🔗 기사 URL: https://mypetlife.co.kr/134486/\n",
      "\n",
      "📄 페이지 45 처리 중...\n",
      "🔗 기사 URL: https://mypetlife.co.kr/134246/\n",
      "🔗 기사 URL: https://mypetlife.co.kr/134229/\n",
      "🔗 기사 URL: https://mypetlife.co.kr/134143/\n",
      "🔗 기사 URL: https://mypetlife.co.kr/134094/\n",
      "🔗 기사 URL: https://mypetlife.co.kr/134025/\n",
      "🔗 기사 URL: https://mypetlife.co.kr/133938/\n",
      "🔗 기사 URL: https://mypetlife.co.kr/133844/\n",
      "🔗 기사 URL: https://mypetlife.co.kr/133764/\n",
      "🔗 기사 URL: https://mypetlife.co.kr/133737/\n",
      "🔗 기사 URL: https://mypetlife.co.kr/133634/\n",
      "\n",
      "📄 페이지 46 처리 중...\n",
      "🔗 기사 URL: https://mypetlife.co.kr/133509/\n",
      "🔗 기사 URL: https://mypetlife.co.kr/133380/\n",
      "🔗 기사 URL: https://mypetlife.co.kr/133283/\n",
      "🔗 기사 URL: https://mypetlife.co.kr/133195/\n",
      "🔗 기사 URL: https://mypetlife.co.kr/133047/\n",
      "🔗 기사 URL: https://mypetlife.co.kr/133023/\n",
      "🔗 기사 URL: https://mypetlife.co.kr/132994/\n",
      "🔗 기사 URL: https://mypetlife.co.kr/132853/\n",
      "🔗 기사 URL: https://mypetlife.co.kr/132807/\n",
      "🔗 기사 URL: https://mypetlife.co.kr/132678/\n",
      "\n",
      "📄 페이지 47 처리 중...\n",
      "🔗 기사 URL: https://mypetlife.co.kr/132571/\n",
      "🔗 기사 URL: https://mypetlife.co.kr/132441/\n",
      "🔗 기사 URL: https://mypetlife.co.kr/132295/\n",
      "🔗 기사 URL: https://mypetlife.co.kr/132040/\n",
      "🔗 기사 URL: https://mypetlife.co.kr/131812/\n",
      "🔗 기사 URL: https://mypetlife.co.kr/131579/\n",
      "🔗 기사 URL: https://mypetlife.co.kr/131505/\n",
      "🔗 기사 URL: https://mypetlife.co.kr/131266/\n",
      "🔗 기사 URL: https://mypetlife.co.kr/131020/\n",
      "🔗 기사 URL: https://mypetlife.co.kr/130923/\n",
      "\n",
      "📄 페이지 48 처리 중...\n",
      "🔗 기사 URL: https://mypetlife.co.kr/130773/\n",
      "🔗 기사 URL: https://mypetlife.co.kr/130636/\n",
      "🔗 기사 URL: https://mypetlife.co.kr/130495/\n",
      "🔗 기사 URL: https://mypetlife.co.kr/130371/\n",
      "🔗 기사 URL: https://mypetlife.co.kr/130352/\n",
      "🔗 기사 URL: https://mypetlife.co.kr/130126/\n",
      "🔗 기사 URL: https://mypetlife.co.kr/129620/\n",
      "🔗 기사 URL: https://mypetlife.co.kr/129580/\n",
      "🔗 기사 URL: https://mypetlife.co.kr/129462/\n",
      "🔗 기사 URL: https://mypetlife.co.kr/129328/\n",
      "\n",
      "📄 페이지 49 처리 중...\n",
      "🔗 기사 URL: https://mypetlife.co.kr/129251/\n",
      "🔗 기사 URL: https://mypetlife.co.kr/129157/\n",
      "🔗 기사 URL: https://mypetlife.co.kr/129023/\n",
      "🔗 기사 URL: https://mypetlife.co.kr/128665/\n",
      "🔗 기사 URL: https://mypetlife.co.kr/128575/\n",
      "🔗 기사 URL: https://mypetlife.co.kr/128411/\n",
      "🔗 기사 URL: https://mypetlife.co.kr/128381/\n",
      "🔗 기사 URL: https://mypetlife.co.kr/128211/\n",
      "🔗 기사 URL: https://mypetlife.co.kr/127854/\n",
      "🔗 기사 URL: https://mypetlife.co.kr/127670/\n",
      "\n",
      "📄 페이지 50 처리 중...\n",
      "🔗 기사 URL: https://mypetlife.co.kr/127342/\n",
      "🔗 기사 URL: https://mypetlife.co.kr/126896/\n",
      "🔗 기사 URL: https://mypetlife.co.kr/126801/\n",
      "🔗 기사 URL: https://mypetlife.co.kr/126696/\n",
      "🔗 기사 URL: https://mypetlife.co.kr/126652/\n",
      "🔗 기사 URL: https://mypetlife.co.kr/126495/\n",
      "🔗 기사 URL: https://mypetlife.co.kr/126462/\n",
      "🔗 기사 URL: https://mypetlife.co.kr/126330/\n",
      "🔗 기사 URL: https://mypetlife.co.kr/126254/\n",
      "🔗 기사 URL: https://mypetlife.co.kr/125983/\n",
      "\n",
      "📄 페이지 51 처리 중...\n",
      "🔗 기사 URL: https://mypetlife.co.kr/125966/\n",
      "🔗 기사 URL: https://mypetlife.co.kr/125807/\n",
      "🔗 기사 URL: https://mypetlife.co.kr/125606/\n",
      "🔗 기사 URL: https://mypetlife.co.kr/125369/\n",
      "🔗 기사 URL: https://mypetlife.co.kr/125330/\n",
      "🔗 기사 URL: https://mypetlife.co.kr/125172/\n",
      "🔗 기사 URL: https://mypetlife.co.kr/125098/\n",
      "🔗 기사 URL: https://mypetlife.co.kr/124877/\n",
      "🔗 기사 URL: https://mypetlife.co.kr/124711/\n",
      "🔗 기사 URL: https://mypetlife.co.kr/124252/\n",
      "\n",
      "📄 페이지 52 처리 중...\n",
      "🔗 기사 URL: https://mypetlife.co.kr/123970/\n",
      "🔗 기사 URL: https://mypetlife.co.kr/123639/\n",
      "🔗 기사 URL: https://mypetlife.co.kr/123505/\n",
      "🔗 기사 URL: https://mypetlife.co.kr/123377/\n",
      "🔗 기사 URL: https://mypetlife.co.kr/123335/\n",
      "🔗 기사 URL: https://mypetlife.co.kr/123154/\n",
      "🔗 기사 URL: https://mypetlife.co.kr/123003/\n",
      "🔗 기사 URL: https://mypetlife.co.kr/122973/\n",
      "🔗 기사 URL: https://mypetlife.co.kr/122755/\n",
      "🔗 기사 URL: https://mypetlife.co.kr/122302/\n",
      "\n",
      "📄 페이지 53 처리 중...\n",
      "🔗 기사 URL: https://mypetlife.co.kr/122110/\n",
      "🔗 기사 URL: https://mypetlife.co.kr/121951/\n",
      "🔗 기사 URL: https://mypetlife.co.kr/121731/\n",
      "🔗 기사 URL: https://mypetlife.co.kr/121516/\n",
      "🔗 기사 URL: https://mypetlife.co.kr/121400/\n",
      "🔗 기사 URL: https://mypetlife.co.kr/121237/\n",
      "🔗 기사 URL: https://mypetlife.co.kr/121202/\n",
      "🔗 기사 URL: https://mypetlife.co.kr/121058/\n",
      "🔗 기사 URL: https://mypetlife.co.kr/121008/\n",
      "🔗 기사 URL: https://mypetlife.co.kr/120793/\n",
      "\n",
      "📄 페이지 54 처리 중...\n",
      "🔗 기사 URL: https://mypetlife.co.kr/120435/\n",
      "🔗 기사 URL: https://mypetlife.co.kr/120294/\n",
      "🔗 기사 URL: https://mypetlife.co.kr/119989/\n",
      "🔗 기사 URL: https://mypetlife.co.kr/119763/\n",
      "🔗 기사 URL: https://mypetlife.co.kr/119525/\n",
      "🔗 기사 URL: https://mypetlife.co.kr/119480/\n",
      "🔗 기사 URL: https://mypetlife.co.kr/119258/\n",
      "🔗 기사 URL: https://mypetlife.co.kr/119030/\n",
      "🔗 기사 URL: https://mypetlife.co.kr/118844/\n",
      "🔗 기사 URL: https://mypetlife.co.kr/118698/\n",
      "\n",
      "📄 페이지 55 처리 중...\n",
      "🔗 기사 URL: https://mypetlife.co.kr/118477/\n",
      "🔗 기사 URL: https://mypetlife.co.kr/118314/\n",
      "🔗 기사 URL: https://mypetlife.co.kr/118224/\n",
      "🔗 기사 URL: https://mypetlife.co.kr/118010/\n",
      "🔗 기사 URL: https://mypetlife.co.kr/117877/\n",
      "🔗 기사 URL: https://mypetlife.co.kr/117674/\n",
      "🔗 기사 URL: https://mypetlife.co.kr/117471/\n",
      "🔗 기사 URL: https://mypetlife.co.kr/117216/\n",
      "🔗 기사 URL: https://mypetlife.co.kr/117121/\n",
      "🔗 기사 URL: https://mypetlife.co.kr/116962/\n",
      "\n",
      "📄 페이지 56 처리 중...\n",
      "🔗 기사 URL: https://mypetlife.co.kr/116739/\n",
      "🔗 기사 URL: https://mypetlife.co.kr/116680/\n",
      "🔗 기사 URL: https://mypetlife.co.kr/116534/\n",
      "🔗 기사 URL: https://mypetlife.co.kr/116359/\n",
      "🔗 기사 URL: https://mypetlife.co.kr/116330/\n",
      "🔗 기사 URL: https://mypetlife.co.kr/116223/\n",
      "🔗 기사 URL: https://mypetlife.co.kr/116120/\n",
      "🔗 기사 URL: https://mypetlife.co.kr/115922/\n",
      "🔗 기사 URL: https://mypetlife.co.kr/115697/\n",
      "🔗 기사 URL: https://mypetlife.co.kr/115538/\n",
      "\n",
      "📄 페이지 57 처리 중...\n",
      "🔗 기사 URL: https://mypetlife.co.kr/115413/\n",
      "🔗 기사 URL: https://mypetlife.co.kr/115060/\n",
      "🔗 기사 URL: https://mypetlife.co.kr/114846/\n",
      "🔗 기사 URL: https://mypetlife.co.kr/114760/\n",
      "🔗 기사 URL: https://mypetlife.co.kr/114475/\n",
      "🔗 기사 URL: https://mypetlife.co.kr/114424/\n",
      "🔗 기사 URL: https://mypetlife.co.kr/114403/\n",
      "🔗 기사 URL: https://mypetlife.co.kr/114349/\n",
      "🔗 기사 URL: https://mypetlife.co.kr/114315/\n",
      "🔗 기사 URL: https://mypetlife.co.kr/114215/\n",
      "\n",
      "📄 페이지 58 처리 중...\n",
      "🔗 기사 URL: https://mypetlife.co.kr/114184/\n",
      "🔗 기사 URL: https://mypetlife.co.kr/114125/\n",
      "🔗 기사 URL: https://mypetlife.co.kr/114100/\n",
      "🔗 기사 URL: https://mypetlife.co.kr/114072/\n",
      "🔗 기사 URL: https://mypetlife.co.kr/114046/\n",
      "🔗 기사 URL: https://mypetlife.co.kr/113995/\n",
      "🔗 기사 URL: https://mypetlife.co.kr/113934/\n",
      "🔗 기사 URL: https://mypetlife.co.kr/113832/\n",
      "🔗 기사 URL: https://mypetlife.co.kr/113673/\n",
      "🔗 기사 URL: https://mypetlife.co.kr/113573/\n",
      "\n",
      "📄 페이지 59 처리 중...\n",
      "🔗 기사 URL: https://mypetlife.co.kr/113507/\n",
      "🔗 기사 URL: https://mypetlife.co.kr/113302/\n",
      "🔗 기사 URL: https://mypetlife.co.kr/113227/\n",
      "🔗 기사 URL: https://mypetlife.co.kr/113148/\n",
      "🔗 기사 URL: https://mypetlife.co.kr/113009/\n",
      "🔗 기사 URL: https://mypetlife.co.kr/112980/\n",
      "🔗 기사 URL: https://mypetlife.co.kr/112925/\n",
      "🔗 기사 URL: https://mypetlife.co.kr/112806/\n",
      "🔗 기사 URL: https://mypetlife.co.kr/112432/\n",
      "🔗 기사 URL: https://mypetlife.co.kr/112400/\n",
      "\n",
      "📄 페이지 60 처리 중...\n",
      "🔗 기사 URL: https://mypetlife.co.kr/112383/\n",
      "🔗 기사 URL: https://mypetlife.co.kr/112274/\n",
      "🔗 기사 URL: https://mypetlife.co.kr/112195/\n",
      "🔗 기사 URL: https://mypetlife.co.kr/112029/\n",
      "🔗 기사 URL: https://mypetlife.co.kr/111910/\n",
      "🔗 기사 URL: https://mypetlife.co.kr/111695/\n",
      "🔗 기사 URL: https://mypetlife.co.kr/111586/\n",
      "🔗 기사 URL: https://mypetlife.co.kr/111513/\n",
      "🔗 기사 URL: https://mypetlife.co.kr/111460/\n",
      "🔗 기사 URL: https://mypetlife.co.kr/111438/\n",
      "\n",
      "📄 페이지 61 처리 중...\n",
      "🔗 기사 URL: https://mypetlife.co.kr/111298/\n",
      "🔗 기사 URL: https://mypetlife.co.kr/111248/\n",
      "🔗 기사 URL: https://mypetlife.co.kr/111045/\n",
      "🔗 기사 URL: https://mypetlife.co.kr/110956/\n",
      "🔗 기사 URL: https://mypetlife.co.kr/110876/\n",
      "🔗 기사 URL: https://mypetlife.co.kr/110752/\n",
      "🔗 기사 URL: https://mypetlife.co.kr/110700/\n",
      "🔗 기사 URL: https://mypetlife.co.kr/110638/\n",
      "🔗 기사 URL: https://mypetlife.co.kr/110568/\n",
      "🔗 기사 URL: https://mypetlife.co.kr/110426/\n",
      "\n",
      "📄 페이지 62 처리 중...\n",
      "🔗 기사 URL: https://mypetlife.co.kr/110322/\n",
      "🔗 기사 URL: https://mypetlife.co.kr/110248/\n",
      "🔗 기사 URL: https://mypetlife.co.kr/110195/\n",
      "🔗 기사 URL: https://mypetlife.co.kr/110135/\n",
      "🔗 기사 URL: https://mypetlife.co.kr/109971/\n",
      "🔗 기사 URL: https://mypetlife.co.kr/109858/\n",
      "🔗 기사 URL: https://mypetlife.co.kr/109793/\n",
      "🔗 기사 URL: https://mypetlife.co.kr/109580/\n",
      "🔗 기사 URL: https://mypetlife.co.kr/109516/\n",
      "🔗 기사 URL: https://mypetlife.co.kr/109483/\n",
      "\n",
      "📄 페이지 63 처리 중...\n",
      "🔗 기사 URL: https://mypetlife.co.kr/109440/\n",
      "🔗 기사 URL: https://mypetlife.co.kr/109373/\n",
      "🔗 기사 URL: https://mypetlife.co.kr/109202/\n",
      "🔗 기사 URL: https://mypetlife.co.kr/109030/\n",
      "🔗 기사 URL: https://mypetlife.co.kr/108984/\n",
      "🔗 기사 URL: https://mypetlife.co.kr/108852/\n",
      "🔗 기사 URL: https://mypetlife.co.kr/108749/\n",
      "🔗 기사 URL: https://mypetlife.co.kr/108635/\n",
      "🔗 기사 URL: https://mypetlife.co.kr/108572/\n",
      "🔗 기사 URL: https://mypetlife.co.kr/108472/\n",
      "\n",
      "📄 페이지 64 처리 중...\n",
      "🔗 기사 URL: https://mypetlife.co.kr/108225/\n",
      "🔗 기사 URL: https://mypetlife.co.kr/108137/\n",
      "🔗 기사 URL: https://mypetlife.co.kr/108070/\n",
      "🔗 기사 URL: https://mypetlife.co.kr/?post_type=premium#038;p=108023\n",
      "🔗 기사 URL: https://mypetlife.co.kr/107933/\n",
      "🔗 기사 URL: https://mypetlife.co.kr/107832/\n",
      "🔗 기사 URL: https://mypetlife.co.kr/107786/\n",
      "🔗 기사 URL: https://mypetlife.co.kr/107540/\n",
      "🔗 기사 URL: https://mypetlife.co.kr/?post_type=premium#038;p=107457\n",
      "🔗 기사 URL: https://mypetlife.co.kr/107288/\n",
      "\n",
      "📄 페이지 65 처리 중...\n",
      "🔗 기사 URL: https://mypetlife.co.kr/107193/\n",
      "🔗 기사 URL: https://mypetlife.co.kr/107155/\n",
      "🔗 기사 URL: https://mypetlife.co.kr/107111/\n",
      "🔗 기사 URL: https://mypetlife.co.kr/?post_type=premium#038;p=107069\n",
      "🔗 기사 URL: https://mypetlife.co.kr/106941/\n",
      "🔗 기사 URL: https://mypetlife.co.kr/106914/\n",
      "🔗 기사 URL: https://mypetlife.co.kr/106813/\n",
      "🔗 기사 URL: https://mypetlife.co.kr/?post_type=premium#038;p=106811\n",
      "🔗 기사 URL: https://mypetlife.co.kr/?post_type=premium#038;p=106679\n",
      "🔗 기사 URL: https://mypetlife.co.kr/?post_type=premium#038;p=106517\n",
      "\n",
      "📄 페이지 66 처리 중...\n",
      "🔗 기사 URL: https://mypetlife.co.kr/?post_type=premium#038;p=106457\n",
      "🔗 기사 URL: https://mypetlife.co.kr/?post_type=premium#038;p=106388\n",
      "🔗 기사 URL: https://mypetlife.co.kr/premium/%ea%b0%95%ec%95%84%ec%a7%80-%ec%82%ac%eb%a3%8c-%eb%93%b1%ea%b8%89-%ec%a7%84%ec%a7%9c-%eb%af%bf%ec%96%b4%eb%8f%84-%eb%90%a0%ea%b9%8c/\n",
      "🔗 기사 URL: https://mypetlife.co.kr/premium/%ea%b0%95%ec%95%84%ec%a7%80-%ec%82%ac%eb%a3%8c-%ec%84%b1%eb%b6%84-%ed%94%bc%ed%95%b4%ec%95%bc-%ed%95%98%eb%8a%94-%ea%b1%b4/\n",
      "🔗 기사 URL: https://mypetlife.co.kr/premium/%ea%b0%95%ec%95%84%ec%a7%80-%ec%82%ac%eb%a3%8c-%ec%84%b1%eb%b6%84%ed%91%9c-%ea%b0%84%eb%8b%a8%ed%95%98%ea%b2%8c-%ec%95%8c%ec%95%84%eb%b3%b4%ec%9e%90/\n",
      "🔗 기사 URL: https://mypetlife.co.kr/106172/\n",
      "🔗 기사 URL: https://mypetlife.co.kr/105939/\n",
      "🔗 기사 URL: https://mypetlife.co.kr/105719/\n",
      "🔗 기사 URL: https://mypetlife.co.kr/105637/\n",
      "🔗 기사 URL: https://mypetlife.co.kr/105616/\n",
      "\n",
      "📄 페이지 67 처리 중...\n",
      "🔗 기사 URL: https://mypetlife.co.kr/105580/\n",
      "🔗 기사 URL: https://mypetlife.co.kr/105449/\n",
      "🔗 기사 URL: https://mypetlife.co.kr/105427/\n",
      "🔗 기사 URL: https://mypetlife.co.kr/105381/\n",
      "🔗 기사 URL: https://mypetlife.co.kr/105333/\n",
      "🔗 기사 URL: https://mypetlife.co.kr/105306/\n",
      "🔗 기사 URL: https://mypetlife.co.kr/105263/\n",
      "🔗 기사 URL: https://mypetlife.co.kr/105236/\n",
      "🔗 기사 URL: https://mypetlife.co.kr/105206/\n",
      "🔗 기사 URL: https://mypetlife.co.kr/105154/\n",
      "\n",
      "📄 페이지 68 처리 중...\n",
      "🔗 기사 URL: https://mypetlife.co.kr/105084/\n",
      "🔗 기사 URL: https://mypetlife.co.kr/105072/\n",
      "🔗 기사 URL: https://mypetlife.co.kr/105045/\n",
      "🔗 기사 URL: https://mypetlife.co.kr/104938/\n",
      "🔗 기사 URL: https://mypetlife.co.kr/104911/\n",
      "🔗 기사 URL: https://mypetlife.co.kr/104882/\n",
      "🔗 기사 URL: https://mypetlife.co.kr/104868/\n",
      "🔗 기사 URL: https://mypetlife.co.kr/104824/\n",
      "🔗 기사 URL: https://mypetlife.co.kr/104779/\n",
      "🔗 기사 URL: https://mypetlife.co.kr/104758/\n",
      "\n",
      "📄 페이지 69 처리 중...\n",
      "🔗 기사 URL: https://mypetlife.co.kr/104715/\n",
      "🔗 기사 URL: https://mypetlife.co.kr/104690/\n",
      "🔗 기사 URL: https://mypetlife.co.kr/104622/\n",
      "🔗 기사 URL: https://mypetlife.co.kr/104587/\n",
      "🔗 기사 URL: https://mypetlife.co.kr/104536/\n",
      "🔗 기사 URL: https://mypetlife.co.kr/104515/\n",
      "🔗 기사 URL: https://mypetlife.co.kr/104439/\n",
      "🔗 기사 URL: https://mypetlife.co.kr/104414/\n",
      "🔗 기사 URL: https://mypetlife.co.kr/104302/\n",
      "🔗 기사 URL: https://mypetlife.co.kr/104276/\n",
      "\n",
      "📄 페이지 70 처리 중...\n",
      "🔗 기사 URL: https://mypetlife.co.kr/104246/\n",
      "🔗 기사 URL: https://mypetlife.co.kr/104216/\n",
      "🔗 기사 URL: https://mypetlife.co.kr/104186/\n",
      "🔗 기사 URL: https://mypetlife.co.kr/104154/\n",
      "🔗 기사 URL: https://mypetlife.co.kr/104105/\n",
      "🔗 기사 URL: https://mypetlife.co.kr/104058/\n",
      "🔗 기사 URL: https://mypetlife.co.kr/104017/\n",
      "🔗 기사 URL: https://mypetlife.co.kr/103976/\n",
      "🔗 기사 URL: https://mypetlife.co.kr/103947/\n",
      "🔗 기사 URL: https://mypetlife.co.kr/103919/\n",
      "\n",
      "📄 페이지 71 처리 중...\n",
      "🔗 기사 URL: https://mypetlife.co.kr/103816/\n",
      "🔗 기사 URL: https://mypetlife.co.kr/103790/\n",
      "🔗 기사 URL: https://mypetlife.co.kr/103733/\n",
      "🔗 기사 URL: https://mypetlife.co.kr/103677/\n",
      "🔗 기사 URL: https://mypetlife.co.kr/103590/\n",
      "🔗 기사 URL: https://mypetlife.co.kr/103556/\n",
      "🔗 기사 URL: https://mypetlife.co.kr/103505/\n",
      "🔗 기사 URL: https://mypetlife.co.kr/103424/\n",
      "🔗 기사 URL: https://mypetlife.co.kr/103404/\n",
      "🔗 기사 URL: https://mypetlife.co.kr/103339/\n",
      "\n",
      "📄 페이지 72 처리 중...\n",
      "🔗 기사 URL: https://mypetlife.co.kr/103293/\n",
      "🔗 기사 URL: https://mypetlife.co.kr/103244/\n",
      "🔗 기사 URL: https://mypetlife.co.kr/103167/\n",
      "🔗 기사 URL: https://mypetlife.co.kr/103092/\n",
      "🔗 기사 URL: https://mypetlife.co.kr/103014/\n",
      "🔗 기사 URL: https://mypetlife.co.kr/102991/\n",
      "🔗 기사 URL: https://mypetlife.co.kr/102952/\n",
      "🔗 기사 URL: https://mypetlife.co.kr/102885/\n",
      "🔗 기사 URL: https://mypetlife.co.kr/102822/\n",
      "🔗 기사 URL: https://mypetlife.co.kr/102750/\n",
      "\n",
      "📄 페이지 73 처리 중...\n",
      "🔗 기사 URL: https://mypetlife.co.kr/102656/\n",
      "🔗 기사 URL: https://mypetlife.co.kr/102617/\n",
      "🔗 기사 URL: https://mypetlife.co.kr/102591/\n",
      "🔗 기사 URL: https://mypetlife.co.kr/102542/\n",
      "🔗 기사 URL: https://mypetlife.co.kr/102446/\n",
      "🔗 기사 URL: https://mypetlife.co.kr/?post_type=pauple_helpie#038;p=102428\n",
      "🔗 기사 URL: https://mypetlife.co.kr/102387/\n",
      "🔗 기사 URL: https://mypetlife.co.kr/102339/\n",
      "🔗 기사 URL: https://mypetlife.co.kr/102279/\n",
      "🔗 기사 URL: https://mypetlife.co.kr/102248/\n",
      "\n",
      "📄 페이지 74 처리 중...\n",
      "🔗 기사 URL: https://mypetlife.co.kr/102203/\n",
      "🔗 기사 URL: https://mypetlife.co.kr/102150/\n",
      "🔗 기사 URL: https://mypetlife.co.kr/102075/\n",
      "🔗 기사 URL: https://mypetlife.co.kr/102027/\n",
      "🔗 기사 URL: https://mypetlife.co.kr/101994/\n",
      "🔗 기사 URL: https://mypetlife.co.kr/101940/\n",
      "🔗 기사 URL: https://mypetlife.co.kr/101927/\n",
      "🔗 기사 URL: https://mypetlife.co.kr/101855/\n",
      "🔗 기사 URL: https://mypetlife.co.kr/101772/\n",
      "🔗 기사 URL: https://mypetlife.co.kr/101747/\n",
      "\n",
      "📄 페이지 75 처리 중...\n",
      "🔗 기사 URL: https://mypetlife.co.kr/101715/\n",
      "🔗 기사 URL: https://mypetlife.co.kr/101692/\n",
      "🔗 기사 URL: https://mypetlife.co.kr/101639/\n",
      "🔗 기사 URL: https://mypetlife.co.kr/101576/\n",
      "🔗 기사 URL: https://mypetlife.co.kr/101542/\n",
      "🔗 기사 URL: https://mypetlife.co.kr/101499/\n",
      "🔗 기사 URL: https://mypetlife.co.kr/101409/\n",
      "🔗 기사 URL: https://mypetlife.co.kr/101378/\n",
      "🔗 기사 URL: https://mypetlife.co.kr/101227/\n",
      "🔗 기사 URL: https://mypetlife.co.kr/101173/\n",
      "\n",
      "📄 페이지 76 처리 중...\n",
      "🔗 기사 URL: https://mypetlife.co.kr/101116/\n",
      "🔗 기사 URL: https://mypetlife.co.kr/101024/\n",
      "🔗 기사 URL: https://mypetlife.co.kr/100837/\n",
      "🔗 기사 URL: https://mypetlife.co.kr/100831/\n",
      "🔗 기사 URL: https://mypetlife.co.kr/100783/\n",
      "🔗 기사 URL: https://mypetlife.co.kr/100717/\n",
      "🔗 기사 URL: https://mypetlife.co.kr/100624/\n",
      "🔗 기사 URL: https://mypetlife.co.kr/100571/\n",
      "🔗 기사 URL: https://mypetlife.co.kr/100494/\n",
      "🔗 기사 URL: https://mypetlife.co.kr/100408/\n",
      "\n",
      "📄 페이지 77 처리 중...\n",
      "🔗 기사 URL: https://mypetlife.co.kr/100336/\n",
      "🔗 기사 URL: https://mypetlife.co.kr/100231/\n",
      "🔗 기사 URL: https://mypetlife.co.kr/100070/\n",
      "🔗 기사 URL: https://mypetlife.co.kr/99995/\n",
      "🔗 기사 URL: https://mypetlife.co.kr/99927/\n",
      "🔗 기사 URL: https://mypetlife.co.kr/?post_type=premium#038;p=99519\n",
      "🔗 기사 URL: https://mypetlife.co.kr/?post_type=premium#038;p=99328\n",
      "🔗 기사 URL: https://mypetlife.co.kr/?post_type=premium#038;p=99154\n",
      "🔗 기사 URL: https://mypetlife.co.kr/?post_type=premium#038;p=99063\n",
      "🔗 기사 URL: https://mypetlife.co.kr/?post_type=premium#038;p=99008\n",
      "\n",
      "📄 페이지 78 처리 중...\n",
      "🔗 기사 URL: https://mypetlife.co.kr/?post_type=premium#038;p=98713\n",
      "🔗 기사 URL: https://mypetlife.co.kr/?post_type=premium#038;p=98698\n",
      "🔗 기사 URL: https://mypetlife.co.kr/97927/\n",
      "🔗 기사 URL: https://mypetlife.co.kr/97427/\n",
      "🔗 기사 URL: https://mypetlife.co.kr/97209/\n",
      "🔗 기사 URL: https://mypetlife.co.kr/96949/\n",
      "🔗 기사 URL: https://mypetlife.co.kr/96710/\n",
      "🔗 기사 URL: https://mypetlife.co.kr/96659/\n",
      "🔗 기사 URL: https://mypetlife.co.kr/96406/\n",
      "🔗 기사 URL: https://mypetlife.co.kr/96337/\n",
      "\n",
      "📄 페이지 79 처리 중...\n",
      "🔗 기사 URL: https://mypetlife.co.kr/96017/\n",
      "🔗 기사 URL: https://mypetlife.co.kr/95845/\n",
      "🔗 기사 URL: https://mypetlife.co.kr/95612/\n",
      "🔗 기사 URL: https://mypetlife.co.kr/95446/\n",
      "🔗 기사 URL: https://mypetlife.co.kr/95386/\n",
      "🔗 기사 URL: https://mypetlife.co.kr/?post_type=premium#038;p=94661\n",
      "🔗 기사 URL: https://mypetlife.co.kr/?post_type=premium#038;p=94599\n",
      "🔗 기사 URL: https://mypetlife.co.kr/?post_type=premium#038;p=94590\n",
      "🔗 기사 URL: https://mypetlife.co.kr/?post_type=premium#038;p=94545\n",
      "🔗 기사 URL: https://mypetlife.co.kr/?post_type=premium#038;p=94471\n",
      "\n",
      "📄 페이지 80 처리 중...\n",
      "🔗 기사 URL: https://mypetlife.co.kr/?post_type=premium#038;p=94463\n",
      "🔗 기사 URL: https://mypetlife.co.kr/94045/\n",
      "🔗 기사 URL: https://mypetlife.co.kr/94004/\n",
      "🔗 기사 URL: https://mypetlife.co.kr/?post_type=premium#038;p=93316\n",
      "🔗 기사 URL: https://mypetlife.co.kr/?post_type=premium#038;p=93314\n",
      "🔗 기사 URL: https://mypetlife.co.kr/?post_type=premium#038;p=93310\n",
      "🔗 기사 URL: https://mypetlife.co.kr/?post_type=premium#038;p=93002\n",
      "🔗 기사 URL: https://mypetlife.co.kr/?post_type=premium#038;p=92157\n",
      "🔗 기사 URL: https://mypetlife.co.kr/?post_type=premium#038;p=91612\n",
      "🔗 기사 URL: https://mypetlife.co.kr/?post_type=premium#038;p=91610\n",
      "\n",
      "📄 페이지 81 처리 중...\n",
      "🔗 기사 URL: https://mypetlife.co.kr/91355/\n",
      "🔗 기사 URL: https://mypetlife.co.kr/91350/\n",
      "🔗 기사 URL: https://mypetlife.co.kr/?post_type=premium#038;p=90943\n",
      "🔗 기사 URL: https://mypetlife.co.kr/?post_type=premium#038;p=89747\n",
      "🔗 기사 URL: https://mypetlife.co.kr/?post_type=premium#038;p=89624\n",
      "🔗 기사 URL: https://mypetlife.co.kr/?post_type=premium#038;p=89603\n",
      "🔗 기사 URL: https://mypetlife.co.kr/89564/\n",
      "🔗 기사 URL: https://mypetlife.co.kr/89560/\n",
      "🔗 기사 URL: https://mypetlife.co.kr/89555/\n",
      "🔗 기사 URL: https://mypetlife.co.kr/89550/\n",
      "\n",
      "📄 페이지 82 처리 중...\n",
      "🔗 기사 URL: https://mypetlife.co.kr/?post_type=premium#038;p=89235\n",
      "🔗 기사 URL: https://mypetlife.co.kr/?post_type=premium#038;p=89150\n",
      "🔗 기사 URL: https://mypetlife.co.kr/?post_type=premium#038;p=88907\n",
      "🔗 기사 URL: https://mypetlife.co.kr/?post_type=premium#038;p=88686\n",
      "🔗 기사 URL: https://mypetlife.co.kr/?post_type=premium#038;p=88600\n",
      "🔗 기사 URL: https://mypetlife.co.kr/?post_type=premium#038;p=88201\n",
      "🔗 기사 URL: https://mypetlife.co.kr/?post_type=premium#038;p=88054\n",
      "🔗 기사 URL: https://mypetlife.co.kr/?post_type=premium#038;p=88017\n",
      "🔗 기사 URL: https://mypetlife.co.kr/?post_type=premium#038;p=88006\n",
      "🔗 기사 URL: https://mypetlife.co.kr/?post_type=premium#038;p=87666\n",
      "\n",
      "📄 페이지 83 처리 중...\n",
      "🔗 기사 URL: https://mypetlife.co.kr/87282/\n",
      "🔗 기사 URL: https://mypetlife.co.kr/86988/\n",
      "🔗 기사 URL: https://mypetlife.co.kr/?post_type=premium#038;p=86980\n",
      "🔗 기사 URL: https://mypetlife.co.kr/?post_type=premium#038;p=86971\n",
      "🔗 기사 URL: https://mypetlife.co.kr/?post_type=premium#038;p=86964\n",
      "🔗 기사 URL: https://mypetlife.co.kr/?post_type=premium#038;p=86949\n",
      "🔗 기사 URL: https://mypetlife.co.kr/?post_type=premium#038;p=86913\n",
      "🔗 기사 URL: https://mypetlife.co.kr/86846/\n",
      "🔗 기사 URL: https://mypetlife.co.kr/86830/\n",
      "🔗 기사 URL: https://mypetlife.co.kr/?post_type=premium#038;p=86818\n",
      "\n",
      "📄 페이지 84 처리 중...\n",
      "🔗 기사 URL: https://mypetlife.co.kr/?post_type=premium#038;p=86814\n",
      "🔗 기사 URL: https://mypetlife.co.kr/?post_type=pauple_helpie#038;p=86745\n",
      "🔗 기사 URL: https://mypetlife.co.kr/?post_type=premium#038;p=86495\n",
      "🔗 기사 URL: https://mypetlife.co.kr/?post_type=premium#038;p=86397\n",
      "🔗 기사 URL: https://mypetlife.co.kr/?post_type=premium#038;p=86392\n",
      "🔗 기사 URL: https://mypetlife.co.kr/?post_type=premium#038;p=84931\n",
      "🔗 기사 URL: https://mypetlife.co.kr/?post_type=premium#038;p=84925\n",
      "🔗 기사 URL: https://mypetlife.co.kr/?post_type=premium#038;p=84256\n",
      "🔗 기사 URL: https://mypetlife.co.kr/?post_type=premium#038;p=84215\n",
      "🔗 기사 URL: https://mypetlife.co.kr/?post_type=premium#038;p=84199\n",
      "\n",
      "📄 페이지 85 처리 중...\n",
      "🔗 기사 URL: https://mypetlife.co.kr/?post_type=premium#038;p=84185\n",
      "🔗 기사 URL: https://mypetlife.co.kr/?post_type=premium#038;p=84182\n",
      "🔗 기사 URL: https://mypetlife.co.kr/?post_type=premium#038;p=84179\n",
      "🔗 기사 URL: https://mypetlife.co.kr/?post_type=premium#038;p=84173\n",
      "🔗 기사 URL: https://mypetlife.co.kr/?post_type=premium#038;p=84144\n",
      "🔗 기사 URL: https://mypetlife.co.kr/?post_type=premium#038;p=84139\n",
      "🔗 기사 URL: https://mypetlife.co.kr/?post_type=premium#038;p=84134\n",
      "🔗 기사 URL: https://mypetlife.co.kr/82607/\n",
      "🔗 기사 URL: https://mypetlife.co.kr/81409/\n",
      "🔗 기사 URL: https://mypetlife.co.kr/79666/\n",
      "\n",
      "📄 페이지 86 처리 중...\n",
      "🔗 기사 URL: https://mypetlife.co.kr/79552/\n",
      "🔗 기사 URL: https://mypetlife.co.kr/75068/\n",
      "🔗 기사 URL: https://mypetlife.co.kr/?post_type=pauple_helpie#038;p=70326\n",
      "🔗 기사 URL: https://mypetlife.co.kr/70012/\n",
      "🔗 기사 URL: https://mypetlife.co.kr/?post_type=pauple_helpie#038;p=69998\n",
      "🔗 기사 URL: https://mypetlife.co.kr/69789/\n",
      "🔗 기사 URL: https://mypetlife.co.kr/68627/\n",
      "🔗 기사 URL: https://mypetlife.co.kr/?post_type=pauple_helpie#038;p=66886\n",
      "🔗 기사 URL: https://mypetlife.co.kr/?post_type=pauple_helpie#038;p=66876\n",
      "🔗 기사 URL: https://mypetlife.co.kr/?post_type=pauple_helpie#038;p=66549\n",
      "\n",
      "📄 페이지 87 처리 중...\n",
      "🔗 기사 URL: https://mypetlife.co.kr/65616/\n",
      "🔗 기사 URL: https://mypetlife.co.kr/?post_type=pauple_helpie#038;p=65604\n",
      "🔗 기사 URL: https://mypetlife.co.kr/65381/\n",
      "🔗 기사 URL: https://mypetlife.co.kr/65165/\n",
      "🔗 기사 URL: https://mypetlife.co.kr/65144/\n",
      "🔗 기사 URL: https://mypetlife.co.kr/?post_type=pauple_helpie#038;p=65120\n",
      "🔗 기사 URL: https://mypetlife.co.kr/?post_type=pauple_helpie#038;p=65090\n",
      "🔗 기사 URL: https://mypetlife.co.kr/64946/\n",
      "🔗 기사 URL: https://mypetlife.co.kr/64700/\n",
      "🔗 기사 URL: https://mypetlife.co.kr/64467/\n",
      "\n",
      "📄 페이지 88 처리 중...\n",
      "🔗 기사 URL: https://mypetlife.co.kr/64386/\n",
      "🔗 기사 URL: https://mypetlife.co.kr/63433/\n",
      "🔗 기사 URL: https://mypetlife.co.kr/63121/\n",
      "🔗 기사 URL: https://mypetlife.co.kr/?post_type=pauple_helpie#038;p=61205\n",
      "🔗 기사 URL: https://mypetlife.co.kr/?post_type=pauple_helpie#038;p=61203\n",
      "🔗 기사 URL: https://mypetlife.co.kr/60670/\n",
      "🔗 기사 URL: https://mypetlife.co.kr/60469/\n",
      "🔗 기사 URL: https://mypetlife.co.kr/?post_type=pauple_helpie#038;p=60174\n",
      "🔗 기사 URL: https://mypetlife.co.kr/59374/\n",
      "🔗 기사 URL: https://mypetlife.co.kr/56466/\n",
      "\n",
      "📄 페이지 89 처리 중...\n",
      "🔗 기사 URL: https://mypetlife.co.kr/?post_type=pauple_helpie#038;p=56436\n",
      "🔗 기사 URL: https://mypetlife.co.kr/56391/\n",
      "🔗 기사 URL: https://mypetlife.co.kr/?post_type=pauple_helpie#038;p=54302\n",
      "🔗 기사 URL: https://mypetlife.co.kr/?post_type=pauple_helpie#038;p=54270\n",
      "🔗 기사 URL: https://mypetlife.co.kr/?post_type=pauple_helpie#038;p=54229\n",
      "🔗 기사 URL: https://mypetlife.co.kr/?post_type=pauple_helpie#038;p=54227\n",
      "🔗 기사 URL: https://mypetlife.co.kr/54113/\n",
      "🔗 기사 URL: https://mypetlife.co.kr/?post_type=pauple_helpie#038;p=53827\n",
      "🔗 기사 URL: https://mypetlife.co.kr/?post_type=pauple_helpie#038;p=53795\n",
      "🔗 기사 URL: https://mypetlife.co.kr/?post_type=pauple_helpie#038;p=53782\n",
      "\n",
      "📄 페이지 90 처리 중...\n",
      "🔗 기사 URL: https://mypetlife.co.kr/?post_type=pauple_helpie#038;p=53582\n",
      "🔗 기사 URL: https://mypetlife.co.kr/?post_type=pauple_helpie#038;p=53311\n",
      "🔗 기사 URL: https://mypetlife.co.kr/?post_type=pauple_helpie#038;p=52368\n",
      "🔗 기사 URL: https://mypetlife.co.kr/?post_type=pauple_helpie#038;p=52352\n",
      "🔗 기사 URL: https://mypetlife.co.kr/51910/\n",
      "🔗 기사 URL: https://mypetlife.co.kr/?post_type=pauple_helpie#038;p=51864\n",
      "🔗 기사 URL: https://mypetlife.co.kr/51730/\n",
      "🔗 기사 URL: https://mypetlife.co.kr/?post_type=pauple_helpie#038;p=51560\n",
      "🔗 기사 URL: https://mypetlife.co.kr/51491/\n",
      "🔗 기사 URL: https://mypetlife.co.kr/48899/\n",
      "\n",
      "📄 페이지 91 처리 중...\n",
      "🔗 기사 URL: https://mypetlife.co.kr/?post_type=pauple_helpie#038;p=48723\n",
      "🔗 기사 URL: https://mypetlife.co.kr/?post_type=pauple_helpie#038;p=48704\n",
      "🔗 기사 URL: https://mypetlife.co.kr/48241/\n",
      "🔗 기사 URL: https://mypetlife.co.kr/48217/\n",
      "🔗 기사 URL: https://mypetlife.co.kr/?post_type=pauple_helpie#038;p=48068\n",
      "🔗 기사 URL: https://mypetlife.co.kr/?post_type=pauple_helpie#038;p=48067\n",
      "🔗 기사 URL: https://mypetlife.co.kr/?post_type=pauple_helpie#038;p=48064\n",
      "🔗 기사 URL: https://mypetlife.co.kr/?post_type=pauple_helpie#038;p=48063\n",
      "🔗 기사 URL: https://mypetlife.co.kr/47944/\n",
      "🔗 기사 URL: https://mypetlife.co.kr/47024/\n",
      "\n",
      "📄 페이지 92 처리 중...\n",
      "🔗 기사 URL: https://mypetlife.co.kr/46964/\n",
      "🔗 기사 URL: https://mypetlife.co.kr/46943/\n",
      "🔗 기사 URL: https://mypetlife.co.kr/?post_type=pauple_helpie#038;p=46633\n",
      "🔗 기사 URL: https://mypetlife.co.kr/45975/\n",
      "🔗 기사 URL: https://mypetlife.co.kr/45791/\n",
      "🔗 기사 URL: https://mypetlife.co.kr/?post_type=pauple_helpie#038;p=45586\n",
      "🔗 기사 URL: https://mypetlife.co.kr/?post_type=pauple_helpie#038;p=45570\n",
      "🔗 기사 URL: https://mypetlife.co.kr/?post_type=pauple_helpie#038;p=45556\n",
      "🔗 기사 URL: https://mypetlife.co.kr/45522/\n",
      "🔗 기사 URL: https://mypetlife.co.kr/45156/\n",
      "\n",
      "📄 페이지 93 처리 중...\n",
      "🔗 기사 URL: https://mypetlife.co.kr/45042/\n",
      "🔗 기사 URL: https://mypetlife.co.kr/?post_type=pauple_helpie#038;p=44961\n",
      "🔗 기사 URL: https://mypetlife.co.kr/?post_type=pauple_helpie#038;p=44906\n",
      "🔗 기사 URL: https://mypetlife.co.kr/44888/\n",
      "🔗 기사 URL: https://mypetlife.co.kr/?post_type=pauple_helpie#038;p=44819\n",
      "🔗 기사 URL: https://mypetlife.co.kr/44791/\n",
      "🔗 기사 URL: https://mypetlife.co.kr/44186/\n",
      "🔗 기사 URL: https://mypetlife.co.kr/43540/\n",
      "🔗 기사 URL: https://mypetlife.co.kr/43494/\n",
      "🔗 기사 URL: https://mypetlife.co.kr/43422/\n",
      "\n",
      "📄 페이지 94 처리 중...\n",
      "🔗 기사 URL: https://mypetlife.co.kr/42537/\n",
      "🔗 기사 URL: https://mypetlife.co.kr/42331/\n",
      "🔗 기사 URL: https://mypetlife.co.kr/42212/\n",
      "🔗 기사 URL: https://mypetlife.co.kr/42185/\n",
      "🔗 기사 URL: https://mypetlife.co.kr/42124/\n",
      "🔗 기사 URL: https://mypetlife.co.kr/42103/\n",
      "🔗 기사 URL: https://mypetlife.co.kr/42005/\n",
      "🔗 기사 URL: https://mypetlife.co.kr/41986/\n",
      "🔗 기사 URL: https://mypetlife.co.kr/41508/\n",
      "🔗 기사 URL: https://mypetlife.co.kr/41157/\n",
      "\n",
      "📄 페이지 95 처리 중...\n",
      "🔗 기사 URL: https://mypetlife.co.kr/40263/\n",
      "🔗 기사 URL: https://mypetlife.co.kr/39521/\n",
      "🔗 기사 URL: https://mypetlife.co.kr/?post_type=pauple_helpie#038;p=39496\n",
      "🔗 기사 URL: https://mypetlife.co.kr/39209/\n",
      "🔗 기사 URL: https://mypetlife.co.kr/39200/\n",
      "🔗 기사 URL: https://mypetlife.co.kr/39138/\n",
      "🔗 기사 URL: https://mypetlife.co.kr/39103/\n",
      "🔗 기사 URL: https://mypetlife.co.kr/38938/\n",
      "🔗 기사 URL: https://mypetlife.co.kr/38614/\n",
      "🔗 기사 URL: https://mypetlife.co.kr/?post_type=pauple_helpie#038;p=38591\n",
      "\n",
      "📄 페이지 96 처리 중...\n",
      "🔗 기사 URL: https://mypetlife.co.kr/38476/\n",
      "🔗 기사 URL: https://mypetlife.co.kr/38473/\n",
      "🔗 기사 URL: https://mypetlife.co.kr/38435/\n",
      "🔗 기사 URL: https://mypetlife.co.kr/38362/\n",
      "🔗 기사 URL: https://mypetlife.co.kr/38296/\n",
      "🔗 기사 URL: https://mypetlife.co.kr/38251/\n",
      "🔗 기사 URL: https://mypetlife.co.kr/38197/\n",
      "🔗 기사 URL: https://mypetlife.co.kr/37449/\n",
      "🔗 기사 URL: https://mypetlife.co.kr/37219/\n",
      "🔗 기사 URL: https://mypetlife.co.kr/36879/\n",
      "\n",
      "📄 페이지 97 처리 중...\n",
      "🔗 기사 URL: https://mypetlife.co.kr/36500/\n",
      "🔗 기사 URL: https://mypetlife.co.kr/?post_type=pauple_helpie#038;p=36472\n",
      "🔗 기사 URL: https://mypetlife.co.kr/36257/\n",
      "🔗 기사 URL: https://mypetlife.co.kr/35979/\n",
      "🔗 기사 URL: https://mypetlife.co.kr/35940/\n",
      "🔗 기사 URL: https://mypetlife.co.kr/?post_type=pauple_helpie#038;p=35725\n",
      "🔗 기사 URL: https://mypetlife.co.kr/?post_type=pauple_helpie#038;p=35671\n",
      "🔗 기사 URL: https://mypetlife.co.kr/35522/\n",
      "🔗 기사 URL: https://mypetlife.co.kr/35433/\n",
      "🔗 기사 URL: https://mypetlife.co.kr/35302/\n",
      "\n",
      "📄 페이지 98 처리 중...\n",
      "🔗 기사 URL: https://mypetlife.co.kr/35175/\n",
      "🔗 기사 URL: https://mypetlife.co.kr/34928/\n",
      "🔗 기사 URL: https://mypetlife.co.kr/34771/\n",
      "🔗 기사 URL: https://mypetlife.co.kr/?post_type=pauple_helpie#038;p=34562\n",
      "🔗 기사 URL: https://mypetlife.co.kr/?post_type=pauple_helpie#038;p=34539\n",
      "🔗 기사 URL: https://mypetlife.co.kr/?post_type=pauple_helpie#038;p=34206\n",
      "🔗 기사 URL: https://mypetlife.co.kr/?post_type=pauple_helpie#038;p=34093\n",
      "🔗 기사 URL: https://mypetlife.co.kr/33672/\n",
      "🔗 기사 URL: https://mypetlife.co.kr/33502/\n",
      "🔗 기사 URL: https://mypetlife.co.kr/33484/\n",
      "\n",
      "📄 페이지 99 처리 중...\n",
      "🔗 기사 URL: https://mypetlife.co.kr/33213/\n",
      "🔗 기사 URL: https://mypetlife.co.kr/33090/\n",
      "🔗 기사 URL: https://mypetlife.co.kr/?post_type=pauple_helpie#038;p=32752\n",
      "🔗 기사 URL: https://mypetlife.co.kr/32403/\n",
      "🔗 기사 URL: https://mypetlife.co.kr/32391/\n",
      "🔗 기사 URL: https://mypetlife.co.kr/32253/\n",
      "🔗 기사 URL: https://mypetlife.co.kr/32243/\n",
      "🔗 기사 URL: https://mypetlife.co.kr/32100/\n",
      "🔗 기사 URL: https://mypetlife.co.kr/31871/\n",
      "🔗 기사 URL: https://mypetlife.co.kr/?post_type=pauple_helpie#038;p=31429\n",
      "\n",
      "📄 페이지 100 처리 중...\n",
      "🔗 기사 URL: https://mypetlife.co.kr/?post_type=pauple_helpie#038;p=31419\n",
      "🔗 기사 URL: https://mypetlife.co.kr/?post_type=pauple_helpie#038;p=31403\n",
      "🔗 기사 URL: https://mypetlife.co.kr/31326/\n",
      "🔗 기사 URL: https://mypetlife.co.kr/?post_type=pauple_helpie#038;p=30266\n",
      "🔗 기사 URL: https://mypetlife.co.kr/30161/\n",
      "🔗 기사 URL: https://mypetlife.co.kr/30107/\n",
      "🔗 기사 URL: https://mypetlife.co.kr/30073/\n",
      "🔗 기사 URL: https://mypetlife.co.kr/30018/\n",
      "🔗 기사 URL: https://mypetlife.co.kr/29763/\n",
      "🔗 기사 URL: https://mypetlife.co.kr/29472/\n",
      "\n",
      "📄 페이지 101 처리 중...\n",
      "🔗 기사 URL: https://mypetlife.co.kr/29331/\n",
      "🔗 기사 URL: https://mypetlife.co.kr/?post_type=pauple_helpie#038;p=28896\n",
      "🔗 기사 URL: https://mypetlife.co.kr/28871/\n",
      "🔗 기사 URL: https://mypetlife.co.kr/28776/\n",
      "🔗 기사 URL: https://mypetlife.co.kr/28331/\n",
      "🔗 기사 URL: https://mypetlife.co.kr/27975/\n",
      "🔗 기사 URL: https://mypetlife.co.kr/27174/\n",
      "🔗 기사 URL: https://mypetlife.co.kr/27136/\n",
      "🔗 기사 URL: https://mypetlife.co.kr/27112/\n",
      "🔗 기사 URL: https://mypetlife.co.kr/27059/\n",
      "\n",
      "📄 페이지 102 처리 중...\n",
      "🔗 기사 URL: https://mypetlife.co.kr/27045/\n",
      "🔗 기사 URL: https://mypetlife.co.kr/26951/\n",
      "🔗 기사 URL: https://mypetlife.co.kr/26438/\n",
      "🔗 기사 URL: https://mypetlife.co.kr/26375/\n",
      "🔗 기사 URL: https://mypetlife.co.kr/26289/\n",
      "🔗 기사 URL: https://mypetlife.co.kr/26009/\n",
      "🔗 기사 URL: https://mypetlife.co.kr/26003/\n",
      "🔗 기사 URL: https://mypetlife.co.kr/25982/\n",
      "🔗 기사 URL: https://mypetlife.co.kr/25798/\n",
      "🔗 기사 URL: https://mypetlife.co.kr/25545/\n",
      "\n",
      "📄 페이지 103 처리 중...\n",
      "🔗 기사 URL: https://mypetlife.co.kr/?post_type=pauple_helpie#038;p=25540\n",
      "🔗 기사 URL: https://mypetlife.co.kr/25217/\n",
      "🔗 기사 URL: https://mypetlife.co.kr/25037/\n",
      "🔗 기사 URL: https://mypetlife.co.kr/?post_type=pauple_helpie#038;p=24926\n",
      "🔗 기사 URL: https://mypetlife.co.kr/?post_type=pauple_helpie#038;p=24792\n",
      "🔗 기사 URL: https://mypetlife.co.kr/?post_type=pauple_helpie#038;p=24775\n",
      "🔗 기사 URL: https://mypetlife.co.kr/24742/\n",
      "🔗 기사 URL: https://mypetlife.co.kr/?post_type=pauple_helpie#038;p=24725\n",
      "🔗 기사 URL: https://mypetlife.co.kr/24601/\n",
      "🔗 기사 URL: https://mypetlife.co.kr/24092/\n",
      "\n",
      "📄 페이지 104 처리 중...\n",
      "🔗 기사 URL: https://mypetlife.co.kr/?post_type=pauple_helpie#038;p=22432\n",
      "🔗 기사 URL: https://mypetlife.co.kr/21732/\n",
      "🔗 기사 URL: https://mypetlife.co.kr/21630/\n",
      "🔗 기사 URL: https://mypetlife.co.kr/21316/\n",
      "🔗 기사 URL: https://mypetlife.co.kr/?post_type=pauple_helpie#038;p=21193\n",
      "🔗 기사 URL: https://mypetlife.co.kr/21141/\n",
      "🔗 기사 URL: https://mypetlife.co.kr/?post_type=pauple_helpie#038;p=21125\n",
      "🔗 기사 URL: https://mypetlife.co.kr/wiki/%ea%b0%95%ec%95%84%ec%a7%80-%ec%98%a4%ec%a7%95%ec%96%b4-%eb%a8%b9%ec%96%b4%eb%8f%84-%eb%90%98%eb%82%98%ec%9a%94/\n",
      "🔗 기사 URL: https://mypetlife.co.kr/21057/\n",
      "🔗 기사 URL: https://mypetlife.co.kr/?post_type=pauple_helpie#038;p=20919\n",
      "\n",
      "📄 페이지 105 처리 중...\n",
      "🔗 기사 URL: https://mypetlife.co.kr/20900/\n",
      "🔗 기사 URL: https://mypetlife.co.kr/20334/\n",
      "🔗 기사 URL: https://mypetlife.co.kr/20268/\n",
      "🔗 기사 URL: https://mypetlife.co.kr/20235/\n",
      "🔗 기사 URL: https://mypetlife.co.kr/20093/\n",
      "🔗 기사 URL: https://mypetlife.co.kr/20052/\n",
      "🔗 기사 URL: https://mypetlife.co.kr/19954/\n",
      "🔗 기사 URL: https://mypetlife.co.kr/19849/\n",
      "🔗 기사 URL: https://mypetlife.co.kr/19810/\n",
      "🔗 기사 URL: https://mypetlife.co.kr/19670/\n",
      "\n",
      "📄 페이지 106 처리 중...\n",
      "🔗 기사 URL: https://mypetlife.co.kr/19511/\n",
      "🔗 기사 URL: https://mypetlife.co.kr/19499/\n",
      "🔗 기사 URL: https://mypetlife.co.kr/19473/\n",
      "🔗 기사 URL: https://mypetlife.co.kr/19417/\n",
      "🔗 기사 URL: https://mypetlife.co.kr/19398/\n",
      "🔗 기사 URL: https://mypetlife.co.kr/19321/\n",
      "🔗 기사 URL: https://mypetlife.co.kr/19226/\n",
      "🔗 기사 URL: https://mypetlife.co.kr/19054/\n",
      "🔗 기사 URL: https://mypetlife.co.kr/18960/\n",
      "🔗 기사 URL: https://mypetlife.co.kr/18910/\n",
      "\n",
      "📄 페이지 107 처리 중...\n",
      "🔗 기사 URL: https://mypetlife.co.kr/18900/\n",
      "🔗 기사 URL: https://mypetlife.co.kr/18856/\n",
      "🔗 기사 URL: https://mypetlife.co.kr/18645/\n",
      "🔗 기사 URL: https://mypetlife.co.kr/18529/\n",
      "🔗 기사 URL: https://mypetlife.co.kr/18513/\n",
      "🔗 기사 URL: https://mypetlife.co.kr/18487/\n",
      "🔗 기사 URL: https://mypetlife.co.kr/18480/\n",
      "🔗 기사 URL: https://mypetlife.co.kr/18201/\n",
      "🔗 기사 URL: https://mypetlife.co.kr/18150/\n",
      "🔗 기사 URL: https://mypetlife.co.kr/?post_type=pauple_helpie#038;p=18129\n",
      "\n",
      "📄 페이지 108 처리 중...\n",
      "🔗 기사 URL: https://mypetlife.co.kr/17919/\n",
      "🔗 기사 URL: https://mypetlife.co.kr/17896/\n",
      "🔗 기사 URL: https://mypetlife.co.kr/?post_type=pauple_helpie#038;p=17823\n",
      "🔗 기사 URL: https://mypetlife.co.kr/17794/\n",
      "🔗 기사 URL: https://mypetlife.co.kr/?post_type=pauple_helpie#038;p=17737\n",
      "🔗 기사 URL: https://mypetlife.co.kr/?post_type=pauple_helpie#038;p=17717\n",
      "🔗 기사 URL: https://mypetlife.co.kr/17702/\n",
      "🔗 기사 URL: https://mypetlife.co.kr/17515/\n",
      "🔗 기사 URL: https://mypetlife.co.kr/17301/\n",
      "🔗 기사 URL: https://mypetlife.co.kr/17152/\n",
      "\n",
      "📄 페이지 109 처리 중...\n",
      "🔗 기사 URL: https://mypetlife.co.kr/17096/\n",
      "🔗 기사 URL: https://mypetlife.co.kr/17075/\n",
      "🔗 기사 URL: https://mypetlife.co.kr/16967/\n",
      "🔗 기사 URL: https://mypetlife.co.kr/16813/\n",
      "🔗 기사 URL: https://mypetlife.co.kr/16784/\n",
      "🔗 기사 URL: https://mypetlife.co.kr/16690/\n",
      "🔗 기사 URL: https://mypetlife.co.kr/16529/\n",
      "🔗 기사 URL: https://mypetlife.co.kr/16299/\n",
      "🔗 기사 URL: https://mypetlife.co.kr/16189/\n",
      "🔗 기사 URL: https://mypetlife.co.kr/16168/\n",
      "\n",
      "📄 페이지 110 처리 중...\n",
      "🔗 기사 URL: https://mypetlife.co.kr/16047/\n",
      "🔗 기사 URL: https://mypetlife.co.kr/15897/\n",
      "🔗 기사 URL: https://mypetlife.co.kr/15859/\n",
      "🔗 기사 URL: https://mypetlife.co.kr/15775/\n",
      "🔗 기사 URL: https://mypetlife.co.kr/15752/\n",
      "🔗 기사 URL: https://mypetlife.co.kr/15315/\n",
      "🔗 기사 URL: https://mypetlife.co.kr/15262/\n",
      "🔗 기사 URL: https://mypetlife.co.kr/15157/\n",
      "🔗 기사 URL: https://mypetlife.co.kr/?post_type=pauple_helpie#038;p=15026\n",
      "🔗 기사 URL: https://mypetlife.co.kr/14701/\n",
      "\n",
      "📄 페이지 111 처리 중...\n",
      "🔗 기사 URL: https://mypetlife.co.kr/14652/\n",
      "🔗 기사 URL: https://mypetlife.co.kr/?post_type=pauple_helpie#038;p=14056\n",
      "🔗 기사 URL: https://mypetlife.co.kr/13963/\n",
      "🔗 기사 URL: https://mypetlife.co.kr/13861/\n",
      "🔗 기사 URL: https://mypetlife.co.kr/13814/\n",
      "🔗 기사 URL: https://mypetlife.co.kr/13770/\n",
      "🔗 기사 URL: https://mypetlife.co.kr/13255/\n",
      "🔗 기사 URL: https://mypetlife.co.kr/13118/\n",
      "🔗 기사 URL: https://mypetlife.co.kr/12767/\n",
      "🔗 기사 URL: https://mypetlife.co.kr/12721/\n",
      "\n",
      "📄 페이지 112 처리 중...\n",
      "🔗 기사 URL: https://mypetlife.co.kr/12687/\n",
      "🔗 기사 URL: https://mypetlife.co.kr/12549/\n",
      "🔗 기사 URL: https://mypetlife.co.kr/12477/\n",
      "🔗 기사 URL: https://mypetlife.co.kr/12302/\n",
      "🔗 기사 URL: https://mypetlife.co.kr/12168/\n",
      "🔗 기사 URL: https://mypetlife.co.kr/12115/\n",
      "🔗 기사 URL: https://mypetlife.co.kr/12098/\n",
      "🔗 기사 URL: https://mypetlife.co.kr/12061/\n",
      "🔗 기사 URL: https://mypetlife.co.kr/12010/\n",
      "🔗 기사 URL: https://mypetlife.co.kr/11815/\n",
      "\n",
      "📄 페이지 113 처리 중...\n",
      "🔗 기사 URL: https://mypetlife.co.kr/11726/\n",
      "🔗 기사 URL: https://mypetlife.co.kr/11475/\n",
      "🔗 기사 URL: https://mypetlife.co.kr/11341/\n",
      "🔗 기사 URL: https://mypetlife.co.kr/11307/\n",
      "🔗 기사 URL: https://mypetlife.co.kr/11276/\n",
      "🔗 기사 URL: https://mypetlife.co.kr/11199/\n",
      "🔗 기사 URL: https://mypetlife.co.kr/11174/\n",
      "🔗 기사 URL: https://mypetlife.co.kr/11165/\n",
      "🔗 기사 URL: https://mypetlife.co.kr/11163/\n",
      "🔗 기사 URL: https://mypetlife.co.kr/11116/\n",
      "\n",
      "📄 페이지 114 처리 중...\n",
      "🔗 기사 URL: https://mypetlife.co.kr/11053/\n",
      "🔗 기사 URL: https://mypetlife.co.kr/10974/\n",
      "🔗 기사 URL: https://mypetlife.co.kr/10962/\n",
      "🔗 기사 URL: https://mypetlife.co.kr/?post_type=pauple_helpie#038;p=10936\n",
      "🔗 기사 URL: https://mypetlife.co.kr/10893/\n",
      "🔗 기사 URL: https://mypetlife.co.kr/10799/\n",
      "🔗 기사 URL: https://mypetlife.co.kr/?post_type=pauple_helpie#038;p=10796\n",
      "🔗 기사 URL: https://mypetlife.co.kr/10756/\n",
      "🔗 기사 URL: https://mypetlife.co.kr/10487/\n",
      "🔗 기사 URL: https://mypetlife.co.kr/?post_type=pauple_helpie#038;p=10397\n",
      "\n",
      "📄 페이지 115 처리 중...\n",
      "🔗 기사 URL: https://mypetlife.co.kr/10396/\n",
      "🔗 기사 URL: https://mypetlife.co.kr/?post_type=pauple_helpie#038;p=10353\n",
      "🔗 기사 URL: https://mypetlife.co.kr/10333/\n",
      "🔗 기사 URL: https://mypetlife.co.kr/?post_type=pauple_helpie#038;p=10319\n",
      "🔗 기사 URL: https://mypetlife.co.kr/10308/\n",
      "🔗 기사 URL: https://mypetlife.co.kr/10291/\n",
      "🔗 기사 URL: https://mypetlife.co.kr/10279/\n",
      "🔗 기사 URL: https://mypetlife.co.kr/?post_type=pauple_helpie#038;p=10271\n",
      "🔗 기사 URL: https://mypetlife.co.kr/10217/\n",
      "🔗 기사 URL: https://mypetlife.co.kr/10198/\n",
      "\n",
      "📄 페이지 116 처리 중...\n",
      "🔗 기사 URL: https://mypetlife.co.kr/10018/\n",
      "🔗 기사 URL: https://mypetlife.co.kr/10017/\n",
      "🔗 기사 URL: https://mypetlife.co.kr/9986/\n",
      "🔗 기사 URL: https://mypetlife.co.kr/9896/\n",
      "🔗 기사 URL: https://mypetlife.co.kr/9833/\n",
      "🔗 기사 URL: https://mypetlife.co.kr/?post_type=pauple_helpie#038;p=9823\n",
      "🔗 기사 URL: https://mypetlife.co.kr/9811/\n",
      "🔗 기사 URL: https://mypetlife.co.kr/?post_type=pauple_helpie#038;p=9601\n",
      "🔗 기사 URL: https://mypetlife.co.kr/?post_type=pauple_helpie#038;p=9577\n",
      "🔗 기사 URL: https://mypetlife.co.kr/9529/\n",
      "\n",
      "📄 페이지 117 처리 중...\n",
      "🔗 기사 URL: https://mypetlife.co.kr/9518/\n",
      "🔗 기사 URL: https://mypetlife.co.kr/9473/\n",
      "🔗 기사 URL: https://mypetlife.co.kr/9409/\n",
      "🔗 기사 URL: https://mypetlife.co.kr/9295/\n",
      "🔗 기사 URL: https://mypetlife.co.kr/9267/\n",
      "🔗 기사 URL: https://mypetlife.co.kr/?post_type=pauple_helpie#038;p=9266\n",
      "🔗 기사 URL: https://mypetlife.co.kr/9239/\n",
      "🔗 기사 URL: https://mypetlife.co.kr/9221/\n",
      "🔗 기사 URL: https://mypetlife.co.kr/9203/\n",
      "🔗 기사 URL: https://mypetlife.co.kr/9160/\n",
      "\n",
      "📄 페이지 118 처리 중...\n",
      "🔗 기사 URL: https://mypetlife.co.kr/9090/\n",
      "🔗 기사 URL: https://mypetlife.co.kr/9069/\n",
      "🔗 기사 URL: https://mypetlife.co.kr/9054/\n",
      "🔗 기사 URL: https://mypetlife.co.kr/?post_type=pauple_helpie#038;p=9043\n",
      "🔗 기사 URL: https://mypetlife.co.kr/9022/\n",
      "🔗 기사 URL: https://mypetlife.co.kr/8973/\n",
      "🔗 기사 URL: https://mypetlife.co.kr/8926/\n",
      "🔗 기사 URL: https://mypetlife.co.kr/8912/\n",
      "🔗 기사 URL: https://mypetlife.co.kr/8909/\n",
      "🔗 기사 URL: https://mypetlife.co.kr/8903/\n",
      "\n",
      "📄 페이지 119 처리 중...\n",
      "🔗 기사 URL: https://mypetlife.co.kr/8870/\n",
      "🔗 기사 URL: https://mypetlife.co.kr/8699/\n",
      "🔗 기사 URL: https://mypetlife.co.kr/?post_type=pauple_helpie#038;p=8683\n",
      "🔗 기사 URL: https://mypetlife.co.kr/8564/\n",
      "🔗 기사 URL: https://mypetlife.co.kr/?post_type=pauple_helpie#038;p=8498\n",
      "🔗 기사 URL: https://mypetlife.co.kr/?post_type=pauple_helpie#038;p=8479\n",
      "🔗 기사 URL: https://mypetlife.co.kr/8474/\n",
      "🔗 기사 URL: https://mypetlife.co.kr/?post_type=pauple_helpie#038;p=8421\n",
      "🔗 기사 URL: https://mypetlife.co.kr/?post_type=pauple_helpie#038;p=8258\n",
      "🔗 기사 URL: https://mypetlife.co.kr/8249/\n",
      "\n",
      "📄 페이지 120 처리 중...\n",
      "🔗 기사 URL: https://mypetlife.co.kr/?post_type=pauple_helpie#038;p=8245\n",
      "🔗 기사 URL: https://mypetlife.co.kr/8221/\n",
      "🔗 기사 URL: https://mypetlife.co.kr/?post_type=pauple_helpie#038;p=8186\n",
      "🔗 기사 URL: https://mypetlife.co.kr/8143/\n",
      "🔗 기사 URL: https://mypetlife.co.kr/?post_type=pauple_helpie#038;p=8111\n",
      "🔗 기사 URL: https://mypetlife.co.kr/8085/\n",
      "🔗 기사 URL: https://mypetlife.co.kr/?post_type=pauple_helpie#038;p=8078\n",
      "🔗 기사 URL: https://mypetlife.co.kr/?post_type=pauple_helpie#038;p=8054\n",
      "🔗 기사 URL: https://mypetlife.co.kr/8019/\n",
      "🔗 기사 URL: https://mypetlife.co.kr/7978/\n",
      "\n",
      "📄 페이지 121 처리 중...\n",
      "🔗 기사 URL: https://mypetlife.co.kr/7829/\n",
      "🔗 기사 URL: https://mypetlife.co.kr/7640/\n",
      "🔗 기사 URL: https://mypetlife.co.kr/7607/\n",
      "🔗 기사 URL: https://mypetlife.co.kr/7605/\n",
      "🔗 기사 URL: https://mypetlife.co.kr/7546/\n",
      "🔗 기사 URL: https://mypetlife.co.kr/7461/\n",
      "🔗 기사 URL: https://mypetlife.co.kr/7394/\n",
      "🔗 기사 URL: https://mypetlife.co.kr/7287/\n",
      "🔗 기사 URL: https://mypetlife.co.kr/7136/\n",
      "🔗 기사 URL: https://mypetlife.co.kr/7040/\n",
      "\n",
      "📄 페이지 122 처리 중...\n",
      "🔗 기사 URL: https://mypetlife.co.kr/6978/\n",
      "🔗 기사 URL: https://mypetlife.co.kr/6919/\n",
      "🔗 기사 URL: https://mypetlife.co.kr/6822/\n",
      "🔗 기사 URL: https://mypetlife.co.kr/?post_type=doglibrary#038;p=6751\n",
      "🔗 기사 URL: https://mypetlife.co.kr/6580/\n",
      "🔗 기사 URL: https://mypetlife.co.kr/6525/\n",
      "🔗 기사 URL: https://mypetlife.co.kr/6467/\n",
      "🔗 기사 URL: https://mypetlife.co.kr/6423/\n",
      "🔗 기사 URL: https://mypetlife.co.kr/6306/\n",
      "🔗 기사 URL: https://mypetlife.co.kr/6035/\n",
      "\n",
      "📄 페이지 123 처리 중...\n",
      "🔗 기사 URL: https://mypetlife.co.kr/5919/\n",
      "🔗 기사 URL: https://mypetlife.co.kr/5906/\n",
      "🔗 기사 URL: https://mypetlife.co.kr/5666/\n",
      "🔗 기사 URL: https://mypetlife.co.kr/5352/\n",
      "🔗 기사 URL: https://mypetlife.co.kr/5156/\n",
      "🔗 기사 URL: https://mypetlife.co.kr/5002/\n",
      "🔗 기사 URL: https://mypetlife.co.kr/4794/\n",
      "🔗 기사 URL: https://mypetlife.co.kr/4651/\n",
      "🔗 기사 URL: https://mypetlife.co.kr/4603/\n",
      "🔗 기사 URL: https://mypetlife.co.kr/4265/\n",
      "\n",
      "📄 페이지 124 처리 중...\n",
      "🔗 기사 URL: https://mypetlife.co.kr/4128/\n",
      "🔗 기사 URL: https://mypetlife.co.kr/3845/\n",
      "🔗 기사 URL: https://mypetlife.co.kr/3447/\n",
      "🔗 기사 URL: https://mypetlife.co.kr/3412/\n",
      "🔗 기사 URL: https://mypetlife.co.kr/3386/\n",
      "🔗 기사 URL: https://mypetlife.co.kr/3241/\n",
      "🔗 기사 URL: https://mypetlife.co.kr/wiki/%ec%82%ac%eb%aa%a8%ec%98%88%eb%93%9c/\n",
      "🔗 기사 URL: https://mypetlife.co.kr/1718/\n",
      "🔗 기사 URL: https://mypetlife.co.kr/1322/\n",
      "🔗 기사 URL: https://mypetlife.co.kr/1190/\n",
      "\n",
      "📄 페이지 125 처리 중...\n",
      "🔗 기사 URL: https://mypetlife.co.kr/1035/\n",
      "🔗 기사 URL: https://mypetlife.co.kr/858/\n",
      "🔗 기사 URL: https://mypetlife.co.kr/850/\n",
      "🔗 기사 URL: https://mypetlife.co.kr/744/\n",
      "🔗 기사 URL: https://mypetlife.co.kr/655/\n",
      "🔗 기사 URL: https://mypetlife.co.kr/wiki/%ec%9a%94%ed%81%ac%ec%85%94%ed%85%8c%eb%a6%ac%ec%96%b4/\n",
      "🔗 기사 URL: https://mypetlife.co.kr/610/\n",
      "🔗 기사 URL: https://mypetlife.co.kr/577/\n",
      "🔗 기사 URL: https://mypetlife.co.kr/556/\n",
      "🔗 기사 URL: https://mypetlife.co.kr/537/\n",
      "\n",
      "📄 페이지 126 처리 중...\n",
      "🔗 기사 URL: https://mypetlife.co.kr/459/\n",
      "🔗 기사 URL: https://mypetlife.co.kr/450/\n",
      "🔗 기사 URL: https://mypetlife.co.kr/271/\n",
      "🔗 기사 URL: https://mypetlife.co.kr/268/\n",
      "🔗 기사 URL: https://mypetlife.co.kr/233/\n",
      "🔗 기사 URL: https://mypetlife.co.kr/231/\n",
      "🔗 기사 URL: https://mypetlife.co.kr/227/\n",
      "🔗 기사 URL: https://mypetlife.co.kr/225/\n",
      "🔗 기사 URL: https://mypetlife.co.kr/223/\n",
      "🔗 기사 URL: https://mypetlife.co.kr/221/\n",
      "\n",
      "📄 페이지 127 처리 중...\n",
      "🔗 기사 URL: https://mypetlife.co.kr/219/\n",
      "🔗 기사 URL: https://mypetlife.co.kr/217/\n",
      "🔗 기사 URL: https://mypetlife.co.kr/215/\n",
      "🔗 기사 URL: https://mypetlife.co.kr/211/\n",
      "🔗 기사 URL: https://mypetlife.co.kr/209/\n",
      "🔗 기사 URL: https://mypetlife.co.kr/206/\n",
      "🔗 기사 URL: https://mypetlife.co.kr/204/\n",
      "🔗 기사 URL: https://mypetlife.co.kr/196/\n",
      "🔗 기사 URL: https://mypetlife.co.kr/193/\n",
      "🔗 기사 URL: https://mypetlife.co.kr/190/\n",
      "\n",
      "✅ 전체 수집 완료! 총 1270개 URL 저장됨 → mypet_all_urls.json\n"
     ]
    }
   ],
   "source": [
    "from selenium import webdriver\n",
    "from selenium.webdriver.chrome.options import Options\n",
    "from selenium.webdriver.common.by import By\n",
    "from selenium.webdriver.support.ui import WebDriverWait\n",
    "from selenium.webdriver.support import expected_conditions as EC\n",
    "import time\n",
    "import json\n",
    "\n",
    "options = Options()\n",
    "options.add_argument(\"--headless\")\n",
    "driver = webdriver.Chrome(options=options)\n",
    "\n",
    "driver.get(\"https://bemypet.kr/content/doglab?p=1\")\n",
    "time.sleep(2)\n",
    "\n",
    "all_article_urls = []\n",
    "page_limit = 127  # 전체 페이지 수\n",
    "current_page = 1\n",
    "\n",
    "while current_page <= page_limit:\n",
    "    print(f\"\\n📄 페이지 {current_page} 처리 중...\")\n",
    "\n",
    "    try:\n",
    "        cards = WebDriverWait(driver, 10).until(\n",
    "            EC.presence_of_all_elements_located((By.CLASS_NAME, \"textContent_textContentBox__9iWXJ\"))\n",
    "        )\n",
    "    except Exception as e:\n",
    "        print(f\"❌ 카드 로딩 실패 (페이지 {current_page}):\", e)\n",
    "        break\n",
    "\n",
    "    for i in range(len(cards)):\n",
    "        try:\n",
    "            main_window = driver.current_window_handle\n",
    "\n",
    "            driver.execute_script(\"arguments[0].scrollIntoView({block: 'center'});\", cards[i])\n",
    "            time.sleep(0.5)\n",
    "            try:\n",
    "                cards[i].click()\n",
    "            except:\n",
    "                driver.execute_script(\"arguments[0].click();\", cards[i])\n",
    "\n",
    "            time.sleep(2)\n",
    "\n",
    "            WebDriverWait(driver, 10).until(lambda d: len(d.window_handles) > 1)\n",
    "            new_window = [w for w in driver.window_handles if w != main_window][0]\n",
    "            driver.switch_to.window(new_window)\n",
    "\n",
    "            url = driver.current_url\n",
    "            print(\"🔗 기사 URL:\", url)\n",
    "            if \"mypetlife.co.kr\" in url:\n",
    "                all_article_urls.append(url)\n",
    "\n",
    "            driver.close()\n",
    "            driver.switch_to.window(main_window)\n",
    "\n",
    "            cards = driver.find_elements(By.CLASS_NAME, \"textContent_textContentBox__9iWXJ\")\n",
    "\n",
    "        except Exception as e:\n",
    "            print(f\"❌ 카드 {i} 클릭 실패:\", e)\n",
    "            continue\n",
    "\n",
    "    # ✅ 다음 페이지로 이동\n",
    "    try:\n",
    "        next_btn = WebDriverWait(driver, 10).until(\n",
    "            EC.element_to_be_clickable((By.XPATH, '//a[@aria-label=\"Go to next page\"]'))\n",
    "        )\n",
    "        next_btn.click()\n",
    "        current_page += 1\n",
    "        time.sleep(2)\n",
    "    except Exception as e:\n",
    "        print(\"❌ 다음 페이지 클릭 실패:\", e)\n",
    "        break\n",
    "\n",
    "driver.quit()\n",
    "\n",
    "# ✅ 전체 결과 저장\n",
    "with open(\"mypet_all_urls.json\", \"w\", encoding=\"utf-8\") as f:\n",
    "    json.dump(all_article_urls, f, indent=2, ensure_ascii=False)\n",
    "\n",
    "print(f\"\\n✅ 전체 수집 완료! 총 {len(all_article_urls)}개 URL 저장됨 → mypet_all_urls.json\")\n"
   ]
  },
  {
   "cell_type": "code",
   "execution_count": 31,
   "id": "42b28ab7",
   "metadata": {},
   "outputs": [
    {
     "name": "stderr",
     "output_type": "stream",
     "text": [
      "📄 기사 수집 중:  50%|████▉     | 633/1270 [06:58<06:41,  1.59it/s]"
     ]
    },
    {
     "name": "stdout",
     "output_type": "stream",
     "text": [
      "❌ 본문을 찾을 수 없음: https://mypetlife.co.kr/?post_type=premium#038;p=108023\n"
     ]
    },
    {
     "name": "stderr",
     "output_type": "stream",
     "text": [
      "📄 기사 수집 중:  50%|█████     | 638/1270 [07:01<06:50,  1.54it/s]"
     ]
    },
    {
     "name": "stdout",
     "output_type": "stream",
     "text": [
      "❌ 본문을 찾을 수 없음: https://mypetlife.co.kr/?post_type=premium#038;p=107457\n"
     ]
    },
    {
     "name": "stderr",
     "output_type": "stream",
     "text": [
      "📄 기사 수집 중:  51%|█████     | 643/1270 [07:05<06:42,  1.56it/s]"
     ]
    },
    {
     "name": "stdout",
     "output_type": "stream",
     "text": [
      "❌ 본문을 찾을 수 없음: https://mypetlife.co.kr/?post_type=premium#038;p=107069\n"
     ]
    },
    {
     "name": "stderr",
     "output_type": "stream",
     "text": [
      "📄 기사 수집 중:  51%|█████     | 647/1270 [07:07<06:39,  1.56it/s]"
     ]
    },
    {
     "name": "stdout",
     "output_type": "stream",
     "text": [
      "❌ 본문을 찾을 수 없음: https://mypetlife.co.kr/?post_type=premium#038;p=106811\n"
     ]
    },
    {
     "name": "stderr",
     "output_type": "stream",
     "text": [
      "📄 기사 수집 중:  51%|█████     | 648/1270 [07:08<07:00,  1.48it/s]"
     ]
    },
    {
     "name": "stdout",
     "output_type": "stream",
     "text": [
      "❌ 본문을 찾을 수 없음: https://mypetlife.co.kr/?post_type=premium#038;p=106679\n"
     ]
    },
    {
     "name": "stderr",
     "output_type": "stream",
     "text": [
      "📄 기사 수집 중:  51%|█████     | 649/1270 [07:09<07:14,  1.43it/s]"
     ]
    },
    {
     "name": "stdout",
     "output_type": "stream",
     "text": [
      "❌ 본문을 찾을 수 없음: https://mypetlife.co.kr/?post_type=premium#038;p=106517\n"
     ]
    },
    {
     "name": "stderr",
     "output_type": "stream",
     "text": [
      "📄 기사 수집 중:  51%|█████     | 650/1270 [07:09<07:29,  1.38it/s]"
     ]
    },
    {
     "name": "stdout",
     "output_type": "stream",
     "text": [
      "❌ 본문을 찾을 수 없음: https://mypetlife.co.kr/?post_type=premium#038;p=106457\n"
     ]
    },
    {
     "name": "stderr",
     "output_type": "stream",
     "text": [
      "📄 기사 수집 중:  51%|█████▏    | 651/1270 [07:10<07:40,  1.34it/s]"
     ]
    },
    {
     "name": "stdout",
     "output_type": "stream",
     "text": [
      "❌ 본문을 찾을 수 없음: https://mypetlife.co.kr/?post_type=premium#038;p=106388\n"
     ]
    },
    {
     "name": "stderr",
     "output_type": "stream",
     "text": [
      "📄 기사 수집 중:  57%|█████▋    | 725/1270 [07:58<06:20,  1.43it/s]"
     ]
    },
    {
     "name": "stdout",
     "output_type": "stream",
     "text": [
      "❌ 본문을 찾을 수 없음: https://mypetlife.co.kr/?post_type=pauple_helpie#038;p=102428\n"
     ]
    },
    {
     "name": "stderr",
     "output_type": "stream",
     "text": [
      "📄 기사 수집 중:  60%|██████    | 765/1270 [08:24<05:21,  1.57it/s]"
     ]
    },
    {
     "name": "stdout",
     "output_type": "stream",
     "text": [
      "❌ 본문을 찾을 수 없음: https://mypetlife.co.kr/?post_type=premium#038;p=99519\n"
     ]
    },
    {
     "name": "stderr",
     "output_type": "stream",
     "text": [
      "📄 기사 수집 중:  60%|██████    | 766/1270 [08:24<05:38,  1.49it/s]"
     ]
    },
    {
     "name": "stdout",
     "output_type": "stream",
     "text": [
      "❌ 본문을 찾을 수 없음: https://mypetlife.co.kr/?post_type=premium#038;p=99328\n"
     ]
    },
    {
     "name": "stderr",
     "output_type": "stream",
     "text": [
      "📄 기사 수집 중:  60%|██████    | 767/1270 [08:25<05:53,  1.42it/s]"
     ]
    },
    {
     "name": "stdout",
     "output_type": "stream",
     "text": [
      "❌ 본문을 찾을 수 없음: https://mypetlife.co.kr/?post_type=premium#038;p=99154\n"
     ]
    },
    {
     "name": "stderr",
     "output_type": "stream",
     "text": [
      "📄 기사 수집 중:  60%|██████    | 768/1270 [08:26<06:10,  1.35it/s]"
     ]
    },
    {
     "name": "stdout",
     "output_type": "stream",
     "text": [
      "❌ 본문을 찾을 수 없음: https://mypetlife.co.kr/?post_type=premium#038;p=99063\n"
     ]
    },
    {
     "name": "stderr",
     "output_type": "stream",
     "text": [
      "📄 기사 수집 중:  61%|██████    | 769/1270 [08:27<06:15,  1.33it/s]"
     ]
    },
    {
     "name": "stdout",
     "output_type": "stream",
     "text": [
      "❌ 본문을 찾을 수 없음: https://mypetlife.co.kr/?post_type=premium#038;p=99008\n"
     ]
    },
    {
     "name": "stderr",
     "output_type": "stream",
     "text": [
      "📄 기사 수집 중:  61%|██████    | 770/1270 [08:28<06:20,  1.31it/s]"
     ]
    },
    {
     "name": "stdout",
     "output_type": "stream",
     "text": [
      "❌ 본문을 찾을 수 없음: https://mypetlife.co.kr/?post_type=premium#038;p=98713\n"
     ]
    },
    {
     "name": "stderr",
     "output_type": "stream",
     "text": [
      "📄 기사 수집 중:  61%|██████    | 771/1270 [08:28<06:19,  1.31it/s]"
     ]
    },
    {
     "name": "stdout",
     "output_type": "stream",
     "text": [
      "❌ 본문을 찾을 수 없음: https://mypetlife.co.kr/?post_type=premium#038;p=98698\n"
     ]
    },
    {
     "name": "stderr",
     "output_type": "stream",
     "text": [
      "📄 기사 수집 중:  62%|██████▏   | 785/1270 [08:38<05:09,  1.57it/s]"
     ]
    },
    {
     "name": "stdout",
     "output_type": "stream",
     "text": [
      "❌ 본문을 찾을 수 없음: https://mypetlife.co.kr/?post_type=premium#038;p=94661\n"
     ]
    },
    {
     "name": "stderr",
     "output_type": "stream",
     "text": [
      "📄 기사 수집 중:  62%|██████▏   | 786/1270 [08:38<05:26,  1.48it/s]"
     ]
    },
    {
     "name": "stdout",
     "output_type": "stream",
     "text": [
      "❌ 본문을 찾을 수 없음: https://mypetlife.co.kr/?post_type=premium#038;p=94599\n"
     ]
    },
    {
     "name": "stderr",
     "output_type": "stream",
     "text": [
      "📄 기사 수집 중:  62%|██████▏   | 787/1270 [08:39<05:38,  1.43it/s]"
     ]
    },
    {
     "name": "stdout",
     "output_type": "stream",
     "text": [
      "❌ 본문을 찾을 수 없음: https://mypetlife.co.kr/?post_type=premium#038;p=94590\n"
     ]
    },
    {
     "name": "stderr",
     "output_type": "stream",
     "text": [
      "📄 기사 수집 중:  62%|██████▏   | 788/1270 [08:40<05:47,  1.39it/s]"
     ]
    },
    {
     "name": "stdout",
     "output_type": "stream",
     "text": [
      "❌ 본문을 찾을 수 없음: https://mypetlife.co.kr/?post_type=premium#038;p=94545\n"
     ]
    },
    {
     "name": "stderr",
     "output_type": "stream",
     "text": [
      "📄 기사 수집 중:  62%|██████▏   | 789/1270 [08:41<05:53,  1.36it/s]"
     ]
    },
    {
     "name": "stdout",
     "output_type": "stream",
     "text": [
      "❌ 본문을 찾을 수 없음: https://mypetlife.co.kr/?post_type=premium#038;p=94471\n"
     ]
    },
    {
     "name": "stderr",
     "output_type": "stream",
     "text": [
      "📄 기사 수집 중:  62%|██████▏   | 790/1270 [08:42<05:56,  1.35it/s]"
     ]
    },
    {
     "name": "stdout",
     "output_type": "stream",
     "text": [
      "❌ 본문을 찾을 수 없음: https://mypetlife.co.kr/?post_type=premium#038;p=94463\n"
     ]
    },
    {
     "name": "stderr",
     "output_type": "stream",
     "text": [
      "📄 기사 수집 중:  62%|██████▏   | 793/1270 [08:44<05:29,  1.45it/s]"
     ]
    },
    {
     "name": "stdout",
     "output_type": "stream",
     "text": [
      "❌ 본문을 찾을 수 없음: https://mypetlife.co.kr/?post_type=premium#038;p=93316\n"
     ]
    },
    {
     "name": "stderr",
     "output_type": "stream",
     "text": [
      "📄 기사 수집 중:  63%|██████▎   | 794/1270 [08:44<05:38,  1.40it/s]"
     ]
    },
    {
     "name": "stdout",
     "output_type": "stream",
     "text": [
      "❌ 본문을 찾을 수 없음: https://mypetlife.co.kr/?post_type=premium#038;p=93314\n"
     ]
    },
    {
     "name": "stderr",
     "output_type": "stream",
     "text": [
      "📄 기사 수집 중:  63%|██████▎   | 795/1270 [08:45<05:44,  1.38it/s]"
     ]
    },
    {
     "name": "stdout",
     "output_type": "stream",
     "text": [
      "❌ 본문을 찾을 수 없음: https://mypetlife.co.kr/?post_type=premium#038;p=93310\n"
     ]
    },
    {
     "name": "stderr",
     "output_type": "stream",
     "text": [
      "📄 기사 수집 중:  63%|██████▎   | 796/1270 [08:46<05:52,  1.34it/s]"
     ]
    },
    {
     "name": "stdout",
     "output_type": "stream",
     "text": [
      "❌ 본문을 찾을 수 없음: https://mypetlife.co.kr/?post_type=premium#038;p=93002\n"
     ]
    },
    {
     "name": "stderr",
     "output_type": "stream",
     "text": [
      "📄 기사 수집 중:  63%|██████▎   | 797/1270 [08:47<05:55,  1.33it/s]"
     ]
    },
    {
     "name": "stdout",
     "output_type": "stream",
     "text": [
      "❌ 본문을 찾을 수 없음: https://mypetlife.co.kr/?post_type=premium#038;p=92157\n"
     ]
    },
    {
     "name": "stderr",
     "output_type": "stream",
     "text": [
      "📄 기사 수집 중:  63%|██████▎   | 798/1270 [08:47<05:56,  1.32it/s]"
     ]
    },
    {
     "name": "stdout",
     "output_type": "stream",
     "text": [
      "❌ 본문을 찾을 수 없음: https://mypetlife.co.kr/?post_type=premium#038;p=91612\n"
     ]
    },
    {
     "name": "stderr",
     "output_type": "stream",
     "text": [
      "📄 기사 수집 중:  63%|██████▎   | 799/1270 [08:48<05:55,  1.32it/s]"
     ]
    },
    {
     "name": "stdout",
     "output_type": "stream",
     "text": [
      "❌ 본문을 찾을 수 없음: https://mypetlife.co.kr/?post_type=premium#038;p=91610\n"
     ]
    },
    {
     "name": "stderr",
     "output_type": "stream",
     "text": [
      "📄 기사 수집 중:  63%|██████▎   | 802/1270 [08:50<05:23,  1.45it/s]"
     ]
    },
    {
     "name": "stdout",
     "output_type": "stream",
     "text": [
      "❌ 본문을 찾을 수 없음: https://mypetlife.co.kr/?post_type=premium#038;p=90943\n"
     ]
    },
    {
     "name": "stderr",
     "output_type": "stream",
     "text": [
      "📄 기사 수집 중:  63%|██████▎   | 803/1270 [08:51<05:30,  1.41it/s]"
     ]
    },
    {
     "name": "stdout",
     "output_type": "stream",
     "text": [
      "❌ 본문을 찾을 수 없음: https://mypetlife.co.kr/?post_type=premium#038;p=89747\n"
     ]
    },
    {
     "name": "stderr",
     "output_type": "stream",
     "text": [
      "📄 기사 수집 중:  63%|██████▎   | 804/1270 [08:52<05:39,  1.37it/s]"
     ]
    },
    {
     "name": "stdout",
     "output_type": "stream",
     "text": [
      "❌ 본문을 찾을 수 없음: https://mypetlife.co.kr/?post_type=premium#038;p=89624\n"
     ]
    },
    {
     "name": "stderr",
     "output_type": "stream",
     "text": [
      "📄 기사 수집 중:  63%|██████▎   | 805/1270 [08:52<05:43,  1.35it/s]"
     ]
    },
    {
     "name": "stdout",
     "output_type": "stream",
     "text": [
      "❌ 본문을 찾을 수 없음: https://mypetlife.co.kr/?post_type=premium#038;p=89603\n"
     ]
    },
    {
     "name": "stderr",
     "output_type": "stream",
     "text": [
      "📄 기사 수집 중:  64%|██████▍   | 810/1270 [08:56<05:12,  1.47it/s]"
     ]
    },
    {
     "name": "stdout",
     "output_type": "stream",
     "text": [
      "❌ 본문을 찾을 수 없음: https://mypetlife.co.kr/?post_type=premium#038;p=89235\n"
     ]
    },
    {
     "name": "stderr",
     "output_type": "stream",
     "text": [
      "📄 기사 수집 중:  64%|██████▍   | 811/1270 [08:57<05:27,  1.40it/s]"
     ]
    },
    {
     "name": "stdout",
     "output_type": "stream",
     "text": [
      "❌ 본문을 찾을 수 없음: https://mypetlife.co.kr/?post_type=premium#038;p=89150\n"
     ]
    },
    {
     "name": "stderr",
     "output_type": "stream",
     "text": [
      "📄 기사 수집 중:  64%|██████▍   | 812/1270 [08:57<05:40,  1.34it/s]"
     ]
    },
    {
     "name": "stdout",
     "output_type": "stream",
     "text": [
      "❌ 본문을 찾을 수 없음: https://mypetlife.co.kr/?post_type=premium#038;p=88907\n"
     ]
    },
    {
     "name": "stderr",
     "output_type": "stream",
     "text": [
      "📄 기사 수집 중:  64%|██████▍   | 813/1270 [08:58<05:43,  1.33it/s]"
     ]
    },
    {
     "name": "stdout",
     "output_type": "stream",
     "text": [
      "❌ 본문을 찾을 수 없음: https://mypetlife.co.kr/?post_type=premium#038;p=88686\n"
     ]
    },
    {
     "name": "stderr",
     "output_type": "stream",
     "text": [
      "📄 기사 수집 중:  64%|██████▍   | 814/1270 [08:59<05:47,  1.31it/s]"
     ]
    },
    {
     "name": "stdout",
     "output_type": "stream",
     "text": [
      "❌ 본문을 찾을 수 없음: https://mypetlife.co.kr/?post_type=premium#038;p=88600\n"
     ]
    },
    {
     "name": "stderr",
     "output_type": "stream",
     "text": [
      "📄 기사 수집 중:  64%|██████▍   | 815/1270 [09:00<05:54,  1.28it/s]"
     ]
    },
    {
     "name": "stdout",
     "output_type": "stream",
     "text": [
      "❌ 본문을 찾을 수 없음: https://mypetlife.co.kr/?post_type=premium#038;p=88201\n"
     ]
    },
    {
     "name": "stderr",
     "output_type": "stream",
     "text": [
      "📄 기사 수집 중:  64%|██████▍   | 816/1270 [09:01<05:51,  1.29it/s]"
     ]
    },
    {
     "name": "stdout",
     "output_type": "stream",
     "text": [
      "❌ 본문을 찾을 수 없음: https://mypetlife.co.kr/?post_type=premium#038;p=88054\n"
     ]
    },
    {
     "name": "stderr",
     "output_type": "stream",
     "text": [
      "📄 기사 수집 중:  64%|██████▍   | 817/1270 [09:01<05:46,  1.31it/s]"
     ]
    },
    {
     "name": "stdout",
     "output_type": "stream",
     "text": [
      "❌ 본문을 찾을 수 없음: https://mypetlife.co.kr/?post_type=premium#038;p=88017\n"
     ]
    },
    {
     "name": "stderr",
     "output_type": "stream",
     "text": [
      "📄 기사 수집 중:  64%|██████▍   | 818/1270 [09:02<05:45,  1.31it/s]"
     ]
    },
    {
     "name": "stdout",
     "output_type": "stream",
     "text": [
      "❌ 본문을 찾을 수 없음: https://mypetlife.co.kr/?post_type=premium#038;p=88006\n"
     ]
    },
    {
     "name": "stderr",
     "output_type": "stream",
     "text": [
      "📄 기사 수집 중:  64%|██████▍   | 819/1270 [09:03<05:48,  1.29it/s]"
     ]
    },
    {
     "name": "stdout",
     "output_type": "stream",
     "text": [
      "❌ 본문을 찾을 수 없음: https://mypetlife.co.kr/?post_type=premium#038;p=87666\n"
     ]
    },
    {
     "name": "stderr",
     "output_type": "stream",
     "text": [
      "📄 기사 수집 중:  65%|██████▍   | 822/1270 [09:05<05:13,  1.43it/s]"
     ]
    },
    {
     "name": "stdout",
     "output_type": "stream",
     "text": [
      "❌ 본문을 찾을 수 없음: https://mypetlife.co.kr/?post_type=premium#038;p=86980\n"
     ]
    },
    {
     "name": "stderr",
     "output_type": "stream",
     "text": [
      "📄 기사 수집 중:  65%|██████▍   | 823/1270 [09:06<05:21,  1.39it/s]"
     ]
    },
    {
     "name": "stdout",
     "output_type": "stream",
     "text": [
      "❌ 본문을 찾을 수 없음: https://mypetlife.co.kr/?post_type=premium#038;p=86971\n"
     ]
    },
    {
     "name": "stderr",
     "output_type": "stream",
     "text": [
      "📄 기사 수집 중:  65%|██████▍   | 824/1270 [09:06<05:28,  1.36it/s]"
     ]
    },
    {
     "name": "stdout",
     "output_type": "stream",
     "text": [
      "❌ 본문을 찾을 수 없음: https://mypetlife.co.kr/?post_type=premium#038;p=86964\n"
     ]
    },
    {
     "name": "stderr",
     "output_type": "stream",
     "text": [
      "📄 기사 수집 중:  65%|██████▍   | 825/1270 [09:07<05:30,  1.35it/s]"
     ]
    },
    {
     "name": "stdout",
     "output_type": "stream",
     "text": [
      "❌ 본문을 찾을 수 없음: https://mypetlife.co.kr/?post_type=premium#038;p=86949\n"
     ]
    },
    {
     "name": "stderr",
     "output_type": "stream",
     "text": [
      "📄 기사 수집 중:  65%|██████▌   | 826/1270 [09:08<05:32,  1.33it/s]"
     ]
    },
    {
     "name": "stdout",
     "output_type": "stream",
     "text": [
      "❌ 본문을 찾을 수 없음: https://mypetlife.co.kr/?post_type=premium#038;p=86913\n"
     ]
    },
    {
     "name": "stderr",
     "output_type": "stream",
     "text": [
      "📄 기사 수집 중:  65%|██████▌   | 829/1270 [09:10<05:06,  1.44it/s]"
     ]
    },
    {
     "name": "stdout",
     "output_type": "stream",
     "text": [
      "❌ 본문을 찾을 수 없음: https://mypetlife.co.kr/?post_type=premium#038;p=86818\n"
     ]
    },
    {
     "name": "stderr",
     "output_type": "stream",
     "text": [
      "📄 기사 수집 중:  65%|██████▌   | 830/1270 [09:11<05:15,  1.39it/s]"
     ]
    },
    {
     "name": "stdout",
     "output_type": "stream",
     "text": [
      "❌ 본문을 찾을 수 없음: https://mypetlife.co.kr/?post_type=premium#038;p=86814\n"
     ]
    },
    {
     "name": "stderr",
     "output_type": "stream",
     "text": [
      "📄 기사 수집 중:  65%|██████▌   | 831/1270 [09:12<05:22,  1.36it/s]"
     ]
    },
    {
     "name": "stdout",
     "output_type": "stream",
     "text": [
      "❌ 본문을 찾을 수 없음: https://mypetlife.co.kr/?post_type=pauple_helpie#038;p=86745\n"
     ]
    },
    {
     "name": "stderr",
     "output_type": "stream",
     "text": [
      "📄 기사 수집 중:  66%|██████▌   | 832/1270 [09:12<05:32,  1.32it/s]"
     ]
    },
    {
     "name": "stdout",
     "output_type": "stream",
     "text": [
      "❌ 본문을 찾을 수 없음: https://mypetlife.co.kr/?post_type=premium#038;p=86495\n"
     ]
    },
    {
     "name": "stderr",
     "output_type": "stream",
     "text": [
      "📄 기사 수집 중:  66%|██████▌   | 833/1270 [09:13<05:29,  1.33it/s]"
     ]
    },
    {
     "name": "stdout",
     "output_type": "stream",
     "text": [
      "❌ 본문을 찾을 수 없음: https://mypetlife.co.kr/?post_type=premium#038;p=86397\n"
     ]
    },
    {
     "name": "stderr",
     "output_type": "stream",
     "text": [
      "📄 기사 수집 중:  66%|██████▌   | 834/1270 [09:14<05:30,  1.32it/s]"
     ]
    },
    {
     "name": "stdout",
     "output_type": "stream",
     "text": [
      "❌ 본문을 찾을 수 없음: https://mypetlife.co.kr/?post_type=premium#038;p=86392\n"
     ]
    },
    {
     "name": "stderr",
     "output_type": "stream",
     "text": [
      "📄 기사 수집 중:  66%|██████▌   | 835/1270 [09:15<05:32,  1.31it/s]"
     ]
    },
    {
     "name": "stdout",
     "output_type": "stream",
     "text": [
      "❌ 본문을 찾을 수 없음: https://mypetlife.co.kr/?post_type=premium#038;p=84931\n"
     ]
    },
    {
     "name": "stderr",
     "output_type": "stream",
     "text": [
      "📄 기사 수집 중:  66%|██████▌   | 836/1270 [09:15<05:32,  1.30it/s]"
     ]
    },
    {
     "name": "stdout",
     "output_type": "stream",
     "text": [
      "❌ 본문을 찾을 수 없음: https://mypetlife.co.kr/?post_type=premium#038;p=84925\n"
     ]
    },
    {
     "name": "stderr",
     "output_type": "stream",
     "text": [
      "📄 기사 수집 중:  66%|██████▌   | 837/1270 [09:16<05:33,  1.30it/s]"
     ]
    },
    {
     "name": "stdout",
     "output_type": "stream",
     "text": [
      "❌ 본문을 찾을 수 없음: https://mypetlife.co.kr/?post_type=premium#038;p=84256\n"
     ]
    },
    {
     "name": "stderr",
     "output_type": "stream",
     "text": [
      "📄 기사 수집 중:  66%|██████▌   | 838/1270 [09:17<05:35,  1.29it/s]"
     ]
    },
    {
     "name": "stdout",
     "output_type": "stream",
     "text": [
      "❌ 본문을 찾을 수 없음: https://mypetlife.co.kr/?post_type=premium#038;p=84215\n"
     ]
    },
    {
     "name": "stderr",
     "output_type": "stream",
     "text": [
      "📄 기사 수집 중:  66%|██████▌   | 839/1270 [09:18<05:43,  1.26it/s]"
     ]
    },
    {
     "name": "stdout",
     "output_type": "stream",
     "text": [
      "❌ 본문을 찾을 수 없음: https://mypetlife.co.kr/?post_type=premium#038;p=84199\n"
     ]
    },
    {
     "name": "stderr",
     "output_type": "stream",
     "text": [
      "📄 기사 수집 중:  66%|██████▌   | 840/1270 [09:19<05:39,  1.27it/s]"
     ]
    },
    {
     "name": "stdout",
     "output_type": "stream",
     "text": [
      "❌ 본문을 찾을 수 없음: https://mypetlife.co.kr/?post_type=premium#038;p=84185\n"
     ]
    },
    {
     "name": "stderr",
     "output_type": "stream",
     "text": [
      "📄 기사 수집 중:  66%|██████▌   | 841/1270 [09:19<05:34,  1.28it/s]"
     ]
    },
    {
     "name": "stdout",
     "output_type": "stream",
     "text": [
      "❌ 본문을 찾을 수 없음: https://mypetlife.co.kr/?post_type=premium#038;p=84182\n"
     ]
    },
    {
     "name": "stderr",
     "output_type": "stream",
     "text": [
      "📄 기사 수집 중:  66%|██████▋   | 842/1270 [09:20<05:31,  1.29it/s]"
     ]
    },
    {
     "name": "stdout",
     "output_type": "stream",
     "text": [
      "❌ 본문을 찾을 수 없음: https://mypetlife.co.kr/?post_type=premium#038;p=84179\n"
     ]
    },
    {
     "name": "stderr",
     "output_type": "stream",
     "text": [
      "📄 기사 수집 중:  66%|██████▋   | 843/1270 [09:21<05:30,  1.29it/s]"
     ]
    },
    {
     "name": "stdout",
     "output_type": "stream",
     "text": [
      "❌ 본문을 찾을 수 없음: https://mypetlife.co.kr/?post_type=premium#038;p=84173\n"
     ]
    },
    {
     "name": "stderr",
     "output_type": "stream",
     "text": [
      "📄 기사 수집 중:  66%|██████▋   | 844/1270 [09:22<05:31,  1.29it/s]"
     ]
    },
    {
     "name": "stdout",
     "output_type": "stream",
     "text": [
      "❌ 본문을 찾을 수 없음: https://mypetlife.co.kr/?post_type=premium#038;p=84144\n"
     ]
    },
    {
     "name": "stderr",
     "output_type": "stream",
     "text": [
      "📄 기사 수집 중:  67%|██████▋   | 845/1270 [09:22<05:30,  1.29it/s]"
     ]
    },
    {
     "name": "stdout",
     "output_type": "stream",
     "text": [
      "❌ 본문을 찾을 수 없음: https://mypetlife.co.kr/?post_type=premium#038;p=84139\n"
     ]
    },
    {
     "name": "stderr",
     "output_type": "stream",
     "text": [
      "📄 기사 수집 중:  67%|██████▋   | 846/1270 [09:23<05:29,  1.29it/s]"
     ]
    },
    {
     "name": "stdout",
     "output_type": "stream",
     "text": [
      "❌ 본문을 찾을 수 없음: https://mypetlife.co.kr/?post_type=premium#038;p=84134\n"
     ]
    },
    {
     "name": "stderr",
     "output_type": "stream",
     "text": [
      "📄 기사 수집 중:  67%|██████▋   | 852/1270 [09:27<05:04,  1.37it/s]"
     ]
    },
    {
     "name": "stdout",
     "output_type": "stream",
     "text": [
      "❌ 본문을 찾을 수 없음: https://mypetlife.co.kr/?post_type=pauple_helpie#038;p=70326\n"
     ]
    },
    {
     "name": "stderr",
     "output_type": "stream",
     "text": [
      "📄 기사 수집 중:  67%|██████▋   | 854/1270 [09:29<05:00,  1.39it/s]"
     ]
    },
    {
     "name": "stdout",
     "output_type": "stream",
     "text": [
      "❌ 본문을 찾을 수 없음: https://mypetlife.co.kr/?post_type=pauple_helpie#038;p=69998\n"
     ]
    },
    {
     "name": "stderr",
     "output_type": "stream",
     "text": [
      "📄 기사 수집 중:  67%|██████▋   | 857/1270 [09:31<04:47,  1.43it/s]"
     ]
    },
    {
     "name": "stdout",
     "output_type": "stream",
     "text": [
      "❌ 본문을 찾을 수 없음: https://mypetlife.co.kr/?post_type=pauple_helpie#038;p=66886\n"
     ]
    },
    {
     "name": "stderr",
     "output_type": "stream",
     "text": [
      "📄 기사 수집 중:  68%|██████▊   | 858/1270 [09:32<05:02,  1.36it/s]"
     ]
    },
    {
     "name": "stdout",
     "output_type": "stream",
     "text": [
      "❌ 본문을 찾을 수 없음: https://mypetlife.co.kr/?post_type=pauple_helpie#038;p=66876\n"
     ]
    },
    {
     "name": "stderr",
     "output_type": "stream",
     "text": [
      "📄 기사 수집 중:  68%|██████▊   | 859/1270 [09:33<05:12,  1.32it/s]"
     ]
    },
    {
     "name": "stdout",
     "output_type": "stream",
     "text": [
      "❌ 본문을 찾을 수 없음: https://mypetlife.co.kr/?post_type=pauple_helpie#038;p=66549\n"
     ]
    },
    {
     "name": "stderr",
     "output_type": "stream",
     "text": [
      "📄 기사 수집 중:  68%|██████▊   | 861/1270 [09:34<04:57,  1.38it/s]"
     ]
    },
    {
     "name": "stdout",
     "output_type": "stream",
     "text": [
      "❌ 본문을 찾을 수 없음: https://mypetlife.co.kr/?post_type=pauple_helpie#038;p=65604\n"
     ]
    },
    {
     "name": "stderr",
     "output_type": "stream",
     "text": [
      "📄 기사 수집 중:  68%|██████▊   | 865/1270 [09:37<04:31,  1.49it/s]"
     ]
    },
    {
     "name": "stdout",
     "output_type": "stream",
     "text": [
      "❌ 본문을 찾을 수 없음: https://mypetlife.co.kr/?post_type=pauple_helpie#038;p=65120\n"
     ]
    },
    {
     "name": "stderr",
     "output_type": "stream",
     "text": [
      "📄 기사 수집 중:  68%|██████▊   | 866/1270 [09:38<04:46,  1.41it/s]"
     ]
    },
    {
     "name": "stdout",
     "output_type": "stream",
     "text": [
      "❌ 본문을 찾을 수 없음: https://mypetlife.co.kr/?post_type=pauple_helpie#038;p=65090\n"
     ]
    },
    {
     "name": "stderr",
     "output_type": "stream",
     "text": [
      "📄 기사 수집 중:  69%|██████▊   | 873/1270 [09:42<04:14,  1.56it/s]"
     ]
    },
    {
     "name": "stdout",
     "output_type": "stream",
     "text": [
      "❌ 본문을 찾을 수 없음: https://mypetlife.co.kr/?post_type=pauple_helpie#038;p=61205\n"
     ]
    },
    {
     "name": "stderr",
     "output_type": "stream",
     "text": [
      "📄 기사 수집 중:  69%|██████▉   | 874/1270 [09:43<04:33,  1.45it/s]"
     ]
    },
    {
     "name": "stdout",
     "output_type": "stream",
     "text": [
      "❌ 본문을 찾을 수 없음: https://mypetlife.co.kr/?post_type=pauple_helpie#038;p=61203\n"
     ]
    },
    {
     "name": "stderr",
     "output_type": "stream",
     "text": [
      "📄 기사 수집 중:  69%|██████▉   | 877/1270 [09:45<04:25,  1.48it/s]"
     ]
    },
    {
     "name": "stdout",
     "output_type": "stream",
     "text": [
      "❌ 본문을 찾을 수 없음: https://mypetlife.co.kr/?post_type=pauple_helpie#038;p=60174\n"
     ]
    },
    {
     "name": "stderr",
     "output_type": "stream",
     "text": [
      "📄 기사 수집 중:  69%|██████▉   | 880/1270 [09:47<04:16,  1.52it/s]"
     ]
    },
    {
     "name": "stdout",
     "output_type": "stream",
     "text": [
      "❌ 본문을 찾을 수 없음: https://mypetlife.co.kr/?post_type=pauple_helpie#038;p=56436\n"
     ]
    },
    {
     "name": "stderr",
     "output_type": "stream",
     "text": [
      "📄 기사 수집 중:  69%|██████▉   | 882/1270 [09:49<04:30,  1.43it/s]"
     ]
    },
    {
     "name": "stdout",
     "output_type": "stream",
     "text": [
      "❌ 본문을 찾을 수 없음: https://mypetlife.co.kr/?post_type=pauple_helpie#038;p=54302\n"
     ]
    },
    {
     "name": "stderr",
     "output_type": "stream",
     "text": [
      "📄 기사 수집 중:  70%|██████▉   | 883/1270 [09:49<04:45,  1.36it/s]"
     ]
    },
    {
     "name": "stdout",
     "output_type": "stream",
     "text": [
      "❌ 본문을 찾을 수 없음: https://mypetlife.co.kr/?post_type=pauple_helpie#038;p=54270\n"
     ]
    },
    {
     "name": "stderr",
     "output_type": "stream",
     "text": [
      "📄 기사 수집 중:  70%|██████▉   | 884/1270 [09:50<04:53,  1.32it/s]"
     ]
    },
    {
     "name": "stdout",
     "output_type": "stream",
     "text": [
      "❌ 본문을 찾을 수 없음: https://mypetlife.co.kr/?post_type=pauple_helpie#038;p=54229\n"
     ]
    },
    {
     "name": "stderr",
     "output_type": "stream",
     "text": [
      "📄 기사 수집 중:  70%|██████▉   | 885/1270 [09:51<04:59,  1.28it/s]"
     ]
    },
    {
     "name": "stdout",
     "output_type": "stream",
     "text": [
      "❌ 본문을 찾을 수 없음: https://mypetlife.co.kr/?post_type=pauple_helpie#038;p=54227\n"
     ]
    },
    {
     "name": "stderr",
     "output_type": "stream",
     "text": [
      "📄 기사 수집 중:  70%|██████▉   | 887/1270 [09:53<04:42,  1.36it/s]"
     ]
    },
    {
     "name": "stdout",
     "output_type": "stream",
     "text": [
      "❌ 본문을 찾을 수 없음: https://mypetlife.co.kr/?post_type=pauple_helpie#038;p=53827\n"
     ]
    },
    {
     "name": "stderr",
     "output_type": "stream",
     "text": [
      "📄 기사 수집 중:  70%|██████▉   | 888/1270 [09:53<04:50,  1.31it/s]"
     ]
    },
    {
     "name": "stdout",
     "output_type": "stream",
     "text": [
      "❌ 본문을 찾을 수 없음: https://mypetlife.co.kr/?post_type=pauple_helpie#038;p=53795\n"
     ]
    },
    {
     "name": "stderr",
     "output_type": "stream",
     "text": [
      "📄 기사 수집 중:  70%|███████   | 889/1270 [09:54<04:53,  1.30it/s]"
     ]
    },
    {
     "name": "stdout",
     "output_type": "stream",
     "text": [
      "❌ 본문을 찾을 수 없음: https://mypetlife.co.kr/?post_type=pauple_helpie#038;p=53782\n"
     ]
    },
    {
     "name": "stderr",
     "output_type": "stream",
     "text": [
      "📄 기사 수집 중:  70%|███████   | 890/1270 [09:55<04:56,  1.28it/s]"
     ]
    },
    {
     "name": "stdout",
     "output_type": "stream",
     "text": [
      "❌ 본문을 찾을 수 없음: https://mypetlife.co.kr/?post_type=pauple_helpie#038;p=53582\n"
     ]
    },
    {
     "name": "stderr",
     "output_type": "stream",
     "text": [
      "📄 기사 수집 중:  70%|███████   | 891/1270 [09:56<05:10,  1.22it/s]"
     ]
    },
    {
     "name": "stdout",
     "output_type": "stream",
     "text": [
      "❌ 본문을 찾을 수 없음: https://mypetlife.co.kr/?post_type=pauple_helpie#038;p=53311\n"
     ]
    },
    {
     "name": "stderr",
     "output_type": "stream",
     "text": [
      "📄 기사 수집 중:  70%|███████   | 892/1270 [09:57<05:05,  1.24it/s]"
     ]
    },
    {
     "name": "stdout",
     "output_type": "stream",
     "text": [
      "❌ 본문을 찾을 수 없음: https://mypetlife.co.kr/?post_type=pauple_helpie#038;p=52368\n"
     ]
    },
    {
     "name": "stderr",
     "output_type": "stream",
     "text": [
      "📄 기사 수집 중:  70%|███████   | 893/1270 [09:57<05:05,  1.23it/s]"
     ]
    },
    {
     "name": "stdout",
     "output_type": "stream",
     "text": [
      "❌ 본문을 찾을 수 없음: https://mypetlife.co.kr/?post_type=pauple_helpie#038;p=52352\n"
     ]
    },
    {
     "name": "stderr",
     "output_type": "stream",
     "text": [
      "📄 기사 수집 중:  70%|███████   | 895/1270 [09:59<04:43,  1.32it/s]"
     ]
    },
    {
     "name": "stdout",
     "output_type": "stream",
     "text": [
      "❌ 본문을 찾을 수 없음: https://mypetlife.co.kr/?post_type=pauple_helpie#038;p=51864\n"
     ]
    },
    {
     "name": "stderr",
     "output_type": "stream",
     "text": [
      "📄 기사 수집 중:  71%|███████   | 897/1270 [10:00<04:35,  1.35it/s]"
     ]
    },
    {
     "name": "stdout",
     "output_type": "stream",
     "text": [
      "❌ 본문을 찾을 수 없음: https://mypetlife.co.kr/?post_type=pauple_helpie#038;p=51560\n"
     ]
    },
    {
     "name": "stderr",
     "output_type": "stream",
     "text": [
      "📄 기사 수집 중:  71%|███████   | 900/1270 [10:02<04:11,  1.47it/s]"
     ]
    },
    {
     "name": "stdout",
     "output_type": "stream",
     "text": [
      "❌ 본문을 찾을 수 없음: https://mypetlife.co.kr/?post_type=pauple_helpie#038;p=48723\n"
     ]
    },
    {
     "name": "stderr",
     "output_type": "stream",
     "text": [
      "📄 기사 수집 중:  71%|███████   | 901/1270 [10:03<04:29,  1.37it/s]"
     ]
    },
    {
     "name": "stdout",
     "output_type": "stream",
     "text": [
      "❌ 본문을 찾을 수 없음: https://mypetlife.co.kr/?post_type=pauple_helpie#038;p=48704\n"
     ]
    },
    {
     "name": "stderr",
     "output_type": "stream",
     "text": [
      "📄 기사 수집 중:  71%|███████   | 904/1270 [10:05<04:11,  1.46it/s]"
     ]
    },
    {
     "name": "stdout",
     "output_type": "stream",
     "text": [
      "❌ 본문을 찾을 수 없음: https://mypetlife.co.kr/?post_type=pauple_helpie#038;p=48068\n"
     ]
    },
    {
     "name": "stderr",
     "output_type": "stream",
     "text": [
      "📄 기사 수집 중:  71%|███████▏  | 905/1270 [10:06<04:23,  1.38it/s]"
     ]
    },
    {
     "name": "stdout",
     "output_type": "stream",
     "text": [
      "❌ 본문을 찾을 수 없음: https://mypetlife.co.kr/?post_type=pauple_helpie#038;p=48067\n"
     ]
    },
    {
     "name": "stderr",
     "output_type": "stream",
     "text": [
      "📄 기사 수집 중:  71%|███████▏  | 906/1270 [10:07<04:37,  1.31it/s]"
     ]
    },
    {
     "name": "stdout",
     "output_type": "stream",
     "text": [
      "❌ 본문을 찾을 수 없음: https://mypetlife.co.kr/?post_type=pauple_helpie#038;p=48064\n"
     ]
    },
    {
     "name": "stderr",
     "output_type": "stream",
     "text": [
      "📄 기사 수집 중:  71%|███████▏  | 907/1270 [10:08<04:46,  1.27it/s]"
     ]
    },
    {
     "name": "stdout",
     "output_type": "stream",
     "text": [
      "❌ 본문을 찾을 수 없음: https://mypetlife.co.kr/?post_type=pauple_helpie#038;p=48063\n"
     ]
    },
    {
     "name": "stderr",
     "output_type": "stream",
     "text": [
      "📄 기사 수집 중:  72%|███████▏  | 912/1270 [10:11<04:13,  1.41it/s]"
     ]
    },
    {
     "name": "stdout",
     "output_type": "stream",
     "text": [
      "❌ 본문을 찾을 수 없음: https://mypetlife.co.kr/?post_type=pauple_helpie#038;p=46633\n"
     ]
    },
    {
     "name": "stderr",
     "output_type": "stream",
     "text": [
      "📄 기사 수집 중:  72%|███████▏  | 915/1270 [10:13<04:11,  1.41it/s]"
     ]
    },
    {
     "name": "stdout",
     "output_type": "stream",
     "text": [
      "❌ 본문을 찾을 수 없음: https://mypetlife.co.kr/?post_type=pauple_helpie#038;p=45586\n"
     ]
    },
    {
     "name": "stderr",
     "output_type": "stream",
     "text": [
      "📄 기사 수집 중:  72%|███████▏  | 916/1270 [10:15<04:56,  1.20it/s]"
     ]
    },
    {
     "name": "stdout",
     "output_type": "stream",
     "text": [
      "❌ 본문을 찾을 수 없음: https://mypetlife.co.kr/?post_type=pauple_helpie#038;p=45570\n"
     ]
    },
    {
     "name": "stderr",
     "output_type": "stream",
     "text": [
      "📄 기사 수집 중:  72%|███████▏  | 917/1270 [10:15<05:00,  1.17it/s]"
     ]
    },
    {
     "name": "stdout",
     "output_type": "stream",
     "text": [
      "❌ 본문을 찾을 수 없음: https://mypetlife.co.kr/?post_type=pauple_helpie#038;p=45556\n"
     ]
    },
    {
     "name": "stderr",
     "output_type": "stream",
     "text": [
      "📄 기사 수집 중:  73%|███████▎  | 921/1270 [10:19<04:26,  1.31it/s]"
     ]
    },
    {
     "name": "stdout",
     "output_type": "stream",
     "text": [
      "❌ 본문을 찾을 수 없음: https://mypetlife.co.kr/?post_type=pauple_helpie#038;p=44961\n"
     ]
    },
    {
     "name": "stderr",
     "output_type": "stream",
     "text": [
      "📄 기사 수집 중:  73%|███████▎  | 922/1270 [10:19<04:40,  1.24it/s]"
     ]
    },
    {
     "name": "stdout",
     "output_type": "stream",
     "text": [
      "❌ 본문을 찾을 수 없음: https://mypetlife.co.kr/?post_type=pauple_helpie#038;p=44906\n"
     ]
    },
    {
     "name": "stderr",
     "output_type": "stream",
     "text": [
      "📄 기사 수집 중:  73%|███████▎  | 924/1270 [10:21<04:30,  1.28it/s]"
     ]
    },
    {
     "name": "stdout",
     "output_type": "stream",
     "text": [
      "❌ 본문을 찾을 수 없음: https://mypetlife.co.kr/?post_type=pauple_helpie#038;p=44819\n"
     ]
    },
    {
     "name": "stderr",
     "output_type": "stream",
     "text": [
      "📄 기사 수집 중:  74%|███████▍  | 942/1270 [10:34<04:10,  1.31it/s]"
     ]
    },
    {
     "name": "stdout",
     "output_type": "stream",
     "text": [
      "❌ 본문을 찾을 수 없음: https://mypetlife.co.kr/?post_type=pauple_helpie#038;p=39496\n"
     ]
    },
    {
     "name": "stderr",
     "output_type": "stream",
     "text": [
      "📄 기사 수집 중:  75%|███████▍  | 949/1270 [10:39<03:26,  1.55it/s]"
     ]
    },
    {
     "name": "stdout",
     "output_type": "stream",
     "text": [
      "❌ 본문을 찾을 수 없음: https://mypetlife.co.kr/?post_type=pauple_helpie#038;p=38591\n"
     ]
    },
    {
     "name": "stderr",
     "output_type": "stream",
     "text": [
      "📄 기사 수집 중:  76%|███████▌  | 961/1270 [10:48<03:25,  1.50it/s]"
     ]
    },
    {
     "name": "stdout",
     "output_type": "stream",
     "text": [
      "❌ 본문을 찾을 수 없음: https://mypetlife.co.kr/?post_type=pauple_helpie#038;p=36472\n"
     ]
    },
    {
     "name": "stderr",
     "output_type": "stream",
     "text": [
      "📄 기사 수집 중:  76%|███████▌  | 965/1270 [10:51<03:21,  1.51it/s]"
     ]
    },
    {
     "name": "stdout",
     "output_type": "stream",
     "text": [
      "❌ 본문을 찾을 수 없음: https://mypetlife.co.kr/?post_type=pauple_helpie#038;p=35725\n"
     ]
    },
    {
     "name": "stderr",
     "output_type": "stream",
     "text": [
      "📄 기사 수집 중:  76%|███████▌  | 966/1270 [10:51<03:36,  1.41it/s]"
     ]
    },
    {
     "name": "stdout",
     "output_type": "stream",
     "text": [
      "❌ 본문을 찾을 수 없음: https://mypetlife.co.kr/?post_type=pauple_helpie#038;p=35671\n"
     ]
    },
    {
     "name": "stderr",
     "output_type": "stream",
     "text": [
      "📄 기사 수집 중:  77%|███████▋  | 973/1270 [10:56<03:22,  1.47it/s]"
     ]
    },
    {
     "name": "stdout",
     "output_type": "stream",
     "text": [
      "❌ 본문을 찾을 수 없음: https://mypetlife.co.kr/?post_type=pauple_helpie#038;p=34562\n"
     ]
    },
    {
     "name": "stderr",
     "output_type": "stream",
     "text": [
      "📄 기사 수집 중:  77%|███████▋  | 974/1270 [10:57<03:31,  1.40it/s]"
     ]
    },
    {
     "name": "stdout",
     "output_type": "stream",
     "text": [
      "❌ 본문을 찾을 수 없음: https://mypetlife.co.kr/?post_type=pauple_helpie#038;p=34539\n"
     ]
    },
    {
     "name": "stderr",
     "output_type": "stream",
     "text": [
      "📄 기사 수집 중:  77%|███████▋  | 975/1270 [10:58<03:51,  1.28it/s]"
     ]
    },
    {
     "name": "stdout",
     "output_type": "stream",
     "text": [
      "❌ 본문을 찾을 수 없음: https://mypetlife.co.kr/?post_type=pauple_helpie#038;p=34206\n"
     ]
    },
    {
     "name": "stderr",
     "output_type": "stream",
     "text": [
      "📄 기사 수집 중:  77%|███████▋  | 976/1270 [10:59<04:04,  1.20it/s]"
     ]
    },
    {
     "name": "stdout",
     "output_type": "stream",
     "text": [
      "❌ 본문을 찾을 수 없음: https://mypetlife.co.kr/?post_type=pauple_helpie#038;p=34093\n"
     ]
    },
    {
     "name": "stderr",
     "output_type": "stream",
     "text": [
      "📄 기사 수집 중:  77%|███████▋  | 982/1270 [11:04<03:35,  1.34it/s]"
     ]
    },
    {
     "name": "stdout",
     "output_type": "stream",
     "text": [
      "❌ 본문을 찾을 수 없음: https://mypetlife.co.kr/?post_type=pauple_helpie#038;p=32752\n"
     ]
    },
    {
     "name": "stderr",
     "output_type": "stream",
     "text": [
      "📄 기사 수집 중:  78%|███████▊  | 989/1270 [11:09<03:17,  1.42it/s]"
     ]
    },
    {
     "name": "stdout",
     "output_type": "stream",
     "text": [
      "❌ 본문을 찾을 수 없음: https://mypetlife.co.kr/?post_type=pauple_helpie#038;p=31429\n"
     ]
    },
    {
     "name": "stderr",
     "output_type": "stream",
     "text": [
      "📄 기사 수집 중:  78%|███████▊  | 990/1270 [11:09<03:27,  1.35it/s]"
     ]
    },
    {
     "name": "stdout",
     "output_type": "stream",
     "text": [
      "❌ 본문을 찾을 수 없음: https://mypetlife.co.kr/?post_type=pauple_helpie#038;p=31419\n"
     ]
    },
    {
     "name": "stderr",
     "output_type": "stream",
     "text": [
      "📄 기사 수집 중:  78%|███████▊  | 991/1270 [11:10<03:32,  1.31it/s]"
     ]
    },
    {
     "name": "stdout",
     "output_type": "stream",
     "text": [
      "❌ 본문을 찾을 수 없음: https://mypetlife.co.kr/?post_type=pauple_helpie#038;p=31403\n"
     ]
    },
    {
     "name": "stderr",
     "output_type": "stream",
     "text": [
      "📄 기사 수집 중:  78%|███████▊  | 993/1270 [11:12<03:24,  1.35it/s]"
     ]
    },
    {
     "name": "stdout",
     "output_type": "stream",
     "text": [
      "❌ 본문을 찾을 수 없음: https://mypetlife.co.kr/?post_type=pauple_helpie#038;p=30266\n"
     ]
    },
    {
     "name": "stderr",
     "output_type": "stream",
     "text": [
      "📄 기사 수집 중:  79%|███████▉  | 1001/1270 [11:17<02:59,  1.50it/s]"
     ]
    },
    {
     "name": "stdout",
     "output_type": "stream",
     "text": [
      "❌ 본문을 찾을 수 없음: https://mypetlife.co.kr/?post_type=pauple_helpie#038;p=28896\n"
     ]
    },
    {
     "name": "stderr",
     "output_type": "stream",
     "text": [
      "📄 기사 수집 중:  80%|████████  | 1020/1270 [11:30<02:55,  1.43it/s]"
     ]
    },
    {
     "name": "stdout",
     "output_type": "stream",
     "text": [
      "❌ 본문을 찾을 수 없음: https://mypetlife.co.kr/?post_type=pauple_helpie#038;p=25540\n"
     ]
    },
    {
     "name": "stderr",
     "output_type": "stream",
     "text": [
      "📄 기사 수집 중:  81%|████████  | 1023/1270 [11:32<02:59,  1.38it/s]"
     ]
    },
    {
     "name": "stdout",
     "output_type": "stream",
     "text": [
      "❌ 본문을 찾을 수 없음: https://mypetlife.co.kr/?post_type=pauple_helpie#038;p=24926\n"
     ]
    },
    {
     "name": "stderr",
     "output_type": "stream",
     "text": [
      "📄 기사 수집 중:  81%|████████  | 1024/1270 [11:33<03:10,  1.29it/s]"
     ]
    },
    {
     "name": "stdout",
     "output_type": "stream",
     "text": [
      "❌ 본문을 찾을 수 없음: https://mypetlife.co.kr/?post_type=pauple_helpie#038;p=24792\n"
     ]
    },
    {
     "name": "stderr",
     "output_type": "stream",
     "text": [
      "📄 기사 수집 중:  81%|████████  | 1025/1270 [11:34<03:12,  1.28it/s]"
     ]
    },
    {
     "name": "stdout",
     "output_type": "stream",
     "text": [
      "❌ 본문을 찾을 수 없음: https://mypetlife.co.kr/?post_type=pauple_helpie#038;p=24775\n"
     ]
    },
    {
     "name": "stderr",
     "output_type": "stream",
     "text": [
      "📄 기사 수집 중:  81%|████████  | 1027/1270 [11:36<03:15,  1.24it/s]"
     ]
    },
    {
     "name": "stdout",
     "output_type": "stream",
     "text": [
      "❌ 본문을 찾을 수 없음: https://mypetlife.co.kr/?post_type=pauple_helpie#038;p=24725\n"
     ]
    },
    {
     "name": "stderr",
     "output_type": "stream",
     "text": [
      "📄 기사 수집 중:  81%|████████  | 1030/1270 [11:38<02:58,  1.34it/s]"
     ]
    },
    {
     "name": "stdout",
     "output_type": "stream",
     "text": [
      "❌ 본문을 찾을 수 없음: https://mypetlife.co.kr/?post_type=pauple_helpie#038;p=22432\n"
     ]
    },
    {
     "name": "stderr",
     "output_type": "stream",
     "text": [
      "📄 기사 수집 중:  81%|████████▏ | 1034/1270 [11:41<02:43,  1.44it/s]"
     ]
    },
    {
     "name": "stdout",
     "output_type": "stream",
     "text": [
      "❌ 본문을 찾을 수 없음: https://mypetlife.co.kr/?post_type=pauple_helpie#038;p=21193\n"
     ]
    },
    {
     "name": "stderr",
     "output_type": "stream",
     "text": [
      "📄 기사 수집 중:  82%|████████▏ | 1036/1270 [11:42<02:47,  1.39it/s]"
     ]
    },
    {
     "name": "stdout",
     "output_type": "stream",
     "text": [
      "❌ 본문을 찾을 수 없음: https://mypetlife.co.kr/?post_type=pauple_helpie#038;p=21125\n"
     ]
    },
    {
     "name": "stderr",
     "output_type": "stream",
     "text": [
      "📄 기사 수집 중:  82%|████████▏ | 1039/1270 [11:45<02:44,  1.40it/s]"
     ]
    },
    {
     "name": "stdout",
     "output_type": "stream",
     "text": [
      "❌ 본문을 찾을 수 없음: https://mypetlife.co.kr/?post_type=pauple_helpie#038;p=20919\n"
     ]
    },
    {
     "name": "stderr",
     "output_type": "stream",
     "text": [
      "📄 기사 수집 중:  84%|████████▍ | 1069/1270 [12:05<02:19,  1.44it/s]"
     ]
    },
    {
     "name": "stdout",
     "output_type": "stream",
     "text": [
      "❌ 본문을 찾을 수 없음: https://mypetlife.co.kr/?post_type=pauple_helpie#038;p=18129\n"
     ]
    },
    {
     "name": "stderr",
     "output_type": "stream",
     "text": [
      "📄 기사 수집 중:  84%|████████▍ | 1072/1270 [12:08<02:24,  1.37it/s]"
     ]
    },
    {
     "name": "stdout",
     "output_type": "stream",
     "text": [
      "❌ 본문을 찾을 수 없음: https://mypetlife.co.kr/?post_type=pauple_helpie#038;p=17823\n"
     ]
    },
    {
     "name": "stderr",
     "output_type": "stream",
     "text": [
      "📄 기사 수집 중:  85%|████████▍ | 1074/1270 [12:09<02:23,  1.36it/s]"
     ]
    },
    {
     "name": "stdout",
     "output_type": "stream",
     "text": [
      "❌ 본문을 찾을 수 없음: https://mypetlife.co.kr/?post_type=pauple_helpie#038;p=17737\n"
     ]
    },
    {
     "name": "stderr",
     "output_type": "stream",
     "text": [
      "📄 기사 수집 중:  85%|████████▍ | 1075/1270 [12:10<02:31,  1.29it/s]"
     ]
    },
    {
     "name": "stdout",
     "output_type": "stream",
     "text": [
      "❌ 본문을 찾을 수 없음: https://mypetlife.co.kr/?post_type=pauple_helpie#038;p=17717\n"
     ]
    },
    {
     "name": "stderr",
     "output_type": "stream",
     "text": [
      "📄 기사 수집 중:  86%|████████▋ | 1098/1270 [12:26<01:56,  1.47it/s]"
     ]
    },
    {
     "name": "stdout",
     "output_type": "stream",
     "text": [
      "❌ 본문을 찾을 수 없음: https://mypetlife.co.kr/?post_type=pauple_helpie#038;p=15026\n"
     ]
    },
    {
     "name": "stderr",
     "output_type": "stream",
     "text": [
      "📄 기사 수집 중:  87%|████████▋ | 1101/1270 [12:28<01:53,  1.48it/s]"
     ]
    },
    {
     "name": "stdout",
     "output_type": "stream",
     "text": [
      "❌ 본문을 찾을 수 없음: https://mypetlife.co.kr/?post_type=pauple_helpie#038;p=14056\n"
     ]
    },
    {
     "name": "stderr",
     "output_type": "stream",
     "text": [
      "📄 기사 수집 중:  89%|████████▉ | 1133/1270 [12:50<01:26,  1.58it/s]"
     ]
    },
    {
     "name": "stdout",
     "output_type": "stream",
     "text": [
      "❌ 본문을 찾을 수 없음: https://mypetlife.co.kr/?post_type=pauple_helpie#038;p=10936\n"
     ]
    },
    {
     "name": "stderr",
     "output_type": "stream",
     "text": [
      "📄 기사 수집 중:  89%|████████▉ | 1136/1270 [12:52<01:33,  1.44it/s]"
     ]
    },
    {
     "name": "stdout",
     "output_type": "stream",
     "text": [
      "❌ 본문을 찾을 수 없음: https://mypetlife.co.kr/?post_type=pauple_helpie#038;p=10796\n"
     ]
    },
    {
     "name": "stderr",
     "output_type": "stream",
     "text": [
      "📄 기사 수집 중:  90%|████████▉ | 1139/1270 [12:54<01:28,  1.49it/s]"
     ]
    },
    {
     "name": "stdout",
     "output_type": "stream",
     "text": [
      "❌ 본문을 찾을 수 없음: https://mypetlife.co.kr/?post_type=pauple_helpie#038;p=10397\n"
     ]
    },
    {
     "name": "stderr",
     "output_type": "stream",
     "text": [
      "📄 기사 수집 중:  90%|████████▉ | 1141/1270 [12:55<01:28,  1.46it/s]"
     ]
    },
    {
     "name": "stdout",
     "output_type": "stream",
     "text": [
      "❌ 본문을 찾을 수 없음: https://mypetlife.co.kr/?post_type=pauple_helpie#038;p=10353\n"
     ]
    },
    {
     "name": "stderr",
     "output_type": "stream",
     "text": [
      "📄 기사 수집 중:  90%|█████████ | 1143/1270 [12:57<01:28,  1.43it/s]"
     ]
    },
    {
     "name": "stdout",
     "output_type": "stream",
     "text": [
      "❌ 본문을 찾을 수 없음: https://mypetlife.co.kr/?post_type=pauple_helpie#038;p=10319\n"
     ]
    },
    {
     "name": "stderr",
     "output_type": "stream",
     "text": [
      "📄 기사 수집 중:  90%|█████████ | 1147/1270 [12:59<01:22,  1.50it/s]"
     ]
    },
    {
     "name": "stdout",
     "output_type": "stream",
     "text": [
      "❌ 본문을 찾을 수 없음: https://mypetlife.co.kr/?post_type=pauple_helpie#038;p=10271\n"
     ]
    },
    {
     "name": "stderr",
     "output_type": "stream",
     "text": [
      "📄 기사 수집 중:  91%|█████████ | 1155/1270 [13:05<01:16,  1.50it/s]"
     ]
    },
    {
     "name": "stdout",
     "output_type": "stream",
     "text": [
      "❌ 본문을 찾을 수 없음: https://mypetlife.co.kr/?post_type=pauple_helpie#038;p=9823\n"
     ]
    },
    {
     "name": "stderr",
     "output_type": "stream",
     "text": [
      "📄 기사 수집 중:  91%|█████████ | 1157/1270 [13:06<01:16,  1.47it/s]"
     ]
    },
    {
     "name": "stdout",
     "output_type": "stream",
     "text": [
      "❌ 본문을 찾을 수 없음: https://mypetlife.co.kr/?post_type=pauple_helpie#038;p=9601\n"
     ]
    },
    {
     "name": "stderr",
     "output_type": "stream",
     "text": [
      "📄 기사 수집 중:  91%|█████████ | 1158/1270 [13:07<01:20,  1.39it/s]"
     ]
    },
    {
     "name": "stdout",
     "output_type": "stream",
     "text": [
      "❌ 본문을 찾을 수 없음: https://mypetlife.co.kr/?post_type=pauple_helpie#038;p=9577\n"
     ]
    },
    {
     "name": "stderr",
     "output_type": "stream",
     "text": [
      "📄 기사 수집 중:  92%|█████████▏| 1165/1270 [13:12<01:06,  1.58it/s]"
     ]
    },
    {
     "name": "stdout",
     "output_type": "stream",
     "text": [
      "❌ 본문을 찾을 수 없음: https://mypetlife.co.kr/?post_type=pauple_helpie#038;p=9266\n"
     ]
    },
    {
     "name": "stderr",
     "output_type": "stream",
     "text": [
      "📄 기사 수집 중:  92%|█████████▏| 1173/1270 [13:17<01:05,  1.49it/s]"
     ]
    },
    {
     "name": "stdout",
     "output_type": "stream",
     "text": [
      "❌ 본문을 찾을 수 없음: https://mypetlife.co.kr/?post_type=pauple_helpie#038;p=9043\n"
     ]
    },
    {
     "name": "stderr",
     "output_type": "stream",
     "text": [
      "📄 기사 수집 중:  93%|█████████▎| 1182/1270 [13:23<00:59,  1.49it/s]"
     ]
    },
    {
     "name": "stdout",
     "output_type": "stream",
     "text": [
      "❌ 본문을 찾을 수 없음: https://mypetlife.co.kr/?post_type=pauple_helpie#038;p=8683\n"
     ]
    },
    {
     "name": "stderr",
     "output_type": "stream",
     "text": [
      "📄 기사 수집 중:  93%|█████████▎| 1184/1270 [13:25<00:58,  1.46it/s]"
     ]
    },
    {
     "name": "stdout",
     "output_type": "stream",
     "text": [
      "❌ 본문을 찾을 수 없음: https://mypetlife.co.kr/?post_type=pauple_helpie#038;p=8498\n"
     ]
    },
    {
     "name": "stderr",
     "output_type": "stream",
     "text": [
      "📄 기사 수집 중:  93%|█████████▎| 1185/1270 [13:26<01:01,  1.38it/s]"
     ]
    },
    {
     "name": "stdout",
     "output_type": "stream",
     "text": [
      "❌ 본문을 찾을 수 없음: https://mypetlife.co.kr/?post_type=pauple_helpie#038;p=8479\n"
     ]
    },
    {
     "name": "stderr",
     "output_type": "stream",
     "text": [
      "📄 기사 수집 중:  93%|█████████▎| 1187/1270 [13:27<00:59,  1.38it/s]"
     ]
    },
    {
     "name": "stdout",
     "output_type": "stream",
     "text": [
      "❌ 본문을 찾을 수 없음: https://mypetlife.co.kr/?post_type=pauple_helpie#038;p=8421\n"
     ]
    },
    {
     "name": "stderr",
     "output_type": "stream",
     "text": [
      "📄 기사 수집 중:  94%|█████████▎| 1188/1270 [13:28<01:02,  1.32it/s]"
     ]
    },
    {
     "name": "stdout",
     "output_type": "stream",
     "text": [
      "❌ 본문을 찾을 수 없음: https://mypetlife.co.kr/?post_type=pauple_helpie#038;p=8258\n"
     ]
    },
    {
     "name": "stderr",
     "output_type": "stream",
     "text": [
      "📄 기사 수집 중:  94%|█████████▎| 1190/1270 [13:29<00:57,  1.39it/s]"
     ]
    },
    {
     "name": "stdout",
     "output_type": "stream",
     "text": [
      "❌ 본문을 찾을 수 없음: https://mypetlife.co.kr/?post_type=pauple_helpie#038;p=8245\n"
     ]
    },
    {
     "name": "stderr",
     "output_type": "stream",
     "text": [
      "📄 기사 수집 중:  94%|█████████▍| 1192/1270 [13:31<00:56,  1.37it/s]"
     ]
    },
    {
     "name": "stdout",
     "output_type": "stream",
     "text": [
      "❌ 본문을 찾을 수 없음: https://mypetlife.co.kr/?post_type=pauple_helpie#038;p=8186\n"
     ]
    },
    {
     "name": "stderr",
     "output_type": "stream",
     "text": [
      "📄 기사 수집 중:  94%|█████████▍| 1194/1270 [13:32<00:57,  1.33it/s]"
     ]
    },
    {
     "name": "stdout",
     "output_type": "stream",
     "text": [
      "❌ 본문을 찾을 수 없음: https://mypetlife.co.kr/?post_type=pauple_helpie#038;p=8111\n"
     ]
    },
    {
     "name": "stderr",
     "output_type": "stream",
     "text": [
      "📄 기사 수집 중:  94%|█████████▍| 1196/1270 [13:34<00:53,  1.37it/s]"
     ]
    },
    {
     "name": "stdout",
     "output_type": "stream",
     "text": [
      "❌ 본문을 찾을 수 없음: https://mypetlife.co.kr/?post_type=pauple_helpie#038;p=8078\n"
     ]
    },
    {
     "name": "stderr",
     "output_type": "stream",
     "text": [
      "📄 기사 수집 중:  94%|█████████▍| 1197/1270 [13:35<00:55,  1.31it/s]"
     ]
    },
    {
     "name": "stdout",
     "output_type": "stream",
     "text": [
      "❌ 본문을 찾을 수 없음: https://mypetlife.co.kr/?post_type=pauple_helpie#038;p=8054\n"
     ]
    },
    {
     "name": "stderr",
     "output_type": "stream",
     "text": [
      "📄 기사 수집 중:  96%|█████████▌| 1213/1270 [13:46<00:40,  1.41it/s]"
     ]
    },
    {
     "name": "stdout",
     "output_type": "stream",
     "text": [
      "❌ 본문을 찾을 수 없음: https://mypetlife.co.kr/?post_type=doglibrary#038;p=6751\n"
     ]
    },
    {
     "name": "stderr",
     "output_type": "stream",
     "text": [
      "📄 기사 수집 중: 100%|██████████| 1270/1270 [14:23<00:00,  1.47it/s]\n"
     ]
    },
    {
     "name": "stdout",
     "output_type": "stream",
     "text": [
      "\n",
      "✅ 총 1114개 기사 저장 완료 → mypet_all_articles.json\n"
     ]
    }
   ],
   "source": [
    "import json\n",
    "import time\n",
    "import requests\n",
    "from bs4 import BeautifulSoup\n",
    "from tqdm import tqdm\n",
    "\n",
    "\n",
    "def parse_mypetlife_article(url):\n",
    "    try:\n",
    "        res = requests.get(url, timeout=10)\n",
    "        soup = BeautifulSoup(res.text, 'html.parser')\n",
    "\n",
    "        # 제목\n",
    "        title_tag = soup.find(\"h1\", class_=\"entry-title\")\n",
    "        title = title_tag.get_text(strip=True) if title_tag else \"제목 없음\"\n",
    "\n",
    "        # 태그\n",
    "        tag_div = soup.select_one(\".post-bottom-tags .tagcloud\")\n",
    "        tags = [a.get_text(strip=True) for a in tag_div.find_all(\"a\")] if tag_div else []\n",
    "\n",
    "        # 본문\n",
    "        content_blocks = []\n",
    "        content_div = soup.find(\"div\", class_=\"entry-content\")\n",
    "        if not content_div:\n",
    "            print(f\"❌ 본문을 찾을 수 없음: {url}\")\n",
    "            return None\n",
    "\n",
    "        for elem in content_div.find_all(recursive=True):\n",
    "            tag = elem.name\n",
    "            if tag not in {\"p\", \"h2\", \"h3\", \"h4\", \"ul\", \"ol\", \"figure\"}:\n",
    "                continue\n",
    "            if elem.get(\"class\") and any(\"ads\" in cls or \"google\" in cls or \"stream\" in cls for cls in elem.get(\"class\")):\n",
    "                continue\n",
    "            if elem.find(\"iframe\") or elem.find(\"noscript\"):\n",
    "                continue\n",
    "\n",
    "            text = elem.get_text(strip=True)\n",
    "\n",
    "            if tag == \"p\" and text:\n",
    "                content_blocks.append({\"type\": \"paragraph\", \"text\": text})\n",
    "            elif tag == \"h2\":\n",
    "                content_blocks.append({\"type\": \"heading\", \"text\": text})\n",
    "            elif tag in [\"h3\", \"h4\"]:\n",
    "                if \"✔️\" in text or \"팁\" in text:\n",
    "                    content_blocks.append({\"type\": \"tip_heading\", \"text\": text})\n",
    "                else:\n",
    "                    content_blocks.append({\"type\": \"subheading\", \"text\": text})\n",
    "            elif tag in [\"ul\", \"ol\"]:\n",
    "                items = [li.get_text(strip=True) for li in elem.find_all(\"li\") if li.get_text(strip=True)]\n",
    "                if items:\n",
    "                    content_blocks.append({\"type\": \"list\", \"items\": items})\n",
    "            elif tag == \"figure\":\n",
    "                img = elem.find(\"img\")\n",
    "                if img and img.get(\"src\") and not img[\"src\"].startswith(\"data:image/svg+xml\"):\n",
    "                    content_blocks.append({\"type\": \"image\", \"url\": img[\"src\"]})\n",
    "\n",
    "        return {\n",
    "            \"url\": url,\n",
    "            \"title\": title,\n",
    "            \"tags\": tags,\n",
    "            \"content\": content_blocks\n",
    "        }\n",
    "\n",
    "    except Exception as e:\n",
    "        print(f\"❌ 요청 실패: {url} → {e}\")\n",
    "        return None\n",
    "\n",
    "\n",
    "# ✅ 전체 URL 리스트 불러오기 및 크롤링 실행\n",
    "if __name__ == \"__main__\":\n",
    "    with open(\"mypet_all_urls.json\", \"r\", encoding=\"utf-8\") as f:\n",
    "        urls = json.load(f)\n",
    "\n",
    "    all_articles = []\n",
    "\n",
    "    for url in tqdm(urls, desc=\"📄 기사 수집 중\"):\n",
    "        result = parse_mypetlife_article(url)\n",
    "        if result:\n",
    "            all_articles.append(result)\n",
    "        time.sleep(0.5)  # 서버에 부하 주지 않기 위한 대기\n",
    "\n",
    "    # ✅ 전체 결과 저장\n",
    "    with open(\"mypet_all_articles.json\", \"w\", encoding=\"utf-8\") as f:\n",
    "        json.dump(all_articles, f, ensure_ascii=False, indent=2)\n",
    "\n",
    "    print(f\"\\n✅ 총 {len(all_articles)}개 기사 저장 완료 → mypet_all_articles.json\")\n",
    "\n"
   ]
  },
  {
   "cell_type": "markdown",
   "id": "be19f2a3",
   "metadata": {},
   "source": [
    "### 이미지 url 수집"
   ]
  },
  {
   "cell_type": "code",
   "execution_count": 36,
   "id": "ec122988",
   "metadata": {},
   "outputs": [
    {
     "name": "stderr",
     "output_type": "stream",
     "text": [
      "🖼️ 대표 이미지 수집 중: 100%|██████████| 3/3 [00:01<00:00,  2.89it/s]"
     ]
    },
    {
     "name": "stdout",
     "output_type": "stream",
     "text": [
      "✅ 테스트 이미지 URL 수집 완료 → mypet_image_urls_test.json\n"
     ]
    },
    {
     "name": "stderr",
     "output_type": "stream",
     "text": [
      "\n"
     ]
    }
   ],
   "source": [
    "import json\n",
    "import requests\n",
    "from bs4 import BeautifulSoup\n",
    "from tqdm import tqdm\n",
    "\n",
    "# ✅ 1. URL 목록 불러오기 (앞 3개만 테스트용)\n",
    "with open(\"mypet_all_urls.json\", \"r\", encoding=\"utf-8\") as f:\n",
    "    url_list = json.load(f)\n",
    "\n",
    "test_urls = url_list[:3]  # 테스트용 3개\n",
    "\n",
    "# ✅ 2. 각 URL에서 대표 이미지(og:image)만 추출\n",
    "def get_image_url_from_meta(url):\n",
    "    try:\n",
    "        res = requests.get(url, timeout=5)\n",
    "        soup = BeautifulSoup(res.text, \"html.parser\")\n",
    "        meta_img = soup.find(\"meta\", property=\"og:image\")\n",
    "        return meta_img[\"content\"] if meta_img else None\n",
    "    except Exception as e:\n",
    "        print(f\"❌ 실패: {url} → {e}\")\n",
    "        return None\n",
    "\n",
    "# ✅ 3. 결과 수집\n",
    "results = []\n",
    "for url in tqdm(test_urls, desc=\"🖼️ 대표 이미지 수집 중\"):\n",
    "    image_url = get_image_url_from_meta(url)\n",
    "    results.append({\n",
    "        \"url\": url,\n",
    "        \"image_url\": image_url\n",
    "    })\n",
    "\n",
    "# ✅ 4. JSON 파일로 저장 (선택 사항)\n",
    "with open(\"mypet_image_urls_test.json\", \"w\", encoding=\"utf-8\") as f:\n",
    "    json.dump(results, f, ensure_ascii=False, indent=2)\n",
    "\n",
    "print(\"✅ 테스트 이미지 URL 수집 완료 → mypet_image_urls_test.json\")\n"
   ]
  },
  {
   "cell_type": "code",
   "execution_count": 37,
   "id": "6a92c7c3",
   "metadata": {},
   "outputs": [
    {
     "name": "stderr",
     "output_type": "stream",
     "text": [
      "🖼️ 전체 대표 이미지 수집 중: 100%|██████████| 1270/1270 [03:47<00:00,  5.59it/s]"
     ]
    },
    {
     "name": "stdout",
     "output_type": "stream",
     "text": [
      "\n",
      "✅ 총 1270개 결과 저장 완료 → mypet_all_urls_with_image.json\n"
     ]
    },
    {
     "name": "stderr",
     "output_type": "stream",
     "text": [
      "\n"
     ]
    }
   ],
   "source": [
    "import json\n",
    "import requests\n",
    "from bs4 import BeautifulSoup\n",
    "from tqdm import tqdm\n",
    "\n",
    "# ✅ 1. 모든 URL 불러오기\n",
    "with open(\"mypet_all_urls.json\", \"r\", encoding=\"utf-8\") as f:\n",
    "    url_list = json.load(f)\n",
    "\n",
    "# ✅ 2. 이미지 추출 함수 정의\n",
    "def get_image_url_from_meta(url):\n",
    "    try:\n",
    "        res = requests.get(url, timeout=5)\n",
    "        if res.status_code != 200:\n",
    "            return None\n",
    "        soup = BeautifulSoup(res.text, \"html.parser\")\n",
    "        meta_img = soup.find(\"meta\", property=\"og:image\")\n",
    "        return meta_img[\"content\"] if meta_img else None\n",
    "    except Exception as e:\n",
    "        print(f\"❌ 실패: {url} → {e}\")\n",
    "        return None\n",
    "\n",
    "# ✅ 3. 전체 결과 수집\n",
    "results = []\n",
    "for url in tqdm(url_list, desc=\"🖼️ 전체 대표 이미지 수집 중\"):\n",
    "    image_url = get_image_url_from_meta(url)\n",
    "    results.append({\n",
    "        \"url\": url,\n",
    "        \"image_url\": image_url\n",
    "    })\n",
    "\n",
    "# ✅ 4. 결과 저장\n",
    "with open(\"mypet_all_urls_with_image.json\", \"w\", encoding=\"utf-8\") as f:\n",
    "    json.dump(results, f, ensure_ascii=False, indent=2)\n",
    "\n",
    "print(f\"\\n✅ 총 {len(results)}개 결과 저장 완료 → mypet_all_urls_with_image.json\")\n"
   ]
  },
  {
   "cell_type": "code",
   "execution_count": 38,
   "id": "248829a8",
   "metadata": {},
   "outputs": [
    {
     "name": "stdout",
     "output_type": "stream",
     "text": [
      "✅ 병합 완료 → mypet_all_articles_with_image.json 저장됨\n"
     ]
    }
   ],
   "source": [
    "import json\n",
    "\n",
    "# ✅ 1. 이미지 URL 정보 로드\n",
    "with open(\"mypet_all_urls_with_image.json\", \"r\", encoding=\"utf-8\") as f:\n",
    "    url_with_image = json.load(f)\n",
    "\n",
    "# ✅ 2. 기사 본문 정보 로드\n",
    "with open(\"11_mypet_all_articles.json\", \"r\", encoding=\"utf-8\") as f:\n",
    "    articles = json.load(f)\n",
    "\n",
    "# ✅ 3. URL → image_url 매핑 딕셔너리 생성\n",
    "image_dict = {entry[\"url\"]: entry[\"image_url\"] for entry in url_with_image}\n",
    "\n",
    "# ✅ 4. 각 기사에 image_url 붙이기\n",
    "for article in articles:\n",
    "    url = article[\"url\"]\n",
    "    article[\"image_url\"] = image_dict.get(url, \"\")\n",
    "\n",
    "# ✅ 5. 결과 저장\n",
    "with open(\"mypet_all_articles_with_image.json\", \"w\", encoding=\"utf-8\") as f:\n",
    "    json.dump(articles, f, ensure_ascii=False, indent=2)\n",
    "\n",
    "print(\"✅ 병합 완료 → mypet_all_articles_with_image.json 저장됨\")\n"
   ]
  },
  {
   "cell_type": "code",
   "execution_count": null,
   "id": "623790a6",
   "metadata": {},
   "outputs": [],
   "source": []
  }
 ],
 "metadata": {
  "kernelspec": {
   "display_name": "Python 3",
   "language": "python",
   "name": "python3"
  },
  "language_info": {
   "codemirror_mode": {
    "name": "ipython",
    "version": 3
   },
   "file_extension": ".py",
   "mimetype": "text/x-python",
   "name": "python",
   "nbconvert_exporter": "python",
   "pygments_lexer": "ipython3",
   "version": "3.12.9"
  }
 },
 "nbformat": 4,
 "nbformat_minor": 5
}
