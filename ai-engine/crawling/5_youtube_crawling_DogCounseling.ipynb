{
 "cells": [
  {
   "cell_type": "markdown",
   "id": "e7842609",
   "metadata": {},
   "source": [
    "# youtube (댕쪽이 상담소) 크롤링 코드"
   ]
  },
  {
   "cell_type": "markdown",
   "id": "c8faeed2",
   "metadata": {},
   "source": [
    "유투브 링크 txt로 저장 -> txt에서 링크 하나씩 제목,이미지,자막 수집"
   ]
  },
  {
   "cell_type": "markdown",
   "id": "df961f5a",
   "metadata": {},
   "source": [
    "## 0. 라이브러리 임포트"
   ]
  },
  {
   "cell_type": "code",
   "execution_count": 4,
   "id": "0c99aa8e",
   "metadata": {},
   "outputs": [],
   "source": [
    "from selenium import webdriver\n",
    "from selenium.webdriver.chrome.service import Service\n",
    "from selenium.webdriver.chrome.options import Options\n",
    "from selenium.webdriver.common.by import By\n",
    "from selenium.webdriver.common.keys import Keys\n",
    "import time"
   ]
  },
  {
   "cell_type": "markdown",
   "id": "303f0f0d",
   "metadata": {},
   "source": [
    "## 1. 유투브 url 수집"
   ]
  },
  {
   "cell_type": "code",
   "execution_count": null,
   "id": "5c626ce9",
   "metadata": {},
   "outputs": [
    {
     "name": "stdout",
     "output_type": "stream",
     "text": [
      "✅ 영상 수: 67\n",
      "🎬 “이사 후 분리불안, 2주간 출근도 못한 보호자의 이야기” | 강아지 문제 행동교정 | 댕쪽이상담소\n",
      "🔗 https://www.youtube.com/watch?v=xEPaTtcysoM\n",
      "🎬 “외출이 불가능해요…” 분리불안에 사람까지 무는 파양견 이야기 | 강아지 문제 행동교정 | 댕쪽이상담소\n",
      "🔗 https://www.youtube.com/watch?v=5UJ9dULd2Tc\n",
      "🎬 [고민상담소]”잠도 못자고 너무 힘들어요..”몸이 불편한 구독자님의 절박한 요청에 직접 해결하러 나섰습니다\n",
      "🔗 https://www.youtube.com/watch?v=MDLfhtfHEXw\n",
      "🎬 퇴근 후 오랜만에 삼겹살~🥓의 하이라이트(0:00 ~ 4:40)\n",
      "🔗 https://www.youtube.com/watch?v=LTCNHuiK_vQ\n",
      "🎬 \"엄마랑 산책 안 간다고!!\" 끝까지 버티는 “줄다리기왕” 36kg 풍산 믹스 | 강아지 문제 행동교정 | 댕쪽이상담소\n",
      "🔗 https://www.youtube.com/watch?v=2wE460rf2Bk\n",
      "🎬 산책 시 다른 강아지만 보면 폭주하는 “폭주왕” 페키니즈 | 강아지 문제 행동교정 | 댕쪽이상담소\n",
      "🔗 https://www.youtube.com/watch?v=cRKgJBNfMMY\n",
      "🎬 유기견 보호소에서 안락사 직전 입양 됐지만 사람이 무서워 변까지 지리는 “찌질왕” 믹스견 | 강아지 문제 행동교정 | 댕쪽이상담소\n",
      "🔗 https://www.youtube.com/watch?v=qD9GqhVFITU\n",
      "🎬 사람 아이처럼 키워져서 결국 독립을 못한 \"불안왕\" 푸들 | 강아지 문제 행동교정 | 댕쪽이상담소\n",
      "🔗 https://www.youtube.com/watch?v=4rgd2m3O1MU\n",
      "🎬 짖음으로 인한 층간소음으로 민원을 받게 만든 “고음왕” 셔틀랜드 쉽독 | 강아지 문제 행동교정 | 댕쪽이상담소\n",
      "🔗 https://www.youtube.com/watch?v=gk3w9z2i588\n",
      "🎬 평생 훈육 없이 자라 제멋대로인 “알빠왕” 믹스 | 강아지 문제 행동교정 | 댕쪽이상담소\n",
      "🔗 https://www.youtube.com/watch?v=1JomO2oO19Q&pp=0gcJCYUJAYcqIYzv\n",
      "🎬 저에 대한 기사와 논란에 대해 솔직하게 이야기 해보겠습니다\n",
      "🔗 https://www.youtube.com/watch?v=U3wr1TXsScI\n",
      "🎬 사람처럼 안아주고 달래줘서 버릇이 나빠진 “생떼왕” 포메라니안 | 강아지 문제 행동교정 | 댕쪽이상담소\n",
      "🔗 https://www.youtube.com/watch?v=1scsKDZFdSM\n",
      "🎬 가게에 손님오면 끊임없이 짖는 “관종왕” 포메라니안 | 강아지 문제 행동교정 | 댕쪽이상담소\n",
      "🔗 https://www.youtube.com/watch?v=gqzoYWGCVJ8\n",
      "🎬 성질 사납고 맘에 안들면 물어버리는 “승질왕” 말티즈 | 강아지 문제 행동교정 | 댕쪽이상담소\n",
      "🔗 https://www.youtube.com/watch?v=ZzGs4LpYx-U\n",
      "🎬 부모님의 살점을 물어뜯어서 병원 치료까지 받게 만든 “촉법왕” 진도믹스 | 강아지 문제 행동교정 | 댕쪽이상담소\n",
      "🔗 https://www.youtube.com/watch?v=FH8ET07BJR8\n",
      "🎬 집에서 시도때도 없이 짖는 “상전왕” 말티즈 | 강아지 문제 행동교정 | 댕쪽이상담소\n",
      "🔗 https://www.youtube.com/watch?v=vhrYZ2ililQ&pp=0gcJCYUJAYcqIYzv\n",
      "🎬 옷 벗을 때 몸부림 치는 “난리왕” 푸들 | 강아지 문제 행동교정 | 댕쪽이상담소\n",
      "🔗 https://www.youtube.com/watch?v=E9S1cM6OokU\n",
      "🎬 혼자 집에 있기 싫다고 주인을 집에 꽁꽁 묶어버린 “인질왕” 푸들 | 강아지 문제 행동교정 | 댕쪽이상담소\n",
      "🔗 https://www.youtube.com/watch?v=nBZkgKd2WIY&pp=0gcJCYUJAYcqIYzv\n",
      "🎬 움직이는 모든 것에 반응하고 돌진하는 ”고추왕“ 미니핀 | 강아지 문제 행동교정 | 댕쪽이상담소\n",
      "🔗 https://www.youtube.com/watch?v=cGyMQMKa8sc\n",
      "🎬 통제하려고 하면 가족도 물어버리는 “입뽕왕” 진도믹스 | 강아지 문제 행동교정 | 댕쪽이상담소\n",
      "🔗 https://www.youtube.com/watch?v=-FxBzCBxA_o\n",
      "🎬 8년동안 마음대로 짖고 마음대로 물면서 살아온 ”어쩔왕“ 폼피츠 | 강아지 문제 행동교정 | 댕쪽이상담소\n",
      "🔗 https://www.youtube.com/watch?v=mgxedEGDYj0\n",
      "🎬 엄마가 마음을 몰라줘서 스스로 무섭게 돌변해버린 “헐크왕” 진도믹스 | 강아지 문제 행동교정 | 댕쪽이상담소\n",
      "🔗 https://www.youtube.com/watch?v=vHyoV6lGxwA\n",
      "🎬 [AS 왔습니다] 피터지게 싸우던 역대급 “싸움왕” 페키니즈 다시 참교육하러 갔습니다 | 강아지 문제 행동교정 | 댕쪽이상담소\n",
      "🔗 https://www.youtube.com/watch?v=zKN9NT9yxJk\n",
      "🎬 [무료 솔루션] 보호자님을 제외한 다른 사람에게 부정적이고 경계심이 심한 “애증왕” 푸들 최종편 | 강아지 문제 행동교정 | 댕쪽이상담소\n",
      "🔗 https://www.youtube.com/watch?v=AQhK9iWRDj8\n",
      "🎬 [무료 솔루션] 보호자님을 제외한 다른 사람에게 부정적이고 경계심이 심한 “애증왕” 푸들 1편 | 강아지 문제 행동교정 | 댕쪽이상담소\n",
      "🔗 https://www.youtube.com/watch?v=G1F-tMEAPBE\n",
      "🎬 악.플.읽.기 1탄 | 어둠의 개통령\n",
      "🔗 https://www.youtube.com/watch?v=VmlFYyh_MVk\n",
      "🎬 [무료 솔루션] 보호자님의 과잉보호로 억울하게 문제견이 된 “억울왕” 진도믹스 최종편 | 강아지 문제 행동교정 | 댕쪽이상담소\n",
      "🔗 https://www.youtube.com/watch?v=bJBVTHlLoFQ\n",
      "🎬 [무료 솔루션] 보호자님의 과잉보호로 억울하게 문제견이 된 “억울왕” 진도믹스 1편 | 강아지 문제 행동교정 | 댕쪽이상담소\n",
      "🔗 https://www.youtube.com/watch?v=QzAr2KiXfz8&pp=0gcJCYUJAYcqIYzv\n",
      "🎬 강아지에게 말을 계속 거는 주인과 주인에게 계속 짖는 “왕왕왕” 포메라니안 문제 행동교정 // 댕쪽이상담소\n",
      "🔗 https://www.youtube.com/watch?v=ZLzgb1irjXw\n",
      "🎬 모든 사람과 오토바이를 보면 짖고 달려드는 ”폭군왕“ 꼬똥 드 툴레아 | 강아지 문제 행동교정 | 댕쪽이상담소\n",
      "🔗 https://www.youtube.com/watch?v=f8EnG2gLm74\n",
      "🎬 시도때도 없이 피터지게 싸우는 역대급 ”싸움왕“ 페키니즈 최종화 | 강아지 문제 행동교정 | 댕쪽이상담소\n",
      "🔗 https://www.youtube.com/watch?v=ub0Hx1V8Onk\n",
      "🎬 시도때도 없이 피터지게 싸우는 역대급 ”싸움왕“ 페키니즈 1화 | 강아지 문제 행동교정 | 댕쪽이상담소\n",
      "🔗 https://www.youtube.com/watch?v=jzdYsl-LpGI\n",
      "🎬 여러분! 새로운 컨텐츠를 기획하고 있습니다! 두둥!\n",
      "🔗 https://www.youtube.com/watch?v=0LppaLvQ1x8\n",
      "🎬 보호자님의 손과 다리를 물어뜯어야 직성이 풀리는 “엄살왕” 시바견 | 강아지 문제 행동교정 | 댕쪽이상담소\n",
      "🔗 https://www.youtube.com/watch?v=VEulECrSTac\n",
      "🎬 문제가 생기면 짖고 으르렁으로 해결하는 “소심왕” 푸들 | 강아지 문제 행동교정 | 댕쪽이상담소\n",
      "🔗 https://www.youtube.com/watch?v=-ZlR0fGs6RQ\n",
      "🎬 집에 사람이 오면 미친듯이 짖는 \"짖음왕\" 말티푸 | 강아지 문제 행동교정 | 댕쪽이상담소\n",
      "🔗 https://www.youtube.com/watch?v=ucyJvLe9vv4\n",
      "🎬 키워주신 은혜도 모르고 웬수 물어뜯듯이 가족을 공격하는 \"폭력왕\" 말티푸 | 강아지 문제 행동교정 | 댕쪽이상담소\n",
      "🔗 https://www.youtube.com/watch?v=UTpNkKok7gA\n",
      "🎬 인생 처음으로 보육원과 유기견 보호소에 200만원 기부했습니다 feat : 실버버튼 언박싱\n",
      "🔗 https://www.youtube.com/watch?v=qx8PTijn9Ew\n",
      "🎬 안고 있을때 누가 만지려고 하면 물어버리는 “짜증왕” 포메라니안 | 강아지 문제 행동교정 | 댕쪽이상담소\n",
      "🔗 https://www.youtube.com/watch?v=HDSDUTaWrn0\n",
      "🎬 친구에게 악령마냥 집착하는 “집착왕“ 프렌치 불독 | 강아지 문제 행동교정 | 댕쪽이상담소\n",
      "🔗 https://www.youtube.com/watch?v=yAXGh9bjkoM\n",
      "🎬 목욕할 때 손만 대면 물어버리는 “입질왕” 말티푸 | 강아지 문제 행동교정 | 댕쪽이상담소\n",
      "🔗 https://www.youtube.com/watch?v=q--8bjoNNi8\n",
      "🎬 가게에 상주하는 “요구왕” 말티즈 최종화 | 강아지 문제 행동교정 | 댕쪽이상담소\n",
      "🔗 https://www.youtube.com/watch?v=VYRW0sOAJBg\n",
      "🎬 가게에 상주하는 “요구왕” 말티즈 문제 행동교정 1화 | 강아지 문제 행동교정 | 댕쪽이상담소\n",
      "🔗 https://www.youtube.com/watch?v=sNT4i2oSF38\n",
      "🎬 강아지 훈련사의 모닝루틴 국내 최초공개 // 댕쪽이상담소\n",
      "🔗 https://www.youtube.com/watch?v=J_-e64qvCcU\n",
      "🎬 10만 구독자 Q&A하는 현시점 가장 핫한 훈련사 (어둠의 개통령) // 댕쪽이상담소\n",
      "🔗 https://www.youtube.com/watch?v=RwYnTUvze9A\n",
      "🎬 아무도 건들지 못하는 “초예민왕” 믹스견 | 강아지 문제 행동교정 | 댕쪽이상담소\n",
      "🔗 https://www.youtube.com/watch?v=D9xe9cZetQE\n",
      "🎬 짖고 짖고 또 짖고 “짖음왕” 포메라니안 | 강아지 문제 행동교정 | 댕쪽이상담소\n",
      "🔗 https://www.youtube.com/watch?v=00WS-Jyy7W4\n",
      "🎬 1년동안 산책을 거부한 “쫄보왕” 진도믹스 | 강아지 문제 행동교정 | 댕쪽이상담소\n",
      "🔗 https://www.youtube.com/watch?v=LdEiNPNUCe8\n",
      "🎬 집에 손님이 오면 무서워서 짖는 강아지. 특히 남성에게 심하다고 합니다.(유튜브판 개는 훌륭하다)\n",
      "🔗 https://www.youtube.com/watch?v=iKiRNDk5kbc\n",
      "🎬 줄을 당기면 버티고 앉아서 산책 불가능. 어쩔 수 없이 안고 산책하신 보호자님. (유튜브판 개는 훌륭하다)\n",
      "🔗 https://www.youtube.com/watch?v=pW1v99qMYvE\n",
      "🎬 7년 동안 아파트 단지 안에서만 산책한 강아지. 보호자님이 단지 밖으로 나가서 산책하는 게 소원이라고 하셨어요.(유튜브판 개는 훌륭하다)\n",
      "🔗 https://www.youtube.com/watch?v=gDRRBeLtSC0\n",
      "🎬 산책할 때 짖는 강아지 훈련 이렇게 해보세요\n",
      "🔗 https://www.youtube.com/watch?v=esxLzRxSnEE\n",
      "🎬 현관 밖으로 나오자마자 뛰는 강아지 훈련 방법\n",
      "🔗 https://www.youtube.com/watch?v=g4oPzVpF41k\n",
      "🎬 자동차에 타지 않으려고 버티는 강아지 훈련 방법\n",
      "🔗 https://www.youtube.com/watch?v=g9kNLofNMpo\n",
      "🎬 새끼 강아지 첫 산책 훈련 방법\n",
      "🔗 https://www.youtube.com/watch?v=_-TuWKkQ0mI\n",
      "🎬 애견카페 “이건” 꼭 알고 가세요\n",
      "🔗 https://www.youtube.com/watch?v=rmDojnL9sIM\n",
      "🎬 산책할 때 줄당김이 심한 강아지 훈련 방법과 반려인이라면 꼭 지켜야 하는 “펫티켓”\n",
      "🔗 https://www.youtube.com/watch?v=0t679FhIWnI\n",
      "🎬 청소기 돌리면 짖고 무는 강아지 훈련 방법 2\n",
      "🔗 https://www.youtube.com/watch?v=dLwPl8kzHrE\n",
      "🎬 청소기 돌리면 짖고 무는 강아지 훈련 방법 1\n",
      "🔗 https://www.youtube.com/watch?v=OIajnt-FjV0\n",
      "🎬 산책할 때 캥거루처럼 두 발로 걷는 강아지 훈련 방법\n",
      "🔗 https://www.youtube.com/watch?v=BirdstK2ou4\n",
      "🎬 어린 아이와 옆집 강아지 소리에 짖고 달려드는 강아지 훈련 방법\n",
      "🔗 https://www.youtube.com/watch?v=UnrCsixIBsI\n",
      "🎬 엘리베이터에서 짖는 강아지 훈련 방법\n",
      "🔗 https://www.youtube.com/watch?v=rVrF6tn-XXQ\n",
      "🎬 산책 할 때 짖는 반려견 대체 뭐가 문제일까?\n",
      "🔗 https://www.youtube.com/watch?v=73ZsNSuvOaM&pp=0gcJCYUJAYcqIYzv\n",
      "🎬 노즈워크 재미있게 해주는 방법\n",
      "🔗 https://www.youtube.com/watch?v=LtTAS3m-vnc\n",
      "🎬 단 한번의 교육훈련으로 보호자와 반려견이 변화 하는 과정\n",
      "🔗 https://www.youtube.com/watch?v=gAb2O-fa3jg&pp=0gcJCYUJAYcqIYzv\n",
      "🎬 어린 강아지 빗질 목을 잡고 하면 쉬워요\n",
      "🔗 https://www.youtube.com/watch?v=S0vNkn4P_AY\n",
      "🎬 짖는 강아지 어떻게 교육 할까?\n",
      "🔗 https://www.youtube.com/watch?v=h8vvOitcxCA\n",
      "\n",
      "✅ 수집 완료! 'all_video_urls.txt'에 저장됨.\n"
     ]
    }
   ],
   "source": [
    "# 1. 크롬 옵션 (창 없이 실행 가능)\n",
    "options = Options()\n",
    "options.add_argument('--headless')  # 창 안 띄우고 실행하려면 주석 해제\n",
    "options.add_argument('--disable-gpu')\n",
    "options.add_argument('--no-sandbox')\n",
    "options.add_argument('--disable-dev-shm-usage')\n",
    "\n",
    "# 2. 드라이버 경로\n",
    "# driver_path = 'chromedriver.exe'\n",
    "# service = Service(executable_path=driver_path)\n",
    "# driver = webdriver.Chrome(service=service, options=options)\n",
    "driver = webdriver.Chrome()\n",
    "# 3. 유튜브 채널 URL 접속\n",
    "channel_url = \"https://www.youtube.com/@%EB%8C%95%EC%AA%BD%EC%9D%B4%EC%83%81%EB%8B%B4%EC%86%8C/videos\"\n",
    "driver.get(channel_url)\n",
    "time.sleep(3)\n",
    "\n",
    "# 4. 스크롤 내려서 더 많은 영상 로드 (선택)\n",
    "SCROLL_PAUSE_TIME = 2\n",
    "last_height = driver.execute_script(\"return document.documentElement.scrollHeight\")\n",
    "\n",
    "for _ in range(5):  # 5번 정도 스크롤 내려서 영상 추가 로드\n",
    "    driver.execute_script(\"window.scrollTo(0, document.documentElement.scrollHeight);\")\n",
    "    time.sleep(SCROLL_PAUSE_TIME)\n",
    "    new_height = driver.execute_script(\"return document.documentElement.scrollHeight\")\n",
    "    if new_height == last_height:\n",
    "        break\n",
    "    last_height = new_height\n",
    "\n",
    "# 5. a 태그에서 video-title-link 수집\n",
    "video_elements = driver.find_elements(By.ID, \"video-title-link\")\n",
    "print(f\"✅ 영상 수: {len(video_elements)}\")\n",
    "\n",
    "video_urls = []\n",
    "\n",
    "for elem in video_elements:\n",
    "    href = elem.get_attribute(\"href\")\n",
    "    title = elem.text.strip()\n",
    "    if href:\n",
    "        video_urls.append(href)\n",
    "        print(f\"🎬 {title}\")\n",
    "        print(f\"🔗 {href}\")\n",
    "\n",
    "# 6. 저장\n",
    "with open(\"all_video_urls.txt\", \"w\", encoding=\"utf-8\") as f:\n",
    "    for url in video_urls:\n",
    "        f.write(url + \"\\n\")\n",
    "\n",
    "print(\"\\n✅ 수집 완료! 'all_video_urls.txt'에 저장됨.\")\n",
    "\n",
    "driver.quit()\n"
   ]
  },
  {
   "cell_type": "code",
   "execution_count": 1,
   "id": "fff0ab7c",
   "metadata": {},
   "outputs": [
    {
     "name": "stdout",
     "output_type": "stream",
     "text": [
      "Collecting youtube-transcript-api\n",
      "  Downloading youtube_transcript_api-1.0.3-py3-none-any.whl.metadata (23 kB)\n",
      "Requirement already satisfied: defusedxml<0.8.0,>=0.7.1 in c:\\users\\playdata\\appdata\\local\\anaconda3\\envs\\pystudy_env\\lib\\site-packages (from youtube-transcript-api) (0.7.1)\n",
      "Requirement already satisfied: requests in c:\\users\\playdata\\appdata\\local\\anaconda3\\envs\\pystudy_env\\lib\\site-packages (from youtube-transcript-api) (2.32.3)\n",
      "Requirement already satisfied: charset-normalizer<4,>=2 in c:\\users\\playdata\\appdata\\local\\anaconda3\\envs\\pystudy_env\\lib\\site-packages (from requests->youtube-transcript-api) (3.4.0)\n",
      "Requirement already satisfied: idna<4,>=2.5 in c:\\users\\playdata\\appdata\\local\\anaconda3\\envs\\pystudy_env\\lib\\site-packages (from requests->youtube-transcript-api) (3.10)\n",
      "Requirement already satisfied: urllib3<3,>=1.21.1 in c:\\users\\playdata\\appdata\\local\\anaconda3\\envs\\pystudy_env\\lib\\site-packages (from requests->youtube-transcript-api) (2.2.3)\n",
      "Requirement already satisfied: certifi>=2017.4.17 in c:\\users\\playdata\\appdata\\local\\anaconda3\\envs\\pystudy_env\\lib\\site-packages (from requests->youtube-transcript-api) (2024.12.14)\n",
      "Downloading youtube_transcript_api-1.0.3-py3-none-any.whl (2.2 MB)\n",
      "   ---------------------------------------- 0.0/2.2 MB ? eta -:--:--\n",
      "   ---------------------------------------- 2.2/2.2 MB 20.5 MB/s eta 0:00:00\n",
      "Installing collected packages: youtube-transcript-api\n",
      "Successfully installed youtube-transcript-api-1.0.3\n",
      "Collecting yt-dlp\n",
      "  Downloading yt_dlp-2025.4.30-py3-none-any.whl.metadata (173 kB)\n",
      "Downloading yt_dlp-2025.4.30-py3-none-any.whl (3.2 MB)\n",
      "   ---------------------------------------- 0.0/3.2 MB ? eta -:--:--\n",
      "   ---------------------------------------- 3.2/3.2 MB 23.8 MB/s eta 0:00:00\n",
      "Installing collected packages: yt-dlp\n",
      "Successfully installed yt-dlp-2025.4.30\n"
     ]
    }
   ],
   "source": [
    "!pip install youtube-transcript-api\n",
    "!pip install yt-dlp"
   ]
  },
  {
   "cell_type": "markdown",
   "id": "7871a519",
   "metadata": {},
   "source": [
    "## 2. csv 파일 생성후 [제목, 내용, 주소, 이미지] 저장"
   ]
  },
  {
   "cell_type": "markdown",
   "id": "37839678",
   "metadata": {},
   "source": [
    "- 접근 불가 영상은 패스"
   ]
  },
  {
   "cell_type": "code",
   "execution_count": 8,
   "id": "174cd2af",
   "metadata": {},
   "outputs": [
    {
     "name": "stdout",
     "output_type": "stream",
     "text": [
      "✅ “이사 후 분리불안, 2주간 출근도 못한 보호자의 이야기” | 강아지 문제 행동교정 | 댕쪽이상담소 저장 완료!\n",
      "✅ “외출이 불가능해요…” 분리불안에 사람까지 무는 파양견 이야기 | 강아지 문제 행동교정 | 댕쪽이상담소 저장 완료!\n",
      "✅ [고민상담소]”잠도 못자고 너무 힘들어요..”몸이 불편한 구독자님의 절박한 요청에 직접 해결하러 나섰습니다 저장 완료!\n"
     ]
    },
    {
     "name": "stderr",
     "output_type": "stream",
     "text": [
      "ERROR: [youtube] LTCNHuiK_vQ: Join this channel to get access to members-only content like this video, and other exclusive perks.\n"
     ]
    },
    {
     "name": "stdout",
     "output_type": "stream",
     "text": [
      "⚠️ https://www.youtube.com/watch?v=LTCNHuiK_vQ 처리 실패: ERROR: [youtube] LTCNHuiK_vQ: Join this channel to get access to members-only content like this video, and other exclusive perks.\n",
      "✅ \"엄마랑 산책 안 간다고!!\" 끝까지 버티는 “줄다리기왕” 36kg 풍산 믹스 | 강아지 문제 행동교정 | 댕쪽이상담소 저장 완료!\n",
      "✅ 산책 시 다른 강아지만 보면 폭주하는 “폭주왕” 페키니즈 | 강아지 문제 행동교정 | 댕쪽이상담소 저장 완료!\n",
      "✅ 유기견 보호소에서 안락사 직전 입양 됐지만 사람이 무서워 변까지 지리는 “찌질왕” 믹스견 | 강아지 문제 행동교정 | 댕쪽이상담소 저장 완료!\n",
      "✅ 사람 아이처럼 키워져서 결국 독립을 못한 \"불안왕\" 푸들 | 강아지 문제 행동교정 | 댕쪽이상담소 저장 완료!\n",
      "✅ 짖음으로 인한 층간소음으로 민원을 받게 만든 “고음왕” 셔틀랜드 쉽독 | 강아지 문제 행동교정 | 댕쪽이상담소 저장 완료!\n",
      "✅ 평생 훈육 없이 자라 제멋대로인 “알빠왕” 믹스 | 강아지 문제 행동교정 | 댕쪽이상담소 저장 완료!\n",
      "✅ 저에 대한 기사와 논란에 대해 솔직하게 이야기 해보겠습니다 저장 완료!\n",
      "✅ 사람처럼 안아주고 달래줘서 버릇이 나빠진 “생떼왕” 포메라니안 | 강아지 문제 행동교정 | 댕쪽이상담소 저장 완료!\n",
      "✅ 가게에 손님오면 끊임없이 짖는 “관종왕” 포메라니안 | 강아지 문제 행동교정 | 댕쪽이상담소 저장 완료!\n",
      "✅ 성질 사납고 맘에 안들면 물어버리는 “승질왕” 말티즈 | 강아지 문제 행동교정 | 댕쪽이상담소 저장 완료!\n"
     ]
    },
    {
     "name": "stderr",
     "output_type": "stream",
     "text": [
      "ERROR: [youtube] FH8ET07BJR8: This video is available to this channel's members on level: 댕밀리 (or any higher level). Join this channel to get access to members-only content and other exclusive perks.\n"
     ]
    },
    {
     "name": "stdout",
     "output_type": "stream",
     "text": [
      "⚠️ https://www.youtube.com/watch?v=FH8ET07BJR8 처리 실패: ERROR: [youtube] FH8ET07BJR8: This video is available to this channel's members on level: 댕밀리 (or any higher level). Join this channel to get access to members-only content and other exclusive perks.\n",
      "✅ 집에서 시도때도 없이 짖는 “상전왕” 말티즈 | 강아지 문제 행동교정 | 댕쪽이상담소 저장 완료!\n",
      "✅ 옷 벗을 때 몸부림 치는 “난리왕” 푸들 | 강아지 문제 행동교정 | 댕쪽이상담소 저장 완료!\n",
      "✅ 혼자 집에 있기 싫다고 주인을 집에 꽁꽁 묶어버린 “인질왕” 푸들 | 강아지 문제 행동교정 | 댕쪽이상담소 저장 완료!\n",
      "✅ 움직이는 모든 것에 반응하고 돌진하는 ”고추왕“ 미니핀 | 강아지 문제 행동교정 | 댕쪽이상담소 저장 완료!\n",
      "✅ 통제하려고 하면 가족도 물어버리는 “입뽕왕” 진도믹스 | 강아지 문제 행동교정 | 댕쪽이상담소 저장 완료!\n",
      "✅ 8년동안 마음대로 짖고 마음대로 물면서 살아온 ”어쩔왕“ 폼피츠 | 강아지 문제 행동교정 | 댕쪽이상담소 저장 완료!\n",
      "✅ 엄마가 마음을 몰라줘서 스스로 무섭게 돌변해버린 “헐크왕” 진도믹스 | 강아지 문제 행동교정 | 댕쪽이상담소 저장 완료!\n",
      "✅ [AS 왔습니다] 피터지게 싸우던 역대급 “싸움왕” 페키니즈 다시 참교육하러 갔습니다 | 강아지 문제 행동교정 | 댕쪽이상담소 저장 완료!\n",
      "✅ [무료 솔루션] 보호자님을 제외한 다른 사람에게 부정적이고 경계심이 심한 “애증왕” 푸들 최종편 | 강아지 문제 행동교정 | 댕쪽이상담소 저장 완료!\n",
      "✅ [무료 솔루션] 보호자님을 제외한 다른 사람에게 부정적이고 경계심이 심한 “애증왕” 푸들 1편 | 강아지 문제 행동교정 | 댕쪽이상담소 저장 완료!\n",
      "✅ 악.플.읽.기 1탄 | 어둠의 개통령 저장 완료!\n",
      "✅ [무료 솔루션] 보호자님의 과잉보호로 억울하게 문제견이 된 “억울왕” 진도믹스 최종편 | 강아지 문제 행동교정 | 댕쪽이상담소 저장 완료!\n",
      "✅ [무료 솔루션] 보호자님의 과잉보호로 억울하게 문제견이 된 “억울왕” 진도믹스 1편 | 강아지 문제 행동교정 | 댕쪽이상담소 저장 완료!\n",
      "✅ 강아지에게 말을 계속 거는 주인과 주인에게 계속 짖는 “왕왕왕” 포메라니안 문제 행동교정 // 댕쪽이상담소 저장 완료!\n",
      "✅ 모든 사람과 오토바이를 보면 짖고 달려드는 ”폭군왕“ 꼬똥 드 툴레아 | 강아지 문제 행동교정 | 댕쪽이상담소 저장 완료!\n"
     ]
    },
    {
     "name": "stderr",
     "output_type": "stream",
     "text": [
      "ERROR: [youtube] ub0Hx1V8Onk: Join this channel to get access to members-only content like this video, and other exclusive perks.\n"
     ]
    },
    {
     "name": "stdout",
     "output_type": "stream",
     "text": [
      "⚠️ https://www.youtube.com/watch?v=ub0Hx1V8Onk 처리 실패: ERROR: [youtube] ub0Hx1V8Onk: Join this channel to get access to members-only content like this video, and other exclusive perks.\n",
      "⚠️ https://www.youtube.com/watch?v=jzdYsl-LpGI 처리 실패: no element found: line 1, column 0\n"
     ]
    },
    {
     "name": "stderr",
     "output_type": "stream",
     "text": [
      "ERROR: [youtube] 0LppaLvQ1x8: Join this channel to get access to members-only content like this video, and other exclusive perks.\n"
     ]
    },
    {
     "name": "stdout",
     "output_type": "stream",
     "text": [
      "⚠️ https://www.youtube.com/watch?v=0LppaLvQ1x8 처리 실패: ERROR: [youtube] 0LppaLvQ1x8: Join this channel to get access to members-only content like this video, and other exclusive perks.\n",
      "✅ 보호자님의 손과 다리를 물어뜯어야 직성이 풀리는 “엄살왕” 시바견 | 강아지 문제 행동교정 | 댕쪽이상담소 저장 완료!\n",
      "⚠️ https://www.youtube.com/watch?v=-ZlR0fGs6RQ 처리 실패: no element found: line 1, column 0\n",
      "✅ 집에 사람이 오면 미친듯이 짖는 \"짖음왕\" 말티푸 | 강아지 문제 행동교정 | 댕쪽이상담소 저장 완료!\n",
      "✅ 키워주신 은혜도 모르고 웬수 물어뜯듯이 가족을 공격하는 \"폭력왕\" 말티푸 | 강아지 문제 행동교정 | 댕쪽이상담소 저장 완료!\n",
      "✅ 인생 처음으로 보육원과 유기견 보호소에 200만원 기부했습니다 feat : 실버버튼 언박싱 저장 완료!\n",
      "✅ 안고 있을때 누가 만지려고 하면 물어버리는 “짜증왕” 포메라니안 | 강아지 문제 행동교정 | 댕쪽이상담소 저장 완료!\n",
      "✅ 친구에게 악령마냥 집착하는 “집착왕“ 프렌치 불독 | 강아지 문제 행동교정 | 댕쪽이상담소 저장 완료!\n",
      "✅ 목욕할 때 손만 대면 물어버리는 “입질왕” 말티푸 | 강아지 문제 행동교정 | 댕쪽이상담소 저장 완료!\n",
      "✅ 가게에 상주하는 “요구왕” 말티즈 최종화 | 강아지 문제 행동교정 | 댕쪽이상담소 저장 완료!\n",
      "✅ 가게에 상주하는 “요구왕” 말티즈 문제 행동교정 1화 | 강아지 문제 행동교정 | 댕쪽이상담소 저장 완료!\n",
      "✅ 강아지 훈련사의 모닝루틴 국내 최초공개 // 댕쪽이상담소 저장 완료!\n",
      "✅ 10만 구독자 Q&A하는 현시점 가장 핫한 훈련사 (어둠의 개통령) // 댕쪽이상담소 저장 완료!\n",
      "⚠️ https://www.youtube.com/watch?v=D9xe9cZetQE 처리 실패: no element found: line 1, column 0\n",
      "✅ 짖고 짖고 또 짖고 “짖음왕” 포메라니안 | 강아지 문제 행동교정 | 댕쪽이상담소 저장 완료!\n"
     ]
    },
    {
     "name": "stderr",
     "output_type": "stream",
     "text": [
      "ERROR: [youtube] LdEiNPNUCe8: Join this channel to get access to members-only content like this video, and other exclusive perks.\n"
     ]
    },
    {
     "name": "stdout",
     "output_type": "stream",
     "text": [
      "⚠️ https://www.youtube.com/watch?v=LdEiNPNUCe8 처리 실패: ERROR: [youtube] LdEiNPNUCe8: Join this channel to get access to members-only content like this video, and other exclusive perks.\n",
      "✅ 집에 손님이 오면 무서워서 짖는 강아지. 특히 남성에게 심하다고 합니다.(유튜브판 개는 훌륭하다) 저장 완료!\n",
      "✅ 줄을 당기면 버티고 앉아서 산책 불가능. 어쩔 수 없이 안고 산책하신 보호자님. (유튜브판 개는 훌륭하다) 저장 완료!\n",
      "✅ 7년 동안 아파트 단지 안에서만 산책한 강아지. 보호자님이 단지 밖으로 나가서 산책하는 게 소원이라고 하셨어요.(유튜브판 개는 훌륭하다) 저장 완료!\n"
     ]
    },
    {
     "name": "stderr",
     "output_type": "stream",
     "text": [
      "ERROR: [youtube] esxLzRxSnEE: This video is available to this channel's members on level: 댕밀리 (or any higher level). Join this channel to get access to members-only content and other exclusive perks.\n"
     ]
    },
    {
     "name": "stdout",
     "output_type": "stream",
     "text": [
      "⚠️ https://www.youtube.com/watch?v=esxLzRxSnEE 처리 실패: ERROR: [youtube] esxLzRxSnEE: This video is available to this channel's members on level: 댕밀리 (or any higher level). Join this channel to get access to members-only content and other exclusive perks.\n",
      "⚠️ https://www.youtube.com/watch?v=g4oPzVpF41k 처리 실패: no element found: line 1, column 0\n",
      "✅ 자동차에 타지 않으려고 버티는 강아지 훈련 방법 저장 완료!\n",
      "⚠️ https://www.youtube.com/watch?v=_-TuWKkQ0mI 처리 실패: no element found: line 1, column 0\n",
      "✅ 애견카페 “이건” 꼭 알고 가세요 저장 완료!\n",
      "✅ 산책할 때 줄당김이 심한 강아지 훈련 방법과 반려인이라면 꼭 지켜야 하는 “펫티켓” 저장 완료!\n",
      "✅ 청소기 돌리면 짖고 무는 강아지 훈련 방법 2 저장 완료!\n",
      "⚠️ https://www.youtube.com/watch?v=OIajnt-FjV0 처리 실패: no element found: line 1, column 0\n",
      "✅ 산책할 때 캥거루처럼 두 발로 걷는 강아지 훈련 방법 저장 완료!\n",
      "✅ 어린 아이와 옆집 강아지 소리에 짖고 달려드는 강아지 훈련 방법 저장 완료!\n",
      "✅ 엘리베이터에서 짖는 강아지 훈련 방법 저장 완료!\n",
      "✅ 산책 할 때 짖는 반려견 대체 뭐가 문제일까? 저장 완료!\n",
      "✅ 노즈워크 재미있게 해주는 방법 저장 완료!\n",
      "✅ 단 한번의 교육훈련으로 보호자와 반려견이 변화 하는 과정 저장 완료!\n",
      "✅ 어린 강아지 빗질 목을 잡고 하면 쉬워요 저장 완료!\n",
      "✅ 짖는 강아지 어떻게 교육 할까? 저장 완료!\n",
      "📄 모든 유튜브 데이터 저장 완료!\n"
     ]
    }
   ],
   "source": [
    "import yt_dlp\n",
    "import csv\n",
    "from youtube_transcript_api import YouTubeTranscriptApi, TranscriptsDisabled, NoTranscriptFound\n",
    "\n",
    "# 링크 파일 읽기\n",
    "with open('2_all_video_urls.txt', 'r', encoding='utf-8') as f:\n",
    "    video_urls = [line.strip() for line in f if line.strip()]\n",
    "\n",
    "# 결과 저장할 CSV 파일\n",
    "with open('2_youtube_data.csv', 'w', newline='', encoding='utf-8-sig') as csvfile:\n",
    "    writer = csv.writer(csvfile)\n",
    "    writer.writerow(['title', 'content', 'URL', 'image'])  # 헤더\n",
    "\n",
    "    for url in video_urls:\n",
    "        try:\n",
    "            # 영상 ID 추출\n",
    "            video_id = url.split('v=')[-1].split('&')[0]\n",
    "\n",
    "            # yt-dlp로 제목, 썸네일 가져오기\n",
    "            ydl_opts = {\n",
    "                'skip_download': True,\n",
    "                'quiet': True,\n",
    "                'forcejson': True,\n",
    "            }\n",
    "\n",
    "            with yt_dlp.YoutubeDL(ydl_opts) as ydl:\n",
    "                info = ydl.extract_info(url, download=False)\n",
    "\n",
    "            title = info.get('title', '제목 없음')\n",
    "            thumbnail = info.get('thumbnail', f\"https://img.youtube.com/vi/{video_id}/maxresdefault.jpg\")\n",
    "\n",
    "            # 자막 가져오기\n",
    "            try:\n",
    "                transcript = YouTubeTranscriptApi.get_transcript(video_id, languages=['ko', 'en'])\n",
    "                captions = '\\n'.join([item['text'] for item in transcript])\n",
    "            except (TranscriptsDisabled, NoTranscriptFound):\n",
    "                captions = '자막 없음'\n",
    "\n",
    "            # CSV 저장\n",
    "            writer.writerow([title, captions, url, thumbnail])\n",
    "\n",
    "            print(f\"✅ {title} 저장 완료!\")\n",
    "\n",
    "        except Exception as e:\n",
    "            print(f\"⚠️ {url} 처리 실패: {e}\")\n",
    "\n",
    "print(\"📄 모든 유튜브 데이터 저장 완료!\")\n"
   ]
  }
 ],
 "metadata": {
  "kernelspec": {
   "display_name": "pystudy_env",
   "language": "python",
   "name": "python3"
  },
  "language_info": {
   "codemirror_mode": {
    "name": "ipython",
    "version": 3
   },
   "file_extension": ".py",
   "mimetype": "text/x-python",
   "name": "python",
   "nbconvert_exporter": "python",
   "pygments_lexer": "ipython3",
   "version": "3.12.9"
  }
 },
 "nbformat": 4,
 "nbformat_minor": 5
}
