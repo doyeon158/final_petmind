{
 "cells": [
  {
   "cell_type": "markdown",
   "id": "3042d80c",
   "metadata": {},
   "source": [
    "### 6-와요 질의응답 파인튜닝 데이터 전처리"
   ]
  },
  {
   "cell_type": "code",
   "execution_count": 56,
   "id": "4e7709f9",
   "metadata": {},
   "outputs": [
    {
     "data": {
      "text/html": [
       "<div>\n",
       "<style scoped>\n",
       "    .dataframe tbody tr th:only-of-type {\n",
       "        vertical-align: middle;\n",
       "    }\n",
       "\n",
       "    .dataframe tbody tr th {\n",
       "        vertical-align: top;\n",
       "    }\n",
       "\n",
       "    .dataframe thead th {\n",
       "        text-align: right;\n",
       "    }\n",
       "</style>\n",
       "<table border=\"1\" class=\"dataframe\">\n",
       "  <thead>\n",
       "    <tr style=\"text-align: right;\">\n",
       "      <th></th>\n",
       "      <th>url</th>\n",
       "      <th>질문 제목</th>\n",
       "      <th>증상과 행동</th>\n",
       "      <th>시작된 시점</th>\n",
       "      <th>보호자님 반응</th>\n",
       "      <th>원인 분석</th>\n",
       "      <th>솔루션 제안</th>\n",
       "    </tr>\n",
       "  </thead>\n",
       "  <tbody>\n",
       "    <tr>\n",
       "      <th>0</th>\n",
       "      <td>https://wayopet.com/trainer/qna/epilxkb2kmxl7ey5</td>\n",
       "      <td>사료는 안먹는데 똥은 먹어요</td>\n",
       "      <td>사료를 배식해주면 몇시간을 안먹고 공복토도 했는데 그때만 먹고 다음 끼니는 또 안먹...</td>\n",
       "      <td>사료 안먹는건 한달 전\\n식분은 2개월 전</td>\n",
       "      <td>아침 사료는 노즈워크로 전부 세팅 (퇴근하고 오면 다 먹어 놓았습니더)\\n똥은 그냥...</td>\n",
       "      <td>안녕하세요 아리 보호자님 :-) 벌써 6개월이 지난 아리가 되었군요! 이전 6월 1...</td>\n",
       "      <td>사료를 먹지 않는 다는 것은 다른 대체제는 먹고 있다는 것으로 예상이 되는데요, 평...</td>\n",
       "    </tr>\n",
       "    <tr>\n",
       "      <th>1</th>\n",
       "      <td>https://wayopet.com/trainer/qna/7ea4026ojyhi58vm</td>\n",
       "      <td>분리불안과 무는행동</td>\n",
       "      <td>분리불안과 사회성 등 문제가 많아서 훈련소를 한달반 정도 다녀왔습니다.\\n그 후 집...</td>\n",
       "      <td>자고있을때 건들거나 으르렁대기 시작하면 건들면 물어요</td>\n",
       "      <td>피하면서 안돼!라고 합니다</td>\n",
       "      <td>안녕하세요 복댕이 보호자님 :-) 우선 현재 반려견 훈련소에서 훈련을 받고 현재도 ...</td>\n",
       "      <td>우선 말씀하신 것과 같이 자고 있을 때 만지거나 으르렁과 같은 경고 표시를 할 때는...</td>\n",
       "    </tr>\n",
       "    <tr>\n",
       "      <th>2</th>\n",
       "      <td>https://wayopet.com/trainer/qna/abizahcnxqp1ilcg</td>\n",
       "      <td>실내배변에서 실외배변으로...</td>\n",
       "      <td>실내배변에서 실외배변으로 바뀌려고 하는 것 같아요.. 근래에 보호자인 제가 시간적 ...</td>\n",
       "      <td>배변장소를 인식한건 7개월때 성공했고 실외에서 싸려고 참는건 1달정도 넘은 것 같아요..</td>\n",
       "      <td>로랑이 어릴적 뭣모르고 혼내기도 했는데 혼내고 나니 쉬를 안해서 그 뒤로는 아무말 ...</td>\n",
       "      <td>안녕하세요 로랑이 보호자님! :-) 일반적으로 반려견은 자신이 머무르는 공간(실내,...</td>\n",
       "      <td>가장 먼저, 아이가 실내에서 배변을 실수하더라도 혼을 내지 않도록 해주세요. 배변 ...</td>\n",
       "    </tr>\n",
       "    <tr>\n",
       "      <th>3</th>\n",
       "      <td>https://wayopet.com/trainer/qna/tndtsdfij2yrplmy</td>\n",
       "      <td>다른 강아지 똥을 먹어요</td>\n",
       "      <td>혈소판감소증 진단을 받고 스테로이드 약을 먹이기 시작하면서 원래도 식탐왕이엿던 애가...</td>\n",
       "      <td>스테로이드 면역질환 약을 먹기 시작하고부터</td>\n",
       "      <td>혼내지 않앗고 최대한 똥을 싸는대로 바로바로 치우고 배변패드쪽에 홈캠을 옮겨서 항상...</td>\n",
       "      <td>안녕하세요 로또 보호자님 :-) 다른 반려견, 동물의 배설물을 먹는 행위는 우리 사...</td>\n",
       "      <td>지금처럼 혼내지 않고 바로 치워주시는 것은 매우 잘하셨습니다. 아래 내용을 참고해주...</td>\n",
       "    </tr>\n",
       "    <tr>\n",
       "      <th>4</th>\n",
       "      <td>https://wayopet.com/trainer/qna/24ucmgrifnsnm9mn</td>\n",
       "      <td>강아지 두마리 친해지기</td>\n",
       "      <td>새로 온 아이는 8살 추정 여자아이 깜이고 원래 있던 아이는 10살 남자아이 마루입...</td>\n",
       "      <td>깜이가 집에 온 뒤</td>\n",
       "      <td>깜이가 마루를 물려하였을땐 바로 분리시켜 깜이를 자기 집에 가게 하여 깜이를 앉힌 ...</td>\n",
       "      <td>안녕하세요 깜이 보호자님 :) 반려견의 마운팅의 원인은 성적인 의미 외 매우 여러가...</td>\n",
       "      <td>현재 아이의 행동은 타 반려견과의 사회성과 연관 되어 있어 우리 사람이 직접적으로 ...</td>\n",
       "    </tr>\n",
       "  </tbody>\n",
       "</table>\n",
       "</div>"
      ],
      "text/plain": [
       "                                                url             질문 제목  \\\n",
       "0  https://wayopet.com/trainer/qna/epilxkb2kmxl7ey5   사료는 안먹는데 똥은 먹어요   \n",
       "1  https://wayopet.com/trainer/qna/7ea4026ojyhi58vm        분리불안과 무는행동   \n",
       "2  https://wayopet.com/trainer/qna/abizahcnxqp1ilcg  실내배변에서 실외배변으로...   \n",
       "3  https://wayopet.com/trainer/qna/tndtsdfij2yrplmy     다른 강아지 똥을 먹어요   \n",
       "4  https://wayopet.com/trainer/qna/24ucmgrifnsnm9mn      강아지 두마리 친해지기   \n",
       "\n",
       "                                              증상과 행동  \\\n",
       "0  사료를 배식해주면 몇시간을 안먹고 공복토도 했는데 그때만 먹고 다음 끼니는 또 안먹...   \n",
       "1  분리불안과 사회성 등 문제가 많아서 훈련소를 한달반 정도 다녀왔습니다.\\n그 후 집...   \n",
       "2  실내배변에서 실외배변으로 바뀌려고 하는 것 같아요.. 근래에 보호자인 제가 시간적 ...   \n",
       "3  혈소판감소증 진단을 받고 스테로이드 약을 먹이기 시작하면서 원래도 식탐왕이엿던 애가...   \n",
       "4  새로 온 아이는 8살 추정 여자아이 깜이고 원래 있던 아이는 10살 남자아이 마루입...   \n",
       "\n",
       "                                              시작된 시점  \\\n",
       "0                            사료 안먹는건 한달 전\\n식분은 2개월 전   \n",
       "1                      자고있을때 건들거나 으르렁대기 시작하면 건들면 물어요   \n",
       "2  배변장소를 인식한건 7개월때 성공했고 실외에서 싸려고 참는건 1달정도 넘은 것 같아요..   \n",
       "3                            스테로이드 면역질환 약을 먹기 시작하고부터   \n",
       "4                                         깜이가 집에 온 뒤   \n",
       "\n",
       "                                             보호자님 반응  \\\n",
       "0  아침 사료는 노즈워크로 전부 세팅 (퇴근하고 오면 다 먹어 놓았습니더)\\n똥은 그냥...   \n",
       "1                                     피하면서 안돼!라고 합니다   \n",
       "2  로랑이 어릴적 뭣모르고 혼내기도 했는데 혼내고 나니 쉬를 안해서 그 뒤로는 아무말 ...   \n",
       "3  혼내지 않앗고 최대한 똥을 싸는대로 바로바로 치우고 배변패드쪽에 홈캠을 옮겨서 항상...   \n",
       "4  깜이가 마루를 물려하였을땐 바로 분리시켜 깜이를 자기 집에 가게 하여 깜이를 앉힌 ...   \n",
       "\n",
       "                                               원인 분석  \\\n",
       "0  안녕하세요 아리 보호자님 :-) 벌써 6개월이 지난 아리가 되었군요! 이전 6월 1...   \n",
       "1  안녕하세요 복댕이 보호자님 :-) 우선 현재 반려견 훈련소에서 훈련을 받고 현재도 ...   \n",
       "2  안녕하세요 로랑이 보호자님! :-) 일반적으로 반려견은 자신이 머무르는 공간(실내,...   \n",
       "3  안녕하세요 로또 보호자님 :-) 다른 반려견, 동물의 배설물을 먹는 행위는 우리 사...   \n",
       "4  안녕하세요 깜이 보호자님 :) 반려견의 마운팅의 원인은 성적인 의미 외 매우 여러가...   \n",
       "\n",
       "                                              솔루션 제안  \n",
       "0  사료를 먹지 않는 다는 것은 다른 대체제는 먹고 있다는 것으로 예상이 되는데요, 평...  \n",
       "1  우선 말씀하신 것과 같이 자고 있을 때 만지거나 으르렁과 같은 경고 표시를 할 때는...  \n",
       "2  가장 먼저, 아이가 실내에서 배변을 실수하더라도 혼을 내지 않도록 해주세요. 배변 ...  \n",
       "3  지금처럼 혼내지 않고 바로 치워주시는 것은 매우 잘하셨습니다. 아래 내용을 참고해주...  \n",
       "4  현재 아이의 행동은 타 반려견과의 사회성과 연관 되어 있어 우리 사람이 직접적으로 ...  "
      ]
     },
     "execution_count": 56,
     "metadata": {},
     "output_type": "execute_result"
    }
   ],
   "source": [
    "import pandas as pd\n",
    "import numpy as np\n",
    "\n",
    "df = pd.read_json(\"../finetuning_data/6_wayo_qna_data.json\")\n",
    "df.head()"
   ]
  },
  {
   "cell_type": "code",
   "execution_count": 57,
   "id": "50b5799f",
   "metadata": {},
   "outputs": [
    {
     "name": "stdout",
     "output_type": "stream",
     "text": [
      "<class 'pandas.core.frame.DataFrame'>\n",
      "RangeIndex: 2452 entries, 0 to 2451\n",
      "Data columns (total 7 columns):\n",
      " #   Column   Non-Null Count  Dtype \n",
      "---  ------   --------------  ----- \n",
      " 0   url      2452 non-null   object\n",
      " 1   질문 제목    2452 non-null   object\n",
      " 2   증상과 행동   2452 non-null   object\n",
      " 3   시작된 시점   2452 non-null   object\n",
      " 4   보호자님 반응  2452 non-null   object\n",
      " 5   원인 분석    2452 non-null   object\n",
      " 6   솔루션 제안   2452 non-null   object\n",
      "dtypes: object(7)\n",
      "memory usage: 134.2+ KB\n"
     ]
    }
   ],
   "source": [
    "df.info()"
   ]
  },
  {
   "cell_type": "code",
   "execution_count": 58,
   "id": "d59b2014",
   "metadata": {},
   "outputs": [
    {
     "data": {
      "text/plain": [
       "0       안녕하세요 아리 보호자님 :-) 벌써 6개월이 지난 아리가 되었군요! 이전 6월 1...\n",
       "1       안녕하세요 복댕이 보호자님 :-) 우선 현재 반려견 훈련소에서 훈련을 받고 현재도 ...\n",
       "2       안녕하세요 로랑이 보호자님! :-) 일반적으로 반려견은 자신이 머무르는 공간(실내,...\n",
       "3       안녕하세요 로또 보호자님 :-) 다른 반려견, 동물의 배설물을 먹는 행위는 우리 사...\n",
       "4       안녕하세요 깜이 보호자님 :) 반려견의 마운팅의 원인은 성적인 의미 외 매우 여러가...\n",
       "                              ...                        \n",
       "2447    안녕하세요 누누 보호자님! :-) 사람이 없을 때, 잠시 자리를 비웠을 때만 이와 ...\n",
       "2448    안녕하세요 쫑이 보호자님! :-) 쫑이의 프로필 사진을 보면 서로 앉아서 쉬기도 하...\n",
       "2449    안녕하세요 영심이 보호자님! :-) 식분증의 원인은 매우 여러가지인데요! 대표적인 ...\n",
       "2450    안녕하세요 보호자님, 와요 김승이 훈련사 입니다 :)\\n\\n일단 분리불안을 위해서라...\n",
       "2451    안녕하세요 보호자님, 와요 김승이 훈련사 입니다 :)\\n\\n분리불안은 보통 보호자님...\n",
       "Name: 원인 분석, Length: 2452, dtype: object"
      ]
     },
     "execution_count": 58,
     "metadata": {},
     "output_type": "execute_result"
    }
   ],
   "source": [
    "df[\"원인 분석\"]"
   ]
  },
  {
   "cell_type": "code",
   "execution_count": 59,
   "id": "2a2f110a",
   "metadata": {},
   "outputs": [],
   "source": [
    "import re\n",
    "\n",
    "def trim_intro_by_emoticon(text):\n",
    "    if pd.isna(text):\n",
    "        return text\n",
    "    # :-) 또는 :) 기호까지 포함한 앞부분을 모두 제거\n",
    "    return re.sub(r'^.*?:-?\\)\\s*', '', text).strip()\n",
    "\n",
    "df[\"원인 분석\"] = df[\"원인 분석\"].apply(trim_intro_by_emoticon)\n"
   ]
  },
  {
   "cell_type": "code",
   "execution_count": 60,
   "id": "ce4e6b91",
   "metadata": {},
   "outputs": [],
   "source": [
    "def clean_text_all_emojis_removed(text):\n",
    "    if pd.isna(text):\n",
    "        return text\n",
    "\n",
    "    # 2. 텍스트 이모티콘 제거 (:-), ^^, ^_^, --;; 등)\n",
    "    text = re.sub(r'[:;=xX]-?[)DdpP(]', '', text)  # :-) 같은 이모티콘\n",
    "    text = re.sub(r'\\^_?\\^|--+;+?', '', text)      # ^^, --;; 등\n",
    "\n",
    "    # 3. 특수문자 제거 (단, ., , 은 남김)\n",
    "    text = re.sub(r'[^\\w\\sㄱ-ㅎ가-힣.,]', '', text)\n",
    "\n",
    "    return text.strip()\n"
   ]
  },
  {
   "cell_type": "code",
   "execution_count": 61,
   "id": "f7bb44bb",
   "metadata": {},
   "outputs": [],
   "source": [
    "def remove_all_emojis(text):\n",
    "    if pd.isna(text):\n",
    "        return text\n",
    "\n",
    "    # 이모지 포함 가능한 거의 모든 범위 제거\n",
    "    emoji_pattern = re.compile(\n",
    "        \"[\"\n",
    "        u\"\\U0001F600-\\U0001F64F\"  # emoticons\n",
    "        u\"\\U0001F300-\\U0001F5FF\"  # symbols & pictographs\n",
    "        u\"\\U0001F680-\\U0001F6FF\"  # transport & map\n",
    "        u\"\\U0001F1E0-\\U0001F1FF\"  # flags\n",
    "        u\"\\U00002500-\\U00002BEF\"  # Chinese/Japanese/etc. symbols\n",
    "        u\"\\U00002700-\\U000027BF\"  # Dingbats\n",
    "        u\"\\U0001F900-\\U0001F9FF\"  # Supplemental Symbols\n",
    "        u\"\\U0001FA70-\\U0001FAFF\"  # Extended pictographic symbols\n",
    "        u\"\\U0001F000-\\U0001FFFF\"  # 기타 추가 이모지\n",
    "        u\"\\u200d\"                 # zero-width joiner\n",
    "        u\"\\u2640-\\u2642\"          # gender symbols\n",
    "        u\"\\u2600-\\u2B55\"          # 기타 기호\n",
    "        u\"\\u23cf\"                 # eject symbol\n",
    "        u\"\\u23e9\"                 # fast forward\n",
    "        u\"\\u231a\"                 # watch\n",
    "        u\"\\ufe0f\"                 # dingbats variation\n",
    "        u\"\\u3030\"                 # wavy dash\n",
    "        \"]+\", flags=re.UNICODE\n",
    "    )\n",
    "    return emoji_pattern.sub('', text)"
   ]
  },
  {
   "cell_type": "code",
   "execution_count": 63,
   "id": "dac86b8b",
   "metadata": {},
   "outputs": [],
   "source": [
    "df[\"원인 분석\"] = df[\"원인 분석\"].apply(clean_text_all_emojis_removed)\n",
    "df[\"원인 분석\"] = df[\"원인 분석\"].apply(remove_all_emojis)\n",
    "df[\"솔루션 제안\"] = df[\"솔루션 제안\"].apply(clean_text_all_emojis_removed)\n",
    "df[\"솔루션 제안\"] = df[\"솔루션 제안\"].apply(remove_all_emojis)"
   ]
  },
  {
   "cell_type": "code",
   "execution_count": null,
   "id": "82ddbb1e",
   "metadata": {},
   "outputs": [],
   "source": [
    "df.to_json(\"6_wayo_final_data.json\", orient=\"records\", force_ascii=False, indent=2)"
   ]
  },
  {
   "cell_type": "code",
   "execution_count": null,
   "id": "8948c441",
   "metadata": {},
   "outputs": [],
   "source": []
  }
 ],
 "metadata": {
  "kernelspec": {
   "display_name": "new",
   "language": "python",
   "name": "python3"
  },
  "language_info": {
   "codemirror_mode": {
    "name": "ipython",
    "version": 3
   },
   "file_extension": ".py",
   "mimetype": "text/x-python",
   "name": "python",
   "nbconvert_exporter": "python",
   "pygments_lexer": "ipython3",
   "version": "3.12.9"
  }
 },
 "nbformat": 4,
 "nbformat_minor": 5
}
