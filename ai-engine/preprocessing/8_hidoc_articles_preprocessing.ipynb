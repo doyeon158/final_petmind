{
 "cells": [
  {
   "cell_type": "code",
   "execution_count": null,
   "id": "47782693",
   "metadata": {},
   "outputs": [
    {
     "name": "stdout",
     "output_type": "stream",
     "text": [
      "<class 'pandas.core.frame.DataFrame'>\n",
      "RangeIndex: 133 entries, 0 to 132\n",
      "Data columns (total 4 columns):\n",
      " #   Column   Non-Null Count  Dtype \n",
      "---  ------   --------------  ----- \n",
      " 0   title    133 non-null    object\n",
      " 1   content  133 non-null    object\n",
      " 2   url      133 non-null    object\n",
      " 3   image    133 non-null    object\n",
      "dtypes: object(4)\n",
      "memory usage: 4.3+ KB\n"
     ]
    }
   ],
   "source": [
    "import pandas as pd\n",
    "\n",
    "df = pd.read_csv('8_hidoc_articles.csv', encoding='utf-8-sig')\n",
    "df.info()"
   ]
  },
  {
   "cell_type": "code",
   "execution_count": 39,
   "id": "932d4f91",
   "metadata": {},
   "outputs": [
    {
     "name": "stdout",
     "output_type": "stream",
     "text": [
      "✅ 전처리 완료 → 8_hidoc_articles_preprocessing.csv\n"
     ]
    }
   ],
   "source": [
    "import pandas as pd\n",
    "import re\n",
    "\n",
    "# 예시 데이터프레임 불러오기\n",
    "df = pd.read_csv(\"8_hidoc_articles.csv\", encoding=\"utf-8-sig\")\n",
    "\n",
    "\n",
    "def remove_q_dot(text):\n",
    "    return re.sub(r'q. ', '', text)\n",
    "\n",
    "\n",
    "def clean_content(text):\n",
    "    if pd.isna(text):\n",
    "        return \"\"\n",
    "\n",
    "    # 1. 소문자로 변환\n",
    "    text = text.lower()\n",
    "\n",
    "    # 2. 특정 특수문자 제거\n",
    "    text = re.sub(r\"[△ㅣ…“”‘’!\\\"\\\"\\'\\-]\", \"\", text)\n",
    "\n",
    "    # 3. 괄호 () 안 내용 포함 제거\n",
    "    text = re.sub(r\"\\([^)]*\\)\", \"\", text)\n",
    "\n",
    "    # 4. [인터뷰], [건강톡톡] 제거 (대괄호 안 전체 제거해도 무방)\n",
    "    text = re.sub(r\"\\[[^\\]]+\\]\", \"\", text)\n",
    "\n",
    "    # 5. '글 ='이 포함된 줄 제거\n",
    "    lines = text.splitlines()\n",
    "    lines = [line for line in lines if \"글 =\" not in line]\n",
    "    text = \"\\n\".join(lines)\n",
    "\n",
    "    # 공백 정리\n",
    "    text = re.sub(r\"\\s+\", \" \", text).strip()\n",
    "\n",
    "    return text\n",
    "\n",
    "\n",
    "def clean_title(text):\n",
    "    if pd.isna(text):\n",
    "        return \"\"\n",
    "\n",
    "    # 1. 소문자로 변환\n",
    "    text = text.lower()\n",
    "\n",
    "    # 2. 특정 특수문자 제거\n",
    "    text = re.sub(r\"[△ㅣ…“”‘’.?!\\\"\\\"\\'\\-]\", \"\", text)\n",
    "\n",
    "    # 3. 괄호 () 안 내용 포함 제거\n",
    "    text = re.sub(r\"\\([^)]*\\)\", \"\", text)\n",
    "\n",
    "    # 4. [인터뷰], [건강톡톡] 제거 (대괄호 안 전체 제거해도 무방)\n",
    "    text = re.sub(r\"\\[[^\\]]+\\]\", \"\", text)\n",
    "\n",
    "\n",
    "    # 공백 정리\n",
    "    text = re.sub(r\"\\s+\", \" \", text).strip()\n",
    "\n",
    "    return text\n",
    "\n",
    "\n",
    "# 전처리 적용\n",
    "df[\"content\"] = df[\"content\"].apply(remove_q_dot)\n",
    "df[\"content\"] = df[\"content\"].apply(clean_content)\n",
    "df[\"title\"] = df[\"title\"].apply(clean_title)\n",
    "\n",
    "# 결과 저장\n",
    "df.to_csv(\"8_hidoc_articles_preprocessing.csv\", index=False, encoding=\"utf-8-sig\")\n",
    "print(\"✅ 전처리 완료 → 8_hidoc_articles_preprocessing.csv\")\n"
   ]
  },
  {
   "cell_type": "code",
   "execution_count": 41,
   "id": "ee671b4e",
   "metadata": {},
   "outputs": [
    {
     "data": {
      "text/plain": [
       "0      추간판 탈출증은 방치될 시 신경 손상이 진행되어 다양한 합병증이 발생할 수 있다. ...\n",
       "1      신경 써서 관리해도 강아지는 눈물자국이 쉽게 생긴다. 반려견의 눈 주위가 젖어있고,...\n",
       "2      소형견을 키우는 보호자의 가장 큰 걱정거리인 슬개골 탈구. 반려견이 두 발로 서면 ...\n",
       "38     반려견을 키우는 가정이 늘어나면서 개 물림 사고도 늘고 있다. 소방청에 따르면 최근...\n",
       "50     심장은 24시간 쉬지 않고 움직이며 산소와 영양분을 싣고 있는 혈액을 온몸에 흐르게...\n",
       "111    최근 코로나19의 동물감염 사례가 연이어 알려지며, 동물사람의 이종 간 전염이 현실...\n",
       "Name: content, dtype: object"
      ]
     },
     "execution_count": 41,
     "metadata": {},
     "output_type": "execute_result"
    }
   ],
   "source": [
    "# 실제로 어떤 형태인지 확인해보기\n",
    "df[df[\"content\"].str.contains(\"q. \", na=False)].head(10)[\"content\"]\n"
   ]
  },
  {
   "cell_type": "code",
   "execution_count": 42,
   "id": "d984b82f",
   "metadata": {},
   "outputs": [
    {
     "name": "stdout",
     "output_type": "stream",
     "text": [
      "                                title  \\\n",
      "4     숨 못 쉬고 캑캑 기침하는 반려동물올바른 응급처치 방법은   \n",
      "6         중년 여성에 특히 좋은 무화과 효능잘 고르는 법은   \n",
      "12  진드기가 옮기는 이 질환, 생명까지 위협해피하는 방법 없을까   \n",
      "14          필요가 아닌 필수반려동물의 생애주기별 건강검진   \n",
      "15          반려가족 50%가 겪는 펫로스 증후군극복하려면   \n",
      "\n",
      "                                              content  \\\n",
      "4   반려동물과 함께 생활하다 보면, 예기치 못한 응급상황이 찾아오는 경우가 간혹 있다....   \n",
      "6   무화과의 철이 찾아왔다. 무화과는 달콤한 맛을 내면서도 낮은 칼로리 덕분에 체중 관...   \n",
      "12  날이 풀리면서 야외에서 보내는 시간이 늘어남에 따라, 야생 진드기에 노출될 위험도 ...   \n",
      "14  이현아 수의사 말 못하는 반려동물, 몸짓과 눈빛으로 건강 상태 표현해 나이대별 예방...   \n",
      "15  최근 반려견과의 일상을 올리던 한 유튜버가 반려견 사후 1년 만에 반려견을 복제한 ...   \n",
      "\n",
      "                                                  URL  \\\n",
      "4   https://news.hidoc.co.kr/news/articleView.html...   \n",
      "6   https://news.hidoc.co.kr/news/articleView.html...   \n",
      "12  https://news.hidoc.co.kr/news/articleView.html...   \n",
      "14  https://news.hidoc.co.kr/news/articleView.html...   \n",
      "15  https://news.hidoc.co.kr/news/articleView.html...   \n",
      "\n",
      "                                                image  \n",
      "4   https://cdn.news.hidoc.co.kr/news/thumbnail/20...  \n",
      "6   https://cdn.news.hidoc.co.kr/news/thumbnail/20...  \n",
      "12  https://cdn.news.hidoc.co.kr/news/thumbnail/20...  \n",
      "14  https://cdn.news.hidoc.co.kr/news/thumbnail/20...  \n",
      "15  https://cdn.news.hidoc.co.kr/news/thumbnail/20...  \n"
     ]
    }
   ],
   "source": [
    "import pandas as pd\n",
    "\n",
    "# 파일 불러오기 (예시 파일명)\n",
    "df = pd.read_csv(\"8_hidoc_articles_preprocessing.csv\", encoding=\"utf-8-sig\")\n",
    "\n",
    "# 제외할 키워드 목록\n",
    "exclude_keywords = [\"반려견\", \"강아지\", \"개\"]\n",
    "\n",
    "# 정규표현식으로 필터링 (대소문자 구분 없음)\n",
    "mask = ~df[\"title\"].str.contains(\"|\".join(exclude_keywords), case=False, na=False)\n",
    "\n",
    "# 조건에 맞는 행만 추출\n",
    "df_filtered = df[mask]\n",
    "\n",
    "# 결과 미리보기\n",
    "print(df_filtered.head())\n"
   ]
  },
  {
   "cell_type": "code",
   "execution_count": 45,
   "id": "8e7bb254",
   "metadata": {},
   "outputs": [
    {
     "name": "stdout",
     "output_type": "stream",
     "text": [
      "✅ 인덱스 4, 12, 15 제거 완료\n"
     ]
    }
   ],
   "source": [
    "import pandas as pd\n",
    "\n",
    "# CSV 또는 DataFrame 불러오기\n",
    "df = pd.read_csv(\"8_hidoc_articles_preprocessing.csv\", encoding=\"utf-8-sig\")\n",
    "\n",
    "# 제거할 인덱스 번호 리스트\n",
    "indexes_to_remove = [4, 12, 15]\n",
    "\n",
    "# 행 제거\n",
    "df = df.drop(indexes_to_remove)\n",
    "\n",
    "# 인덱스 리셋 (선택적)\n",
    "df = df.reset_index(drop=True)\n",
    "\n",
    "# 저장 (선택)\n",
    "df.to_csv(\"8_hidoc_articles_preprocessing.csv\", index=False, encoding=\"utf-8-sig\")\n",
    "\n",
    "print(\"✅ 인덱스 4, 12, 15 제거 완료\")\n"
   ]
  },
  {
   "cell_type": "code",
   "execution_count": 46,
   "id": "c20c5604",
   "metadata": {},
   "outputs": [
    {
     "name": "stdout",
     "output_type": "stream",
     "text": [
      "<class 'pandas.core.frame.DataFrame'>\n",
      "RangeIndex: 130 entries, 0 to 129\n",
      "Data columns (total 4 columns):\n",
      " #   Column   Non-Null Count  Dtype \n",
      "---  ------   --------------  ----- \n",
      " 0   title    130 non-null    object\n",
      " 1   content  130 non-null    object\n",
      " 2   URL      130 non-null    object\n",
      " 3   image    130 non-null    object\n",
      "dtypes: object(4)\n",
      "memory usage: 4.2+ KB\n"
     ]
    }
   ],
   "source": [
    "df.info()"
   ]
  }
 ],
 "metadata": {
  "kernelspec": {
   "display_name": "pystudy_env",
   "language": "python",
   "name": "python3"
  },
  "language_info": {
   "codemirror_mode": {
    "name": "ipython",
    "version": 3
   },
   "file_extension": ".py",
   "mimetype": "text/x-python",
   "name": "python",
   "nbconvert_exporter": "python",
   "pygments_lexer": "ipython3",
   "version": "3.12.9"
  }
 },
 "nbformat": 4,
 "nbformat_minor": 5
}
